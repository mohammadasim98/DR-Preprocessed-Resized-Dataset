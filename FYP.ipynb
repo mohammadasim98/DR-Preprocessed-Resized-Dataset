{
  "nbformat": 4,
  "nbformat_minor": 0,
  "metadata": {
    "colab": {
      "name": "Copy of FinalYearProject.ipynb",
      "provenance": [],
      "collapsed_sections": []
    },
    "kernelspec": {
      "name": "python3",
      "display_name": "Python 3"
    },
    "accelerator": "GPU"
  },
  "cells": [
    {
      "cell_type": "code",
      "metadata": {
        "id": "Gofg-bCfqj-S",
        "colab": {
          "base_uri": "https://localhost:8080/"
        },
        "outputId": "214fbe24-7d1a-4806-8f97-62da543eda8d"
      },
      "source": [
        ""
      ],
      "execution_count": null,
      "outputs": [
        {
          "output_type": "stream",
          "text": [
            "/usr/local/bin/pip: /usr/local/bin/pip3: /usr/bin/python3: bad interpreter: No such file or directory\n",
            "/usr/local/bin/pip: line 50: /usr/local/bin/pip3: Success\n"
          ],
          "name": "stdout"
        }
      ]
    },
    {
      "cell_type": "code",
      "metadata": {
        "colab": {
          "base_uri": "https://localhost:8080/"
        },
        "id": "MhmJ2SNdCM8c",
        "outputId": "2a9324d9-e319-4639-aedc-27a56083e55d"
      },
      "source": [
        "!env"
      ],
      "execution_count": null,
      "outputs": [
        {
          "output_type": "stream",
          "text": [
            "CUDNN_VERSION=7.6.5.32\n",
            "__EGL_VENDOR_LIBRARY_DIRS=/usr/lib64-nvidia:/usr/share/glvnd/egl_vendor.d/\n",
            "LD_LIBRARY_PATH=/usr/lib64-nvidia\n",
            "CLOUDSDK_PYTHON=python3\n",
            "LANG=en_US.UTF-8\n",
            "HOSTNAME=9c8eaf16da7e\n",
            "OLDPWD=/\n",
            "CLOUDSDK_CONFIG=/content/.config\n",
            "NVIDIA_VISIBLE_DEVICES=all\n",
            "DATALAB_SETTINGS_OVERRIDES={\"kernelManagerProxyPort\":6000,\"kernelManagerProxyHost\":\"172.28.0.3\",\"jupyterArgs\":[\"--ip=\\\"172.28.0.2\\\"\"],\"debugAdapterMultiplexerPath\":\"/usr/local/bin/dap_multiplexer\"}\n",
            "ENV=/root/.bashrc\n",
            "PAGER=cat\n",
            "NCCL_VERSION=2.8.3\n",
            "TF_FORCE_GPU_ALLOW_GROWTH=true\n",
            "JPY_PARENT_PID=47\n",
            "NO_GCE_CHECK=True\n",
            "PWD=/content\n",
            "HOME=/root\n",
            "LAST_FORCED_REBUILD=202102019\n",
            "CLICOLOR=1\n",
            "DEBIAN_FRONTEND=noninteractive\n",
            "LIBRARY_PATH=/usr/local/cuda/lib64/stubs\n",
            "GCE_METADATA_TIMEOUT=0\n",
            "GLIBCPP_FORCE_NEW=1\n",
            "TBE_CREDS_ADDR=172.28.0.1:8008\n",
            "TERM=xterm-color\n",
            "SHELL=/bin/bash\n",
            "GCS_READ_CACHE_BLOCK_SIZE_MB=16\n",
            "PYTHONWARNINGS=ignore:::pip._internal.cli.base_command\n",
            "MPLBACKEND=module://ipykernel.pylab.backend_inline\n",
            "CUDA_PKG_VERSION=10-1=10.1.243-1\n",
            "CUDA_VERSION=10.1.243\n",
            "NVIDIA_DRIVER_CAPABILITIES=compute,utility\n",
            "SHLVL=1\n",
            "PYTHONPATH=/env/python\n",
            "NVIDIA_REQUIRE_CUDA=cuda>=10.1 brand=tesla,driver>=396,driver<397 brand=tesla,driver>=410,driver<411 brand=tesla,driver>=418,driver<419\n",
            "COLAB_GPU=1\n",
            "GLIBCXX_FORCE_NEW=1\n",
            "PATH=/usr/local/nvidia/bin:/usr/local/cuda/bin:/usr/local/sbin:/usr/local/bin:/usr/sbin:/usr/bin:/sbin:/bin:/tools/node/bin:/tools/google-cloud-sdk/bin:/opt/bin\n",
            "LD_PRELOAD=/usr/lib/x86_64-linux-gnu/libtcmalloc.so.4\n",
            "GIT_PAGER=cat\n",
            "_=/usr/bin/env\n"
          ],
          "name": "stdout"
        }
      ]
    },
    {
      "cell_type": "code",
      "metadata": {
        "colab": {
          "base_uri": "https://localhost:8080/"
        },
        "id": "GMFfQ9pUBDeZ",
        "outputId": "c227ba08-7c6a-4a33-a375-8fdecb6e047a"
      },
      "source": [
        "!sudo apt-get purge cuda\n",
        "!sudo apt-get purge libcudnn6\n",
        "!sudo apt-get purge libcudnn6-dev"
      ],
      "execution_count": null,
      "outputs": [
        {
          "output_type": "stream",
          "text": [
            "Reading package lists... Done\n",
            "Building dependency tree       \n",
            "Reading state information... Done\n",
            "Package 'cuda' is not installed, so not removed\n",
            "0 upgraded, 0 newly installed, 0 to remove and 13 not upgraded.\n",
            "Reading package lists... Done\n",
            "Building dependency tree       \n",
            "Reading state information... Done\n",
            "E: Unable to locate package libcudnn\n",
            "Reading package lists... Done\n",
            "Building dependency tree       \n",
            "Reading state information... Done\n",
            "E: Unable to locate package libcudnn-dev\n"
          ],
          "name": "stdout"
        }
      ]
    },
    {
      "cell_type": "code",
      "metadata": {
        "id": "xgmosJaboE_k",
        "colab": {
          "base_uri": "https://localhost:8080/"
        },
        "outputId": "641da90e-6528-4b11-a7f2-b2ba4c52c087"
      },
      "source": [
        "!pip uninstall tf-nightly-1.12 --yes"
      ],
      "execution_count": null,
      "outputs": [
        {
          "output_type": "stream",
          "text": [
            "\u001b[33mWARNING: Skipping tf-nightly-1.12 as it is not installed.\u001b[0m\n"
          ],
          "name": "stdout"
        }
      ]
    },
    {
      "cell_type": "code",
      "metadata": {
        "id": "mAMlewteps_U"
      },
      "source": [
        "!sudo update-alternatives --install /usr/local/bin/python3 python3 /usr/bin/python3.6 1\n",
        "!sudo update-alternatives --install /usr/local/bin/python3 python3 /usr/bin/python3.7 2\n",
        "!update-alternatives --list python3\n",
        "!sudo update-alternatives --config python3\n",
        "!ls -l /usr/local/bin/python3 /etc/alternatives/python3\n",
        "!sudo apt-get install python3-pip\n",
        "!python3 -m pip install tensorflow==1.12\n",
        "!python3 -m pip install tensorflow-gpu==1.12\n",
        "!python3 -m pip uninstall tensorboard-plugin-wit --yes\n",
        "!python3 -m pip install keras==2.2.4\n",
        "!sudo apt-get purge cuda\n",
        "!sudo apt-get purge libcudnn6\n",
        "!sudo apt-get purge libcudnn6-dev\n",
        "!wget http://developer.download.nvidia.com/compute/cuda/repos/ubuntu1604/x86_64/cuda-repo-ubuntu1604_9.0.176-1_amd64.deb\n",
        "!wget http://developer.download.nvidia.com/compute/machine-learning/repos/ubuntu1604/x86_64/libcudnn7_7.0.5.15-1+cuda9.0_amd64.deb\n",
        "!wget http://developer.download.nvidia.com/compute/machine-learning/repos/ubuntu1604/x86_64/libcudnn7-dev_7.0.5.15-1+cuda9.0_amd64.deb\n",
        "!wget http://developer.download.nvidia.com/compute/machine-learning/repos/ubuntu1604/x86_64/libnccl2_2.1.4-1+cuda9.0_amd64.deb\n",
        "!wget http://developer.download.nvidia.com/compute/machine-learning/repos/ubuntu1604/x86_64/libnccl-dev_2.1.4-1+cuda9.0_amd64.deb\n",
        "!sudo dpkg -i cuda-repo-ubuntu1604_9.0.176-1_amd64.deb\n",
        "!sudo apt-get update\n",
        "!sudo apt-get install cuda=9.0.176-1\n",
        "!sudo apt-get install libcudnn7-dev\n",
        "!sudo apt-get install libnccl-dev"
      ],
      "execution_count": null,
      "outputs": []
    },
    {
      "cell_type": "code",
      "metadata": {
        "colab": {
          "base_uri": "https://localhost:8080/"
        },
        "id": "bHOEa0L4li-s",
        "outputId": "52988f68-eb43-4537-bdf7-55575e7ad4fb"
      },
      "source": [
        "!export PATH=/usr/local/bin:$PATH\n",
        "!echo $PATH"
      ],
      "execution_count": null,
      "outputs": [
        {
          "output_type": "stream",
          "text": [
            "/usr/local/nvidia/bin:/usr/local/cuda/bin:/usr/local/sbin:/usr/local/bin:/usr/sbin:/usr/bin:/sbin:/bin:/tools/node/bin:/tools/google-cloud-sdk/bin:/opt/bin\n"
          ],
          "name": "stdout"
        }
      ]
    },
    {
      "cell_type": "code",
      "metadata": {
        "id": "r3oDZVfVim1l"
      },
      "source": [
        "import sys\n",
        "sys.path = ['',\n",
        " '/content',\n",
        " '/usr/bin/python3.6',\n",
        " '/usr/bin/python3.7',\n",
        " '/usr/lib/python36.zip',\n",
        " '/usr/lib/python37.zip',\n",
        " '/usr/lib/python3.6',\n",
        " '/usr/lib/python3.6/lib-dynload',\n",
        " '/usr/local/lib/python3.6/dist-packages',\n",
        " '/usr/lib/python3.7',\n",
        " '/usr/lib/python3.7/lib-dynload',\n",
        " '/usr/local/lib/python3.7/dist-packages',\n",
        " '/usr/lib/python3/dist-packages',\n",
        " '/usr/local/lib/python3.6/dist-packages/IPython/extensions',\n",
        " '/usr/local/lib/python3.7/dist-packages/IPython/extensions',\n",
        " '/root/.ipython']"
      ],
      "execution_count": null,
      "outputs": []
    },
    {
      "cell_type": "code",
      "metadata": {
        "id": "M4WqG8TaoTnu"
      },
      "source": [
        "!sudo rm -r /usr/lib/python3.7\n",
        "!sudo rm -r /usr/local/lib/python3.7\n",
        "!sudo rm -r /usr/bin/python3.7\n",
        "!sudo rm -r /usr/bin/python3.7m\n",
        "!sudo rm -r /usr/bin/python3.7-config\n",
        "!sudo rm -r /usr/bin/python3.7m-config"
      ],
      "execution_count": null,
      "outputs": []
    },
    {
      "cell_type": "code",
      "metadata": {
        "id": "-i7ukBa6NXkc",
        "colab": {
          "base_uri": "https://localhost:8080/"
        },
        "outputId": "391278e5-5169-498c-be6b-6f69b8c30794"
      },
      "source": [
        "!which python # should return /usr/local/bin/python\n",
        "!python --version\n",
        "!echo $PYTHONPATH"
      ],
      "execution_count": null,
      "outputs": [
        {
          "output_type": "stream",
          "text": [
            "/usr/local/bin/python\n",
            "Python 3.6.9\n",
            "/env/python\n"
          ],
          "name": "stdout"
        }
      ]
    },
    {
      "cell_type": "code",
      "metadata": {
        "id": "OJUUTzk_av7U"
      },
      "source": [
        "%%bash\n",
        "MINICONDA_INSTALLER_SCRIPT=Miniconda3-4.5.4-Linux-x86_64.sh\n",
        "MINICONDA_PREFIX=/usr/local\n",
        "wget https://repo.continuum.io/miniconda/$MINICONDA_INSTALLER_SCRIPT\n",
        "chmod +x $MINICONDA_INSTALLER_SCRIPT\n",
        "./$MINICONDA_INSTALLER_SCRIPT -b -f -p $MINICONDA_PREFIX"
      ],
      "execution_count": null,
      "outputs": []
    },
    {
      "cell_type": "code",
      "metadata": {
        "id": "IRO_FxbXb1hc"
      },
      "source": [
        "!which conda # should return /usr/local/bin/conda\n",
        "!which python # still returns /usr/local/bin/python\n",
        "!python --version # now returns Python 3.6.5 :: Anaconda, Inc."
      ],
      "execution_count": null,
      "outputs": []
    },
    {
      "cell_type": "code",
      "metadata": {
        "id": "WI_OzEenb5Rn"
      },
      "source": [
        "%%bash\n",
        "conda install --channel defaults conda python=3.6 --yes\n",
        "conda update --channel defaults --all --yes\n"
      ],
      "execution_count": null,
      "outputs": []
    },
    {
      "cell_type": "code",
      "metadata": {
        "id": "g-bfwzrVb7zw"
      },
      "source": [
        "!conda --version # now returns 4.8.3\n",
        "!python --version # now returns Python 3.6.10 :: Anaconda, Inc."
      ],
      "execution_count": null,
      "outputs": []
    },
    {
      "cell_type": "code",
      "metadata": {
        "id": "uwOM_AIvDnu6"
      },
      "source": [
        "!source ~/.bashrc"
      ],
      "execution_count": null,
      "outputs": []
    },
    {
      "cell_type": "code",
      "metadata": {
        "id": "-oW7NJqnEr2H"
      },
      "source": [
        "!conda init bash"
      ],
      "execution_count": null,
      "outputs": []
    },
    {
      "cell_type": "code",
      "metadata": {
        "id": "hD7Ac2sHFSwU"
      },
      "source": [
        ""
      ],
      "execution_count": null,
      "outputs": []
    },
    {
      "cell_type": "code",
      "metadata": {
        "id": "saF4NHsgbDbv"
      },
      "source": [
        "\n",
        "!add-apt-repository ppa:deadsnakes/ppa\n",
        "!apt-get update\n",
        "!apt-get install python3.6\n",
        "!apt-get install python3.6-dev\n",
        "!wget https://bootstrap.pypa.io/get-pip.py && python3.6 get-pip.py\n",
        "\n",
        "import sys\n",
        "sys.path[3]='/usr/local/lib/python36.zip'\n",
        "sys.path[4]='/usr/local/lib/python3.6'\n",
        "sys.path[5]='/usr/local/lib/python3.6/lib-dynload'\n",
        "sys.path[6]='/usr/local/lib/python3.6/dist-packages'\n",
        "sys.path[8]='/usr/local/lib/python3.6/dist-packages/IPython/extensions'\n"
      ],
      "execution_count": null,
      "outputs": []
    },
    {
      "cell_type": "code",
      "metadata": {
        "colab": {
          "base_uri": "https://localhost:8080/"
        },
        "id": "IkTF2mt5ezni",
        "outputId": "6e955e48-3d78-43a2-ff62-014d5b402fd4"
      },
      "source": [
        "import tensorflow as tf\n",
        "print(tf.__version__)"
      ],
      "execution_count": null,
      "outputs": [
        {
          "output_type": "stream",
          "text": [
            "1.15.2\n"
          ],
          "name": "stdout"
        }
      ]
    },
    {
      "cell_type": "code",
      "metadata": {
        "colab": {
          "base_uri": "https://localhost:8080/"
        },
        "id": "jQAzKRlccchF",
        "outputId": "0427886d-441d-4bbc-9d88-59a14385cdec"
      },
      "source": [
        "!python --version"
      ],
      "execution_count": null,
      "outputs": [
        {
          "output_type": "stream",
          "text": [
            "Python 3.6.12 :: Anaconda, Inc.\n"
          ],
          "name": "stdout"
        }
      ]
    },
    {
      "cell_type": "code",
      "metadata": {
        "id": "sn3gGpufsvOZ"
      },
      "source": [
        "\n",
        "!pip install tensorflow==1.13.1 \n",
        "!pip install keras==2.2.4"
      ],
      "execution_count": null,
      "outputs": []
    },
    {
      "cell_type": "code",
      "metadata": {
        "id": "9umpcoGQ83yH"
      },
      "source": [
        "!sudo apt-get purge cuda\n",
        "!sudo apt-get purge libcudnn6\n",
        "!sudo apt-get purge libcudnn6-dev\n",
        "\n",
        "!wget http://developer.download.nvidia.com/compute/cuda/repos/ubuntu1604/x86_64/cuda-repo-ubuntu1604_9.0.176-1_amd64.deb\n",
        "!wget http://developer.download.nvidia.com/compute/machine-learning/repos/ubuntu1604/x86_64/libcudnn7_7.0.5.15-1+cuda9.0_amd64.deb\n",
        "!wget http://developer.download.nvidia.com/compute/machine-learning/repos/ubuntu1604/x86_64/libcudnn7-dev_7.0.5.15-1+cuda9.0_amd64.deb\n",
        "!wget http://developer.download.nvidia.com/compute/machine-learning/repos/ubuntu1604/x86_64/libnccl2_2.1.4-1+cuda9.0_amd64.deb\n",
        "!wget http://developer.download.nvidia.com/compute/machine-learning/repos/ubuntu1604/x86_64/libnccl-dev_2.1.4-1+cuda9.0_amd64.deb\n",
        "!sudo dpkg -i cuda-repo-ubuntu1604_9.0.176-1_amd64.deb\n",
        "!sudo apt-get update\n",
        "!sudo apt-get install cuda=9.0.176-1\n",
        "!sudo apt-get install libcudnn7-dev\n",
        "!sudo apt-get install libnccl-dev"
      ],
      "execution_count": null,
      "outputs": []
    },
    {
      "cell_type": "code",
      "metadata": {
        "id": "DE9QAHKw9ICP"
      },
      "source": [
        "!export PATH=/usr/local/cuda-9.0/bin${PATH:+:${PATH}}\n",
        "!export LD_LIBRARY_PATH=/usr/local/cuda-9.0/lib64${LD_LIBRARY_PATH:+:${LD_LIBRARY_PATH}}\n",
        "!sudo cp /usr/include/cudnn.h /usr/local/cuda/include"
      ],
      "execution_count": null,
      "outputs": []
    },
    {
      "cell_type": "code",
      "metadata": {
        "colab": {
          "base_uri": "https://localhost:8080/"
        },
        "id": "VLa354JTTkYp",
        "outputId": "4aeac716-4145-4c03-d722-a234b751911f"
      },
      "source": [
        "!conda install h5py"
      ],
      "execution_count": null,
      "outputs": [
        {
          "output_type": "stream",
          "text": [
            "Collecting package metadata (current_repodata.json): - \b\b\\ \b\b| \b\b/ \b\b- \b\bdone\n",
            "Solving environment: | \b\b/ \b\b- \b\b\\ \b\bdone\n",
            "\n",
            "# All requested packages already installed.\n",
            "\n"
          ],
          "name": "stdout"
        }
      ]
    },
    {
      "cell_type": "code",
      "metadata": {
        "colab": {
          "base_uri": "https://localhost:8080/"
        },
        "id": "9EcT3GGgT-LL",
        "outputId": "ca8a5264-338b-4cbd-86d9-a3a251980358"
      },
      "source": [
        "!pip show keras "
      ],
      "execution_count": null,
      "outputs": [
        {
          "output_type": "stream",
          "text": [
            "Name: Keras\n",
            "Version: 2.2.4\n",
            "Summary: Deep Learning for humans\n",
            "Home-page: https://github.com/keras-team/keras\n",
            "Author: Francois Chollet\n",
            "Author-email: francois.chollet@gmail.com\n",
            "License: MIT\n",
            "Location: /usr/local/lib/python3.6/site-packages\n",
            "Requires: numpy, pyyaml, keras-preprocessing, scipy, six, h5py, keras-applications\n",
            "Required-by: \n"
          ],
          "name": "stdout"
        }
      ]
    },
    {
      "cell_type": "code",
      "metadata": {
        "colab": {
          "base_uri": "https://localhost:8080/",
          "height": 132
        },
        "id": "smxtfzIayNYb",
        "outputId": "085a6653-8085-420f-fabe-0dac9781c8a1"
      },
      "source": [
        "vi ~/.bash_profile \n",
        "alias python='/usr/local/bin/python3' "
      ],
      "execution_count": null,
      "outputs": [
        {
          "output_type": "error",
          "ename": "SyntaxError",
          "evalue": "ignored",
          "traceback": [
            "\u001b[0;36m  File \u001b[0;32m\"<ipython-input-1-8c929fd965c6>\"\u001b[0;36m, line \u001b[0;32m1\u001b[0m\n\u001b[0;31m    vi ~/.bash_profile\u001b[0m\n\u001b[0m       ^\u001b[0m\n\u001b[0;31mSyntaxError\u001b[0m\u001b[0;31m:\u001b[0m invalid syntax\n"
          ]
        }
      ]
    },
    {
      "cell_type": "code",
      "metadata": {
        "id": "oppMQ81WFDi_"
      },
      "source": [
        "import sys\n",
        "sys.path = ['',  \n",
        " '/env/python',\n",
        " '/usr/lib/python36.zip',\n",
        " '/usr/lib/python3.6',\n",
        " '/usr/lib/python3.6/lib-dynload',\n",
        " '/usr/local/lib/python3.6/dist-packages', # pre-installed packages\n",
        " '/usr/lib/python3/dist-packages',\n",
        " '/usr/local/lib/python3.6/dist-packages/IPython/extensions',\n",
        " '/root/.ipython']\n",
        "_ = (sys.path.append(\"/usr/local/lib/python3.6/site-packages\"))"
      ],
      "execution_count": null,
      "outputs": []
    },
    {
      "cell_type": "code",
      "metadata": {
        "id": "cLSSesmdFtKl"
      },
      "source": [
        "!conda install --channel conda-forge featuretools --yes"
      ],
      "execution_count": null,
      "outputs": []
    },
    {
      "cell_type": "code",
      "metadata": {
        "id": "YJdAU8SKHxIU"
      },
      "source": [
        "!pip uninstall scipy --yes"
      ],
      "execution_count": null,
      "outputs": []
    },
    {
      "cell_type": "code",
      "metadata": {
        "id": "22hGJyzEWI7Y"
      },
      "source": [
        "!conda update numpy scipy matplotlib ipython jupyter pandas sympy nose"
      ],
      "execution_count": null,
      "outputs": []
    },
    {
      "cell_type": "code",
      "metadata": {
        "id": "0MRlTkc2Vmff"
      },
      "source": [
        "!python -m pip install numpy scipy matplotlib ipython jupyter pandas sympy nose"
      ],
      "execution_count": null,
      "outputs": []
    },
    {
      "cell_type": "code",
      "metadata": {
        "id": "JFm5zo6HqwHU",
        "colab": {
          "base_uri": "https://localhost:8080/"
        },
        "outputId": "de2d58fe-2ca7-494e-c21c-32b98f51513a"
      },
      "source": [
        "import tensorflow as tf\n",
        "!python3 -c 'import keras; print(keras.__version__)'\n",
        "\n",
        "print(tf.__version__)\n",
        "\n",
        "tf.enable_eager_execution()\n",
        "tf.executing_eagerly()"
      ],
      "execution_count": null,
      "outputs": [
        {
          "output_type": "stream",
          "text": [
            "Using TensorFlow backend.\n",
            "/usr/local/lib/python3.6/dist-packages/tensorflow/python/framework/dtypes.py:523: FutureWarning: Passing (type, 1) or '1type' as a synonym of type is deprecated; in a future version of numpy, it will be understood as (type, (1,)) / '(1,)type'.\n",
            "  _np_qint8 = np.dtype([(\"qint8\", np.int8, 1)])\n",
            "/usr/local/lib/python3.6/dist-packages/tensorflow/python/framework/dtypes.py:524: FutureWarning: Passing (type, 1) or '1type' as a synonym of type is deprecated; in a future version of numpy, it will be understood as (type, (1,)) / '(1,)type'.\n",
            "  _np_quint8 = np.dtype([(\"quint8\", np.uint8, 1)])\n",
            "/usr/local/lib/python3.6/dist-packages/tensorflow/python/framework/dtypes.py:525: FutureWarning: Passing (type, 1) or '1type' as a synonym of type is deprecated; in a future version of numpy, it will be understood as (type, (1,)) / '(1,)type'.\n",
            "  _np_qint16 = np.dtype([(\"qint16\", np.int16, 1)])\n",
            "/usr/local/lib/python3.6/dist-packages/tensorflow/python/framework/dtypes.py:526: FutureWarning: Passing (type, 1) or '1type' as a synonym of type is deprecated; in a future version of numpy, it will be understood as (type, (1,)) / '(1,)type'.\n",
            "  _np_quint16 = np.dtype([(\"quint16\", np.uint16, 1)])\n",
            "/usr/local/lib/python3.6/dist-packages/tensorflow/python/framework/dtypes.py:527: FutureWarning: Passing (type, 1) or '1type' as a synonym of type is deprecated; in a future version of numpy, it will be understood as (type, (1,)) / '(1,)type'.\n",
            "  _np_qint32 = np.dtype([(\"qint32\", np.int32, 1)])\n",
            "/usr/local/lib/python3.6/dist-packages/tensorflow/python/framework/dtypes.py:532: FutureWarning: Passing (type, 1) or '1type' as a synonym of type is deprecated; in a future version of numpy, it will be understood as (type, (1,)) / '(1,)type'.\n",
            "  np_resource = np.dtype([(\"resource\", np.ubyte, 1)])\n",
            "2.2.5\n",
            "1.12.0\n"
          ],
          "name": "stdout"
        },
        {
          "output_type": "execute_result",
          "data": {
            "text/plain": [
              "True"
            ]
          },
          "metadata": {
            "tags": []
          },
          "execution_count": 10
        }
      ]
    },
    {
      "cell_type": "code",
      "metadata": {
        "colab": {
          "base_uri": "https://localhost:8080/"
        },
        "id": "eBxuggxvoUQm",
        "outputId": "4a7b6ee1-0817-4117-ebac-3f00a1b652e6"
      },
      "source": [
        "!sudo apt-get install python-pip"
      ],
      "execution_count": null,
      "outputs": [
        {
          "output_type": "stream",
          "text": [
            "Reading package lists... Done\n",
            "Building dependency tree       \n",
            "Reading state information... Done\n",
            "The following additional packages will be installed:\n",
            "  libpython-all-dev python-all python-all-dev python-asn1crypto\n",
            "  python-cffi-backend python-crypto python-cryptography python-dbus\n",
            "  python-enum34 python-gi python-idna python-ipaddress python-keyring\n",
            "  python-keyrings.alt python-pkg-resources python-secretstorage\n",
            "  python-setuptools python-six python-wheel python-xdg\n",
            "Suggested packages:\n",
            "  python-crypto-doc python-cryptography-doc python-cryptography-vectors\n",
            "  python-dbus-dbg python-dbus-doc python-enum34-doc python-gi-cairo\n",
            "  gnome-keyring libkf5wallet-bin gir1.2-gnomekeyring-1.0 python-fs\n",
            "  python-gdata python-keyczar python-secretstorage-doc python-setuptools-doc\n",
            "The following NEW packages will be installed:\n",
            "  libpython-all-dev python-all python-all-dev python-asn1crypto\n",
            "  python-cffi-backend python-crypto python-cryptography python-dbus\n",
            "  python-enum34 python-gi python-idna python-ipaddress python-keyring\n",
            "  python-keyrings.alt python-pip python-pkg-resources python-secretstorage\n",
            "  python-setuptools python-six python-wheel python-xdg\n",
            "0 upgraded, 21 newly installed, 0 to remove and 36 not upgraded.\n",
            "13 not fully installed or removed.\n",
            "Need to get 1,778 kB of archives.\n",
            "After this operation, 8,903 kB of additional disk space will be used.\n",
            "Get:1 http://archive.ubuntu.com/ubuntu bionic/main amd64 libpython-all-dev amd64 2.7.15~rc1-1 [1,092 B]\n",
            "Get:2 http://archive.ubuntu.com/ubuntu bionic/main amd64 python-all amd64 2.7.15~rc1-1 [1,076 B]\n",
            "Get:3 http://archive.ubuntu.com/ubuntu bionic/main amd64 python-all-dev amd64 2.7.15~rc1-1 [1,100 B]\n",
            "Get:4 http://archive.ubuntu.com/ubuntu bionic/main amd64 python-asn1crypto all 0.24.0-1 [72.7 kB]\n",
            "Get:5 http://archive.ubuntu.com/ubuntu bionic/main amd64 python-cffi-backend amd64 1.11.5-1 [63.4 kB]\n",
            "Get:6 http://archive.ubuntu.com/ubuntu bionic/main amd64 python-crypto amd64 2.6.1-8ubuntu2 [244 kB]\n",
            "Get:7 http://archive.ubuntu.com/ubuntu bionic/main amd64 python-enum34 all 1.1.6-2 [34.8 kB]\n",
            "Get:8 http://archive.ubuntu.com/ubuntu bionic/main amd64 python-idna all 2.6-1 [32.4 kB]\n",
            "Get:9 http://archive.ubuntu.com/ubuntu bionic/main amd64 python-ipaddress all 1.0.17-1 [18.2 kB]\n",
            "Get:10 http://archive.ubuntu.com/ubuntu bionic/main amd64 python-six all 1.11.0-2 [11.3 kB]\n",
            "Get:11 http://archive.ubuntu.com/ubuntu bionic-updates/main amd64 python-cryptography amd64 2.1.4-1ubuntu1.4 [276 kB]\n",
            "Get:12 http://archive.ubuntu.com/ubuntu bionic/main amd64 python-dbus amd64 1.2.6-1 [90.2 kB]\n",
            "Get:13 http://archive.ubuntu.com/ubuntu bionic-updates/main amd64 python-gi amd64 3.26.1-2ubuntu1 [197 kB]\n",
            "Get:14 http://archive.ubuntu.com/ubuntu bionic/main amd64 python-secretstorage all 2.3.1-2 [11.8 kB]\n",
            "Get:15 http://archive.ubuntu.com/ubuntu bionic/main amd64 python-keyring all 10.6.0-1 [30.6 kB]\n",
            "Get:16 http://archive.ubuntu.com/ubuntu bionic/main amd64 python-keyrings.alt all 3.0-1 [16.7 kB]\n",
            "Get:17 http://archive.ubuntu.com/ubuntu bionic-updates/universe amd64 python-pip all 9.0.1-2.3~ubuntu1.18.04.4 [151 kB]\n",
            "Get:18 http://archive.ubuntu.com/ubuntu bionic/main amd64 python-pkg-resources all 39.0.1-2 [128 kB]\n",
            "Get:19 http://archive.ubuntu.com/ubuntu bionic/main amd64 python-setuptools all 39.0.1-2 [329 kB]\n",
            "Get:20 http://archive.ubuntu.com/ubuntu bionic/universe amd64 python-wheel all 0.30.0-0.2 [36.4 kB]\n",
            "Get:21 http://archive.ubuntu.com/ubuntu bionic-updates/universe amd64 python-xdg all 0.25-4ubuntu1.1 [31.2 kB]\n",
            "Fetched 1,778 kB in 1s (1,252 kB/s)\n",
            "debconf: unable to initialize frontend: Dialog\n",
            "debconf: (No usable dialog-like program is installed, so the dialog based frontend cannot be used. at /usr/share/perl5/Debconf/FrontEnd/Dialog.pm line 76, <> line 21.)\n",
            "debconf: falling back to frontend: Readline\n",
            "debconf: unable to initialize frontend: Readline\n",
            "debconf: (This frontend requires a controlling tty.)\n",
            "debconf: falling back to frontend: Teletype\n",
            "dpkg-preconfigure: unable to re-open stdin: \n",
            "Selecting previously unselected package libpython-all-dev:amd64.\n",
            "(Reading database ... 159347 files and directories currently installed.)\n",
            "Preparing to unpack .../00-libpython-all-dev_2.7.15~rc1-1_amd64.deb ...\n",
            "Unpacking libpython-all-dev:amd64 (2.7.15~rc1-1) ...\n",
            "Selecting previously unselected package python-all.\n",
            "Preparing to unpack .../01-python-all_2.7.15~rc1-1_amd64.deb ...\n",
            "Unpacking python-all (2.7.15~rc1-1) ...\n",
            "Selecting previously unselected package python-all-dev.\n",
            "Preparing to unpack .../02-python-all-dev_2.7.15~rc1-1_amd64.deb ...\n",
            "Unpacking python-all-dev (2.7.15~rc1-1) ...\n",
            "Selecting previously unselected package python-asn1crypto.\n",
            "Preparing to unpack .../03-python-asn1crypto_0.24.0-1_all.deb ...\n",
            "Unpacking python-asn1crypto (0.24.0-1) ...\n",
            "Selecting previously unselected package python-cffi-backend.\n",
            "Preparing to unpack .../04-python-cffi-backend_1.11.5-1_amd64.deb ...\n",
            "Unpacking python-cffi-backend (1.11.5-1) ...\n",
            "Selecting previously unselected package python-crypto.\n",
            "Preparing to unpack .../05-python-crypto_2.6.1-8ubuntu2_amd64.deb ...\n",
            "Unpacking python-crypto (2.6.1-8ubuntu2) ...\n",
            "Selecting previously unselected package python-enum34.\n",
            "Preparing to unpack .../06-python-enum34_1.1.6-2_all.deb ...\n",
            "Unpacking python-enum34 (1.1.6-2) ...\n",
            "Selecting previously unselected package python-idna.\n",
            "Preparing to unpack .../07-python-idna_2.6-1_all.deb ...\n",
            "Unpacking python-idna (2.6-1) ...\n",
            "Selecting previously unselected package python-ipaddress.\n",
            "Preparing to unpack .../08-python-ipaddress_1.0.17-1_all.deb ...\n",
            "Unpacking python-ipaddress (1.0.17-1) ...\n",
            "Selecting previously unselected package python-six.\n",
            "Preparing to unpack .../09-python-six_1.11.0-2_all.deb ...\n",
            "Unpacking python-six (1.11.0-2) ...\n",
            "Selecting previously unselected package python-cryptography.\n",
            "Preparing to unpack .../10-python-cryptography_2.1.4-1ubuntu1.4_amd64.deb ...\n",
            "Unpacking python-cryptography (2.1.4-1ubuntu1.4) ...\n",
            "Selecting previously unselected package python-dbus.\n",
            "Preparing to unpack .../11-python-dbus_1.2.6-1_amd64.deb ...\n",
            "Unpacking python-dbus (1.2.6-1) ...\n",
            "Selecting previously unselected package python-gi.\n",
            "Preparing to unpack .../12-python-gi_3.26.1-2ubuntu1_amd64.deb ...\n",
            "Unpacking python-gi (3.26.1-2ubuntu1) ...\n",
            "Selecting previously unselected package python-secretstorage.\n",
            "Preparing to unpack .../13-python-secretstorage_2.3.1-2_all.deb ...\n",
            "Unpacking python-secretstorage (2.3.1-2) ...\n",
            "Selecting previously unselected package python-keyring.\n",
            "Preparing to unpack .../14-python-keyring_10.6.0-1_all.deb ...\n",
            "Unpacking python-keyring (10.6.0-1) ...\n",
            "Selecting previously unselected package python-keyrings.alt.\n",
            "Preparing to unpack .../15-python-keyrings.alt_3.0-1_all.deb ...\n",
            "Unpacking python-keyrings.alt (3.0-1) ...\n",
            "Selecting previously unselected package python-pip.\n",
            "Preparing to unpack .../16-python-pip_9.0.1-2.3~ubuntu1.18.04.4_all.deb ...\n",
            "Unpacking python-pip (9.0.1-2.3~ubuntu1.18.04.4) ...\n",
            "Selecting previously unselected package python-pkg-resources.\n",
            "Preparing to unpack .../17-python-pkg-resources_39.0.1-2_all.deb ...\n",
            "Unpacking python-pkg-resources (39.0.1-2) ...\n",
            "Selecting previously unselected package python-setuptools.\n",
            "Preparing to unpack .../18-python-setuptools_39.0.1-2_all.deb ...\n",
            "Unpacking python-setuptools (39.0.1-2) ...\n",
            "Selecting previously unselected package python-wheel.\n",
            "Preparing to unpack .../19-python-wheel_0.30.0-0.2_all.deb ...\n",
            "Unpacking python-wheel (0.30.0-0.2) ...\n",
            "Selecting previously unselected package python-xdg.\n",
            "Preparing to unpack .../20-python-xdg_0.25-4ubuntu1.1_all.deb ...\n",
            "Unpacking python-xdg (0.25-4ubuntu1.1) ...\n",
            "Setting up python-idna (2.6-1) ...\n",
            "Setting up python-asn1crypto (0.24.0-1) ...\n",
            "Setting up python-crypto (2.6.1-8ubuntu2) ...\n",
            "Setting up python3-crypto (2.6.1-8ubuntu2) ...\n",
            "/var/lib/dpkg/info/python3-crypto.postinst: 6: /var/lib/dpkg/info/python3-crypto.postinst: py3compile: not found\n",
            "dpkg: error processing package python3-crypto (--configure):\n",
            " installed python3-crypto package post-installation script subprocess returned error exit status 127\n",
            "Setting up python3-idna (2.6-1) ...\n",
            "/var/lib/dpkg/info/python3-idna.postinst: 6: /var/lib/dpkg/info/python3-idna.postinst: py3compile: not found\n",
            "dpkg: error processing package python3-idna (--configure):\n",
            " installed python3-idna package post-installation script subprocess returned error exit status 127\n",
            "Setting up python3-xdg (0.25-4ubuntu1.1) ...\n",
            "/var/lib/dpkg/info/python3-xdg.postinst: 6: /var/lib/dpkg/info/python3-xdg.postinst: py3compile: not found\n",
            "dpkg: error processing package python3-xdg (--configure):\n",
            " installed python3-xdg package post-installation script subprocess returned error exit status 127\n",
            "Setting up python-wheel (0.30.0-0.2) ...\n",
            "dpkg: dependency problems prevent configuration of python3-keyrings.alt:\n",
            " python3-keyrings.alt depends on python3-crypto; however:\n",
            "  Package python3-crypto is not configured yet.\n",
            "\n",
            "dpkg: error processing package python3-keyrings.alt (--configure):\n",
            " dependency problems - leaving unconfigured\n",
            "Setting up python3-six (1.11.0-2) ...\n",
            "/var/lib/dpkg/info/python3-six.postinst: 6: /var/lib/dpkg/info/python3-six.postinst: py3compile: not found\n",
            "dpkg: error processing package python3-six (--configure):\n",
            " installed python3-six package post-installation script subprocess returned error exit status 127\n",
            "Setting up libpython-all-dev:amd64 (2.7.15~rc1-1) ...\n",
            "Setting up python3-wheel (0.30.0-0.2) ...\n",
            "/var/lib/dpkg/info/python3-wheel.postinst: 6: /var/lib/dpkg/info/python3-wheel.postinst: py3compile: not found\n",
            "dpkg: error processing package python3-wheel (--configure):\n",
            " installed python3-wheel package post-installation script subprocess returned error exit status 127\n",
            "Setting up python3-pkg-resources (39.0.1-2) ...\n",
            "/var/lib/dpkg/info/python3-pkg-resources.postinst: 6: /var/lib/dpkg/info/python3-pkg-resources.postinst: py3compile: not found\n",
            "dpkg: error processing package python3-pkg-resources (--configure):\n",
            " installed python3-pkg-resources package post-installation script subprocess returned error exit status 127\n",
            "Setting up python-pkg-resources (39.0.1-2) ...\n",
            "Setting up python3-asn1crypto (0.24.0-1) ...\n",
            "/var/lib/dpkg/info/python3-asn1crypto.postinst: 6: /var/lib/dpkg/info/python3-asn1crypto.postinst: py3compile: not found\n",
            "dpkg: error processing package python3-asn1crypto (--configure):\n",
            " installed python3-asn1crypto package post-installation script subprocess returned error exit status 127\n",
            "Setting up python-cffi-backend (1.11.5-1) ...\n",
            "Setting up python-gi (3.26.1-2ubuntu1) ...\n",
            "Setting up python-six (1.11.0-2) ...\n",
            "Setting up python-enum34 (1.1.6-2) ...\n",
            "Setting up python3-pip (9.0.1-2.3~ubuntu1.18.04.4) ...\n",
            "/var/lib/dpkg/info/python3-pip.postinst: 6: /var/lib/dpkg/info/python3-pip.postinst: py3compile: not found\n",
            "dpkg: error processing package python3-pip (--configure):\n",
            " installed python3-pip package post-installation script subprocess returned error exit status 127\n",
            "dpkg: dependency problems prevent configuration of python3-setuptools:\n",
            " python3-setuptools depends on python3-pkg-resources (= 39.0.1-2); however:\n",
            "  Package python3-pkg-resources is not configured yet.\n",
            "\n",
            "dpkg: error processing package python3-setuptools (--configure):\n",
            " dependency problems - leaving unconfigured\n",
            "Setting up python-dbus (1.2.6-1) ...\n",
            "Setting up python-ipaddress (1.0.17-1) ...\n",
            "Setting up python-pip (9.0.1-2.3~ubuntu1.18.04.4) ...\n",
            "Setting up python-all (2.7.15~rc1-1) ...\n",
            "Setting up python-xdg (0.25-4ubuntu1.1) ...\n",
            "dpkg: dependency problems prevent configuration of python3-cryptography:\n",
            " python3-cryptography depends on python3-asn1crypto (>= 0.21.0~); however:\n",
            "  Package python3-asn1crypto is not configured yet.\n",
            " python3-cryptography depends on python3-idna (>= 2.1); however:\n",
            "  Package python3-idna is not configured yet.\n",
            " python3-cryptography depends on python3-six (>= 1.4.1); however:\n",
            "  Package python3-six is not configured yet.\n",
            "\n",
            "dpkg: error processing package python3-cryptography (--configure):\n",
            " dependency problems - leaving unconfigured\n",
            "Setting up python-setuptools (39.0.1-2) ...\n",
            "Setting up python-keyrings.alt (3.0-1) ...\n",
            "Setting up python-all-dev (2.7.15~rc1-1) ...\n",
            "Setting up python-cryptography (2.1.4-1ubuntu1.4) ...\n",
            "dpkg: dependency problems prevent configuration of python3-secretstorage:\n",
            " python3-secretstorage depends on python3-cryptography; however:\n",
            "  Package python3-cryptography is not configured yet.\n",
            "\n",
            "dpkg: error processing package python3-secretstorage (--configure):\n",
            " dependency problems - leaving unconfigured\n",
            "Setting up python-secretstorage (2.3.1-2) ...\n",
            "Setting up python-keyring (10.6.0-1) ...\n",
            "dpkg: dependency problems prevent configuration of python3-keyring:\n",
            " python3-keyring depends on python3-secretstorage; however:\n",
            "  Package python3-secretstorage is not configured yet.\n",
            "\n",
            "dpkg: error processing package python3-keyring (--configure):\n",
            " dependency problems - leaving unconfigured\n",
            "Processing triggers for man-db (2.8.3-2ubuntu0.1) ...\n",
            "Errors were encountered while processing:\n",
            " python3-crypto\n",
            " python3-idna\n",
            " python3-xdg\n",
            " python3-keyrings.alt\n",
            " python3-six\n",
            " python3-wheel\n",
            " python3-pkg-resources\n",
            " python3-asn1crypto\n",
            " python3-pip\n",
            " python3-setuptools\n",
            " python3-cryptography\n",
            " python3-secretstorage\n",
            " python3-keyring\n",
            "E: Sub-process /usr/bin/dpkg returned an error code (1)\n"
          ],
          "name": "stdout"
        }
      ]
    },
    {
      "cell_type": "code",
      "metadata": {
        "id": "auk53WvGGBdh"
      },
      "source": [
        "from google.colab import drive\n",
        "drive.mount('/content/drive')"
      ],
      "execution_count": null,
      "outputs": []
    },
    {
      "cell_type": "code",
      "metadata": {
        "colab": {
          "base_uri": "https://localhost:8080/"
        },
        "id": "dzl6qQxWoygp",
        "outputId": "426a220f-bea6-4c71-b40a-a8d34bbb9b10"
      },
      "source": [
        "!python3 -m pip install sklearn"
      ],
      "execution_count": null,
      "outputs": [
        {
          "output_type": "stream",
          "text": [
            "Collecting sklearn\n",
            "  Downloading https://files.pythonhosted.org/packages/1e/7a/dbb3be0ce9bd5c8b7e3d87328e79063f8b263b2b1bfa4774cb1147bfcd3f/sklearn-0.0.tar.gz\n",
            "Collecting scikit-learn (from sklearn)\n",
            "  Downloading https://files.pythonhosted.org/packages/a4/11/e5862273960aef46cf98e571db5433bdabe5e816ef3317260dcdabc9b438/scikit_learn-0.24.1-cp36-cp36m-manylinux1_x86_64.whl (20.0MB)\n",
            "\u001b[K    100% |████████████████████████████████| 20.0MB 76kB/s \n",
            "\u001b[?25hRequirement already satisfied: numpy>=1.13.3 in /usr/local/lib/python3.6/dist-packages (from scikit-learn->sklearn)\n",
            "Collecting joblib>=0.11 (from scikit-learn->sklearn)\n",
            "  Downloading https://files.pythonhosted.org/packages/55/85/70c6602b078bd9e6f3da4f467047e906525c355a4dacd4f71b97a35d9897/joblib-1.0.1-py3-none-any.whl (303kB)\n",
            "\u001b[K    100% |████████████████████████████████| 307kB 4.6MB/s \n",
            "\u001b[?25hCollecting threadpoolctl>=2.0.0 (from scikit-learn->sklearn)\n",
            "  Downloading https://files.pythonhosted.org/packages/f7/12/ec3f2e203afa394a149911729357aa48affc59c20e2c1c8297a60f33f133/threadpoolctl-2.1.0-py3-none-any.whl\n",
            "Requirement already satisfied: scipy>=0.19.1 in /usr/local/lib/python3.6/dist-packages (from scikit-learn->sklearn)\n",
            "Building wheels for collected packages: sklearn\n",
            "  Running setup.py bdist_wheel for sklearn ... \u001b[?25ldone\n",
            "\u001b[?25h  Stored in directory: /root/.cache/pip/wheels/76/03/bb/589d421d27431bcd2c6da284d5f2286c8e3b2ea3cf1594c074\n",
            "Successfully built sklearn\n",
            "Installing collected packages: joblib, threadpoolctl, scikit-learn, sklearn\n",
            "Successfully installed joblib-1.0.1 scikit-learn-0.24.1 sklearn-0.0 threadpoolctl-2.1.0\n"
          ],
          "name": "stdout"
        }
      ]
    },
    {
      "cell_type": "code",
      "metadata": {
        "colab": {
          "base_uri": "https://localhost:8080/"
        },
        "id": "yLL-LfGbn6Ca",
        "outputId": "ff5a9654-8a58-49f5-df39-2d47f4dac8c4"
      },
      "source": [
        "!apt install python3-setuptools"
      ],
      "execution_count": null,
      "outputs": [
        {
          "output_type": "stream",
          "text": [
            "Reading package lists... Done\n",
            "Building dependency tree       \n",
            "Reading state information... Done\n",
            "python3-setuptools is already the newest version (39.0.1-2).\n",
            "python3-setuptools set to manually installed.\n",
            "0 upgraded, 0 newly installed, 0 to remove and 36 not upgraded.\n",
            "13 not fully installed or removed.\n",
            "After this operation, 0 B of additional disk space will be used.\n",
            "Setting up python3-crypto (2.6.1-8ubuntu2) ...\n",
            "/var/lib/dpkg/info/python3-crypto.postinst: 6: /var/lib/dpkg/info/python3-crypto.postinst: py3compile: not found\n",
            "\u001b[1mdpkg:\u001b[0m error processing package python3-crypto (--configure):\n",
            " installed python3-crypto package post-installation script subprocess returned error exit status 127\n",
            "Setting up python3-idna (2.6-1) ...\n",
            "/var/lib/dpkg/info/python3-idna.postinst: 6: /var/lib/dpkg/info/python3-idna.postinst: py3compile: not found\n",
            "\u001b[1mdpkg:\u001b[0m error processing package python3-idna (--configure):\n",
            " installed python3-idna package post-installation script subprocess returned error exit status 127\n",
            "Setting up python3-xdg (0.25-4ubuntu1.1) ...\n",
            "/var/lib/dpkg/info/python3-xdg.postinst: 6: /var/lib/dpkg/info/python3-xdg.postinst: py3compile: not found\n",
            "\u001b[1mdpkg:\u001b[0m error processing package python3-xdg (--configure):\n",
            " installed python3-xdg package post-installation script subprocess returned error exit status 127\n",
            "\u001b[1mdpkg:\u001b[0m dependency problems prevent configuration of python3-keyrings.alt:\n",
            " python3-keyrings.alt depends on python3-crypto; however:\n",
            "  Package python3-crypto is not configured yet.\n",
            "\n",
            "\u001b[1mdpkg:\u001b[0m error processing package python3-keyrings.alt (--configure):\n",
            " dependency problems - leaving unconfigured\n",
            "Setting up python3-six (1.11.0-2) ...\n",
            "/var/lib/dpkg/info/python3-six.postinst: 6: /var/lib/dpkg/info/python3-six.postinst: py3compile: not found\n",
            "\u001b[1mdpkg:\u001b[0m error processing package python3-six (--configure):\n",
            " installed python3-six package post-installation script subprocess returned error exit status 127\n",
            "Setting up python3-wheel (0.30.0-0.2) ...\n",
            "/var/lib/dpkg/info/python3-wheel.postinst: 6: /var/lib/dpkg/info/python3-wheel.postinst: py3compile: not found\n",
            "\u001b[1mdpkg:\u001b[0m error processing package python3-wheel (--configure):\n",
            " installed python3-wheel package post-installation script subprocess returned error exit status 127\n",
            "Setting up python3-pkg-resources (39.0.1-2) ...\n",
            "/var/lib/dpkg/info/python3-pkg-resources.postinst: 6: /var/lib/dpkg/info/python3-pkg-resources.postinst: py3compile: not found\n",
            "\u001b[1mdpkg:\u001b[0m error processing package python3-pkg-resources (--configure):\n",
            " installed python3-pkg-resources package post-installation script subprocess returned error exit status 127\n",
            "Setting up python3-asn1crypto (0.24.0-1) ...\n",
            "/var/lib/dpkg/info/python3-asn1crypto.postinst: 6: /var/lib/dpkg/info/python3-asn1crypto.postinst: py3compile: not found\n",
            "\u001b[1mdpkg:\u001b[0m error processing package python3-asn1crypto (--configure):\n",
            " installed python3-asn1crypto package post-installation script subprocess returned error exit status 127\n",
            "Setting up python3-pip (9.0.1-2.3~ubuntu1.18.04.4) ...\n",
            "/var/lib/dpkg/info/python3-pip.postinst: 6: /var/lib/dpkg/info/python3-pip.postinst: py3compile: not found\n",
            "\u001b[1mdpkg:\u001b[0m error processing package python3-pip (--configure):\n",
            " installed python3-pip package post-installation script subprocess returned error exit status 127\n",
            "\u001b[1mdpkg:\u001b[0m dependency problems prevent configuration of python3-setuptools:\n",
            " python3-setuptools depends on python3-pkg-resources (= 39.0.1-2); however:\n",
            "  Package python3-pkg-resources is not configured yet.\n",
            "\n",
            "\u001b[1mdpkg:\u001b[0m error processing package python3-setuptools (--configure):\n",
            " dependency problems - leaving unconfigured\n",
            "\u001b[1mdpkg:\u001b[0m dependency problems prevent configuration of python3-cryptography:\n",
            " python3-cryptography depends on python3-asn1crypto (>= 0.21.0~); however:\n",
            "  Package python3-asn1crypto is not configured yet.\n",
            " python3-cryptography depends on python3-idna (>= 2.1); however:\n",
            "  Package python3-idna is not configured yet.\n",
            " python3-cryptography depends on python3-six (>= 1.4.1); however:\n",
            "  Package python3-six is not configured yet.\n",
            "\n",
            "\u001b[1mdpkg:\u001b[0m error processing package python3-cryptography (--configure):\n",
            " dependency problems - leaving unconfigured\n",
            "\u001b[1mdpkg:\u001b[0m dependency problems prevent configuration of python3-secretstorage:\n",
            " python3-secretstorage depends on python3-cryptography; however:\n",
            "  Package python3-cryptography is not configured yet.\n",
            "\n",
            "\u001b[1mdpkg:\u001b[0m error processing package python3-secretstorage (--configure):\n",
            " dependency problems - leaving unconfigured\n",
            "\u001b[1mdpkg:\u001b[0m dependency problems prevent configuration of python3-keyring:\n",
            " python3-keyring depends on python3-secretstorage; however:\n",
            "  Package python3-secretstorage is not configured yet.\n",
            "\n",
            "\u001b[1mdpkg:\u001b[0m error processing package python3-keyring (--configure):\n",
            " dependency problems - leaving unconfigured\n",
            "Errors were encountered while processing:\n",
            " python3-crypto\n",
            " python3-idna\n",
            " python3-xdg\n",
            " python3-keyrings.alt\n",
            " python3-six\n",
            " python3-wheel\n",
            " python3-pkg-resources\n",
            " python3-asn1crypto\n",
            " python3-pip\n",
            " python3-setuptools\n",
            " python3-cryptography\n",
            " python3-secretstorage\n",
            " python3-keyring\n",
            "E: Sub-process /usr/bin/dpkg returned an error code (1)\n"
          ],
          "name": "stdout"
        }
      ]
    },
    {
      "cell_type": "code",
      "metadata": {
        "colab": {
          "base_uri": "https://localhost:8080/"
        },
        "id": "t3WtN9O6qHsC",
        "outputId": "aa6d4759-006b-4428-8542-ff83dddb2f0f"
      },
      "source": [
        "!sudo apt-get install –f"
      ],
      "execution_count": null,
      "outputs": [
        {
          "output_type": "stream",
          "text": [
            "Reading package lists... Done\n",
            "Building dependency tree       \n",
            "Reading state information... Done\n",
            "E: Unable to locate package –f\n"
          ],
          "name": "stdout"
        }
      ]
    },
    {
      "cell_type": "code",
      "metadata": {
        "id": "TeergnL7ygzE"
      },
      "source": [
        "import matplotlib.pyplot as plt\n",
        "import os\n",
        "import cv2 \n",
        "from google.colab import files\n",
        "import numpy as np\n",
        "import pandas as pd\n",
        "from sklearn.model_selection import train_test_split\n",
        "from sklearn.utils import class_weight\n",
        "from sklearn.utils.class_weight import compute_class_weight\n",
        "from sklearn.metrics import roc_auc_score\n",
        "from sklearn.metrics import roc_curve, auc\n",
        "from itertools import cycle\n",
        "from scipy import interp\n",
        "from tensorflow.keras.preprocessing.image import ImageDataGenerator \n",
        "from time import time"
      ],
      "execution_count": null,
      "outputs": []
    },
    {
      "cell_type": "code",
      "metadata": {
        "id": "jnnc0VdGVXhh"
      },
      "source": [
        "files.upload()"
      ],
      "execution_count": null,
      "outputs": []
    },
    {
      "cell_type": "code",
      "metadata": {
        "id": "KpZp9aeEVZP1"
      },
      "source": [
        "!mkdir -p ~/.kaggle\n",
        "!cp kaggle.json ~/.kaggle/\n",
        "#change the permission\n",
        "!chmod 600 ~/.kaggle/kaggle.json\n",
        "!kaggle competitions download -c aptos2019-blindness-detection"
      ],
      "execution_count": null,
      "outputs": []
    },
    {
      "cell_type": "code",
      "metadata": {
        "id": "ye1kz1JQVmn8"
      },
      "source": [
        "# Only run it when the dataset in not preprocessed\n",
        "# This function subtracts from each color, the local average color. (Color Normalization)\n",
        "def load_ben_color(image):\n",
        "    sigmaX=10\n",
        "    image=cv2.addWeighted (image,4, cv2.GaussianBlur( image , (0, 0) , sigmaX) ,-4 ,128)\n",
        "    return image"
      ],
      "execution_count": null,
      "outputs": []
    },
    {
      "cell_type": "code",
      "metadata": {
        "id": "ba91kkGv_RCH"
      },
      "source": [
        "!unzip \"/content/drive/My Drive/mixed\" -d \"/tmp/\""
      ],
      "execution_count": null,
      "outputs": []
    },
    {
      "cell_type": "code",
      "metadata": {
        "id": "tqiwNQukx-pR",
        "colab": {
          "base_uri": "https://localhost:8080/"
        },
        "outputId": "5f312725-b73c-4691-b009-077bae1b61b5"
      },
      "source": [
        "train_dir = '/tmp/train'\n",
        "val_test_dir = '/tmp/test'\n",
        "train_datagen = ImageDataGenerator(\n",
        "    rescale = 1.0/255.,\n",
        "    horizontal_flip = True,\n",
        "    vertical_flip = True,\n",
        "    rotation_range = 40,\n",
        "    fill_mode = 'constant',\n",
        "    zoom_range = 0.15,\n",
        "    cval = 0.,\n",
        "    width_shift_range = 0.1,\n",
        "    height_shift_range = 0.1,\n",
        "    preprocessing_function = load_ben_color        \n",
        ")\n",
        "val_test_datagen = ImageDataGenerator(\n",
        "    rescale = 1.0/255.)\n",
        "bs = 64\n",
        "training_generator = train_datagen.flow_from_directory(\n",
        "    train_dir,\n",
        "    batch_size = bs,\n",
        "    target_size = (256, 256),\n",
        "    shuffle = True,\n",
        "    seed = 40,\n",
        "    classes = ['0', '1', '2', '3', '4'],\n",
        "    class_mode = 'categorical'\n",
        ")\n",
        "validation_generator = val_test_datagen.flow_from_directory(\n",
        "   val_test_dir,\n",
        "   batch_size = bs,\n",
        "   target_size = (256, 256),\n",
        "   shuffle = True,\n",
        "   seed = 40,\n",
        "   classes = ['0', '1', '2', '3', '4'],\n",
        "   class_mode = 'categorical'\n",
        ")\n",
        "testing_generator = val_test_datagen.flow_from_directory(\n",
        "   val_test_dir,\n",
        "   batch_size = 1060,\n",
        "   target_size = (256, 256),\n",
        "   shuffle = True,\n",
        "   seed = 40,\n",
        "   classes = ['0', '1', '2', '3', '4'],\n",
        "   class_mode = 'categorical'\n",
        ")"
      ],
      "execution_count": null,
      "outputs": [
        {
          "output_type": "stream",
          "text": [
            "Found 4369 images belonging to 5 classes.\n",
            "Found 1060 images belonging to 5 classes.\n",
            "Found 1060 images belonging to 5 classes.\n"
          ],
          "name": "stdout"
        }
      ]
    },
    {
      "cell_type": "code",
      "metadata": {
        "id": "VCImKJQ17JY4"
      },
      "source": [
        ""
      ],
      "execution_count": null,
      "outputs": []
    },
    {
      "cell_type": "code",
      "metadata": {
        "id": "wZGzx6TfVhgn"
      },
      "source": [
        "train = pd.read_csv(\"/tmp/train_Labels.csv\", dtype=str)\n",
        "print(\"<------------------Training Data----------------------->\")\n",
        "train['image_name'] = [i+\".png\" for i in train['image'].values]\n",
        "print(str(train['level'].hist())) # display histogram\n",
        "print(str(train['level'].value_counts())) # display counts\n",
        "\n",
        "test = pd.read_csv(\"/tmp/test_Labels.csv\", dtype=str)\n",
        "print(\"<------------------validation/Test Data---------------->\")\n",
        "test['image_name'] = [i+\".png\" for i in test['image'].values]\n",
        "print(str(test['level'].hist())) # display histogram\n",
        "print(str(test['level'].value_counts())) # display counts"
      ],
      "execution_count": null,
      "outputs": []
    },
    {
      "cell_type": "code",
      "metadata": {
        "id": "oUfW0Lj8TSVK"
      },
      "source": [
        "def load_ben_color(image):\n",
        "    IMG_SIZE = 256\n",
        "    sigmaX=4\n",
        "    image=cv2.addWeighted ( image,4, cv2.GaussianBlur( image , (0, 0) , sigmaX) ,-4 ,128)\n",
        "    return image"
      ],
      "execution_count": null,
      "outputs": []
    },
    {
      "cell_type": "code",
      "metadata": {
        "id": "L5E13DoyT2Y5"
      },
      "source": [
        "train_dir = '/tmp/train'\n",
        "test_dir = '/tmp/test'\n",
        "train_data_gen = ImageDataGenerator(\n",
        "    rescale=1/255.,\n",
        "    rotation_range = 110,\n",
        "    zoom_range=0.1,\n",
        "    fill_mode='nearest',\n",
        "    horizontal_flip=True,\n",
        "    vertical_flip=True,\n",
        "    preprocessing_function = load_ben_color\n",
        "    )\n",
        "validation_data_gen = ImageDataGenerator(\n",
        "    rescale = 1.0/255.\n",
        "    )\n",
        "bs = 32\n",
        "training_generator = train_data_gen.flow_from_dataframe(\n",
        "    train, # labels\n",
        "    train_dir, # directory of the images\n",
        "    x_col=\"image_name\", # name of the images with extension\n",
        "    y_col=\"level\", # labels\n",
        "    class_mode=\"categorical\", # inferred from the labels\n",
        "    batch_size = bs,\n",
        "    shuffle = True,\n",
        "    seed = 42,\n",
        "    target_size=(256, 256)\n",
        "    )\n",
        "validation_generator = validation_data_gen.flow_from_dataframe(\n",
        "    test, # labels\n",
        "    test_dir, # directory of the images\n",
        "    x_col=\"image_name\", # name of the images with extension\n",
        "    y_col=\"level\", # inferred from the labels\n",
        "    class_mode=\"categorical\",\n",
        "    batch_size=bs,\n",
        "    shuffle = True,\n",
        "    seed = 42,\n",
        "    target_size=(256, 256)\n",
        "    )\n",
        "testing_generator = validation_data_gen.flow_from_dataframe(\n",
        "    test, # labels\n",
        "    test_dir, # directory of the images\n",
        "    x_col=\"image_name\", # name of the images with extension\n",
        "    y_col=\"level\", # inferred from the labels\n",
        "    class_mode=\"categorical\",\n",
        "    batch_size=1000,\n",
        "    shuffle = True,\n",
        "    seed = 42,\n",
        "    target_size=(256, 256)\n",
        "    )"
      ],
      "execution_count": null,
      "outputs": []
    },
    {
      "cell_type": "code",
      "metadata": {
        "id": "F4B3ZKRvtRDI",
        "colab": {
          "base_uri": "https://localhost:8080/"
        },
        "outputId": "f96dbbff-a637-45b4-bcea-99eb456d5607"
      },
      "source": [
        "from sklearn.utils import class_weight\n",
        " \n",
        " \n",
        "class_weights = class_weight.compute_class_weight('balanced',\n",
        "                                                 np.unique(training_generator.classes),\n",
        "                                                 training_generator.classes)\n",
        "class_weights = dict(enumerate(class_weights))\n",
        "print(str(class_weights))"
      ],
      "execution_count": null,
      "outputs": [
        {
          "output_type": "stream",
          "text": [
            "{0: 0.5024726854514089, 1: 1.5039586919104992, 2: 0.8053456221198156, 3: 1.9724604966139956, 4: 1.6771593090211132}\n"
          ],
          "name": "stdout"
        }
      ]
    },
    {
      "cell_type": "code",
      "metadata": {
        "id": "vEWxYUcxiPWV"
      },
      "source": [
        "def IResNet_module(input, layercount):\n",
        "    n = layercount\n",
        "    ############################################################################\n",
        "    # Parallel Block 1\n",
        "    x1_1 = tf.keras.layers.Conv2D(n, (3, 3), activation = 'relu', padding = 'same')(input)\n",
        "    x1_1 = tf.keras.layers.Conv2D(n, (3, 3), activation = 'relu', padding = 'same')(x1_1)\n",
        "    x1_1 = tf.keras.layers.BatchNormalization()(x1_1)\n",
        "    ############################################################################\n",
        "    # Parallel Block 2\n",
        "    x2_1 = tf.keras.layers.Conv2D(n, (1, 1), activation = 'relu', padding = 'same')(input)\n",
        "    x2_1 = tf.keras.layers.Conv2D(n, (1, 1), activation = 'relu', padding = 'same')(x2_1)\n",
        "    x2_1 = tf.keras.layers.BatchNormalization()(x2_1)\n",
        "    ############################################################################\n",
        "    # Parallel Block 1\n",
        "    x1_2 = tf.keras.layers.Conv2D(n, (1, 1), activation = 'relu', padding = 'same')(x1_1)\n",
        "    x1_2 = tf.keras.layers.Conv2D(n, (1, 1), activation = 'relu', padding = 'same')(x1_1)\n",
        "    x1_2 = tf.keras.layers.BatchNormalization()(x1_2)\n",
        "    x1 = tf.keras.layers.add([x1_1, x1_2, x2_1])\n",
        "    ############################################################################\n",
        "    # Parallel Block 2\n",
        "    x2_2 = tf.keras.layers.Conv2D(n, (3, 3), activation = 'relu', padding = 'same')(x2_1)\n",
        "    x2_2 = tf.keras.layers.Conv2D(n, (3, 3), activation = 'relu', padding = 'same')(x2_1)\n",
        "    x2_2 = tf.keras.layers.BatchNormalization()(x2_2)\n",
        "    x2 = tf.keras.layers.add([x2_1, x2_2, x1_1])\n",
        "    mod = tf.keras.layers.concatenate([x1, x2], axis = -1)\n",
        "    return mod\n",
        "def IResNet_reduction_module(input, layercount):\n",
        "    n = layercount\n",
        "    ############################################################################\n",
        "    # Reduction module\n",
        "    R1 = tf.keras.layers.Conv2D(n, (1, 1), activation = 'relu')(input)\n",
        "    R1 = tf.keras.layers.Conv2D(n, (1, 1), activation = 'relu')(R1)\n",
        "    R1 = tf.keras.layers.BatchNormalization()(R1)\n",
        "    R1 = tf.keras.layers.Conv2D(n, (3, 3), activation = 'relu')(R1)\n",
        "    R1 = tf.keras.layers.Conv2D(n, (3, 3), activation = 'relu')(R1)\n",
        "    R1 = tf.keras.layers.Conv2D(n, (3, 3), activation = 'relu')(R1)\n",
        "    R1 = tf.keras.layers.BatchNormalization()(R1)\n",
        "    R1 = tf.keras.layers.Conv2D(n, (3, 3), activation = 'relu')(R1)\n",
        "    R1 = tf.keras.layers.Conv2D(n, (3, 3), activation = 'relu')(R1)\n",
        "    R1 = tf.keras.layers.Conv2D(n, (3, 3), activation = 'relu')(R1)\n",
        "    mod = tf.keras.layers.MaxPooling2D(2, 2)(R1)\n",
        "    mod = tf.keras.layers.BatchNormalization()(mod)\n",
        "    return mod\n",
        "def IResNet_dense(input):\n",
        "    ############################################################################\n",
        "    y = tf.keras.layers.GlobalAveragePooling2D()(input)\n",
        "    y = tf.keras.layers.Flatten()(y)\n",
        "    y = tf.keras.layers.Dense(1024, activation = 'relu', kernel_regularizer='l2')(y)\n",
        "    y = tf.keras.layers.Dropout(0.5)(y)\n",
        "    y = tf.keras.layers.Dense(512, activation = 'relu', kernel_regularizer='l2')(y)\n",
        "    y = tf.keras.layers.Dropout(0.5)(y)\n",
        "    y = tf.keras.layers.Dense(5, activation = 'softmax')(y)\n",
        "    return y\n",
        "# Defining Model Architecture\n",
        "strategy = tf.distribute.OneDeviceStrategy(device=\"/gpu:0\")\n",
        "with strategy.scope():\n",
        "    img_inputs = tf.keras.layers.Input(shape=(256, 256, 3))\n",
        "    module_1 = IResNet_module(img_inputs, 32) \n",
        "    module_2 = IResNet_module(module_1, 32) \n",
        "    red_1 = IResNet_reduction_module(module_2, 32)\n",
        "    module_3 = IResNet_module(red_1, 64) \n",
        "    module_4 = IResNet_module(module_3, 64) \n",
        "    red_3 = IResNet_reduction_module(module_4, 64)\n",
        "    module_5 = IResNet_module(red_3, 128) \n",
        "    module_6 = IResNet_module(module_5, 128) \n",
        "    red_4 = IResNet_reduction_module(module_6, 128)\n",
        "    module_7 = IResNet_module(red_4, 128) \n",
        "    red_5 = IResNet_reduction_module(module_7, 512)\n",
        "    y = IResNet_dense(red_5)\n",
        "    model = tf.keras.models.Model(inputs=img_inputs, outputs=y, name = \"IResNetv3\")\n",
        "model.compile(\n",
        "    optimizer=tf.keras.optimizers.Adam(),\n",
        "    loss=tf.keras.losses.CategoricalCrossentropy(),\n",
        "    metrics=[tf.keras.metrics.CategoricalAccuracy(),\n",
        "                tf.keras.metrics.AUC(num_thresholds = 50, curve = 'ROC', name = 'auc', summation_method = 'interpolation')],\n",
        ")"
      ],
      "execution_count": null,
      "outputs": []
    },
    {
      "cell_type": "code",
      "metadata": {
        "colab": {
          "base_uri": "https://localhost:8080/",
          "height": 611
        },
        "id": "ET81QlpiM7ER",
        "outputId": "1d7dd7e9-0ccf-4dac-fd88-e5e3e4816eaa"
      },
      "source": [
        "!pip install keras==2.2.0"
      ],
      "execution_count": null,
      "outputs": [
        {
          "output_type": "stream",
          "text": [
            "Collecting keras==2.2.0\n",
            "\u001b[?25l  Downloading https://files.pythonhosted.org/packages/68/12/4cabc5c01451eb3b413d19ea151f36e33026fc0efb932bf51bcaf54acbf5/Keras-2.2.0-py2.py3-none-any.whl (300kB)\n",
            "\r\u001b[K     |█                               | 10kB 21.4MB/s eta 0:00:01\r\u001b[K     |██▏                             | 20kB 28.0MB/s eta 0:00:01\r\u001b[K     |███▎                            | 30kB 24.6MB/s eta 0:00:01\r\u001b[K     |████▍                           | 40kB 21.6MB/s eta 0:00:01\r\u001b[K     |█████▌                          | 51kB 23.6MB/s eta 0:00:01\r\u001b[K     |██████▌                         | 61kB 16.8MB/s eta 0:00:01\r\u001b[K     |███████▋                        | 71kB 17.4MB/s eta 0:00:01\r\u001b[K     |████████▊                       | 81kB 18.7MB/s eta 0:00:01\r\u001b[K     |█████████▉                      | 92kB 20.1MB/s eta 0:00:01\r\u001b[K     |███████████                     | 102kB 21.5MB/s eta 0:00:01\r\u001b[K     |████████████                    | 112kB 21.5MB/s eta 0:00:01\r\u001b[K     |█████████████                   | 122kB 21.5MB/s eta 0:00:01\r\u001b[K     |██████████████▏                 | 133kB 21.5MB/s eta 0:00:01\r\u001b[K     |███████████████▎                | 143kB 21.5MB/s eta 0:00:01\r\u001b[K     |████████████████▍               | 153kB 21.5MB/s eta 0:00:01\r\u001b[K     |█████████████████▍              | 163kB 21.5MB/s eta 0:00:01\r\u001b[K     |██████████████████▌             | 174kB 21.5MB/s eta 0:00:01\r\u001b[K     |███████████████████▋            | 184kB 21.5MB/s eta 0:00:01\r\u001b[K     |████████████████████▊           | 194kB 21.5MB/s eta 0:00:01\r\u001b[K     |█████████████████████▉          | 204kB 21.5MB/s eta 0:00:01\r\u001b[K     |██████████████████████▉         | 215kB 21.5MB/s eta 0:00:01\r\u001b[K     |████████████████████████        | 225kB 21.5MB/s eta 0:00:01\r\u001b[K     |█████████████████████████       | 235kB 21.5MB/s eta 0:00:01\r\u001b[K     |██████████████████████████▏     | 245kB 21.5MB/s eta 0:00:01\r\u001b[K     |███████████████████████████▎    | 256kB 21.5MB/s eta 0:00:01\r\u001b[K     |████████████████████████████▎   | 266kB 21.5MB/s eta 0:00:01\r\u001b[K     |█████████████████████████████▍  | 276kB 21.5MB/s eta 0:00:01\r\u001b[K     |██████████████████████████████▌ | 286kB 21.5MB/s eta 0:00:01\r\u001b[K     |███████████████████████████████▋| 296kB 21.5MB/s eta 0:00:01\r\u001b[K     |████████████████████████████████| 307kB 21.5MB/s \n",
            "\u001b[?25hRequirement already satisfied: scipy>=0.14 in /usr/local/lib/python3.6/dist-packages (from keras==2.2.0) (1.4.1)\n",
            "Requirement already satisfied: numpy>=1.9.1 in /usr/local/lib/python3.6/dist-packages (from keras==2.2.0) (1.19.5)\n",
            "Requirement already satisfied: pyyaml in /usr/local/lib/python3.6/dist-packages (from keras==2.2.0) (3.13)\n",
            "Collecting keras-applications==1.0.2\n",
            "\u001b[?25l  Downloading https://files.pythonhosted.org/packages/e2/60/c557075e586e968d7a9c314aa38c236b37cb3ee6b37e8d57152b1a5e0b47/Keras_Applications-1.0.2-py2.py3-none-any.whl (43kB)\n",
            "\u001b[K     |████████████████████████████████| 51kB 9.2MB/s \n",
            "\u001b[?25hCollecting keras-preprocessing==1.0.1\n",
            "  Downloading https://files.pythonhosted.org/packages/f8/33/275506afe1d96b221f66f95adba94d1b73f6b6087cfb6132a5655b6fe338/Keras_Preprocessing-1.0.1-py2.py3-none-any.whl\n",
            "Requirement already satisfied: h5py in /usr/local/lib/python3.6/dist-packages (from keras==2.2.0) (2.10.0)\n",
            "Requirement already satisfied: six>=1.9.0 in /usr/local/lib/python3.6/dist-packages (from keras==2.2.0) (1.15.0)\n",
            "\u001b[31mERROR: tensorflow 1.12.0 has requirement keras-applications>=1.0.6, but you'll have keras-applications 1.0.2 which is incompatible.\u001b[0m\n",
            "\u001b[31mERROR: tensorflow 1.12.0 has requirement keras-preprocessing>=1.0.5, but you'll have keras-preprocessing 1.0.1 which is incompatible.\u001b[0m\n",
            "\u001b[31mERROR: tensorflow-gpu 1.12.0 has requirement keras-applications>=1.0.6, but you'll have keras-applications 1.0.2 which is incompatible.\u001b[0m\n",
            "\u001b[31mERROR: tensorflow-gpu 1.12.0 has requirement keras-preprocessing>=1.0.5, but you'll have keras-preprocessing 1.0.1 which is incompatible.\u001b[0m\n",
            "Installing collected packages: keras-applications, keras-preprocessing, keras\n",
            "  Found existing installation: Keras-Applications 1.0.8\n",
            "    Uninstalling Keras-Applications-1.0.8:\n",
            "      Successfully uninstalled Keras-Applications-1.0.8\n",
            "  Found existing installation: Keras-Preprocessing 1.1.2\n",
            "    Uninstalling Keras-Preprocessing-1.1.2:\n",
            "      Successfully uninstalled Keras-Preprocessing-1.1.2\n",
            "  Found existing installation: Keras 2.2.5\n",
            "    Uninstalling Keras-2.2.5:\n",
            "      Successfully uninstalled Keras-2.2.5\n",
            "Successfully installed keras-2.2.0 keras-applications-1.0.2 keras-preprocessing-1.0.1\n"
          ],
          "name": "stdout"
        },
        {
          "output_type": "display_data",
          "data": {
            "application/vnd.colab-display-data+json": {
              "pip_warning": {
                "packages": [
                  "keras",
                  "keras_applications",
                  "keras_preprocessing"
                ]
              }
            }
          },
          "metadata": {
            "tags": []
          }
        }
      ]
    },
    {
      "cell_type": "code",
      "metadata": {
        "id": "rbeqNIZkPaK2"
      },
      "source": [
        "model.summary()\n",
        "tf.keras.utils.plot_model(model)"
      ],
      "execution_count": null,
      "outputs": []
    },
    {
      "cell_type": "code",
      "metadata": {
        "id": "SU_3Y8YK4PKW",
        "colab": {
          "base_uri": "https://localhost:8080/"
        },
        "outputId": "236afbcd-f2d6-444a-e3ed-a302a95567e2"
      },
      "source": [
        "!python3 -c 'from tensorflow.keras.applications import ResNet50'\n",
        "!python3 -c 'from tensorflow.keras.models import Sequential'\n",
        "def get_compiled_model():\n",
        "    base_model = ResNet50(weights = \"imagenet\", include_top=False, input_shape=(256,256,3))\n",
        "    base_model.trainable = True\n",
        "    for layer in base_model.layers[:35]:\n",
        "        layer.trainable = False\n",
        "    model = Sequential([\n",
        "        base_model,\n",
        "        tf.keras.layers.MaxPool2D(),\n",
        "        tf.keras.layers.MaxPool2D(),\n",
        "        tf.keras.layers.Flatten(),\n",
        "        tf.keras.layers.Dense(5, activation='softmax')\n",
        "    ])\n",
        "    return model"
      ],
      "execution_count": null,
      "outputs": [
        {
          "output_type": "stream",
          "text": [
            "/usr/local/lib/python3.6/dist-packages/tensorflow/python/framework/dtypes.py:523: FutureWarning: Passing (type, 1) or '1type' as a synonym of type is deprecated; in a future version of numpy, it will be understood as (type, (1,)) / '(1,)type'.\n",
            "  _np_qint8 = np.dtype([(\"qint8\", np.int8, 1)])\n",
            "/usr/local/lib/python3.6/dist-packages/tensorflow/python/framework/dtypes.py:524: FutureWarning: Passing (type, 1) or '1type' as a synonym of type is deprecated; in a future version of numpy, it will be understood as (type, (1,)) / '(1,)type'.\n",
            "  _np_quint8 = np.dtype([(\"quint8\", np.uint8, 1)])\n",
            "/usr/local/lib/python3.6/dist-packages/tensorflow/python/framework/dtypes.py:525: FutureWarning: Passing (type, 1) or '1type' as a synonym of type is deprecated; in a future version of numpy, it will be understood as (type, (1,)) / '(1,)type'.\n",
            "  _np_qint16 = np.dtype([(\"qint16\", np.int16, 1)])\n",
            "/usr/local/lib/python3.6/dist-packages/tensorflow/python/framework/dtypes.py:526: FutureWarning: Passing (type, 1) or '1type' as a synonym of type is deprecated; in a future version of numpy, it will be understood as (type, (1,)) / '(1,)type'.\n",
            "  _np_quint16 = np.dtype([(\"quint16\", np.uint16, 1)])\n",
            "/usr/local/lib/python3.6/dist-packages/tensorflow/python/framework/dtypes.py:527: FutureWarning: Passing (type, 1) or '1type' as a synonym of type is deprecated; in a future version of numpy, it will be understood as (type, (1,)) / '(1,)type'.\n",
            "  _np_qint32 = np.dtype([(\"qint32\", np.int32, 1)])\n",
            "/usr/local/lib/python3.6/dist-packages/tensorflow/python/framework/dtypes.py:532: FutureWarning: Passing (type, 1) or '1type' as a synonym of type is deprecated; in a future version of numpy, it will be understood as (type, (1,)) / '(1,)type'.\n",
            "  np_resource = np.dtype([(\"resource\", np.ubyte, 1)])\n",
            "/usr/local/lib/python3.6/dist-packages/tensorflow/python/framework/dtypes.py:523: FutureWarning: Passing (type, 1) or '1type' as a synonym of type is deprecated; in a future version of numpy, it will be understood as (type, (1,)) / '(1,)type'.\n",
            "  _np_qint8 = np.dtype([(\"qint8\", np.int8, 1)])\n",
            "/usr/local/lib/python3.6/dist-packages/tensorflow/python/framework/dtypes.py:524: FutureWarning: Passing (type, 1) or '1type' as a synonym of type is deprecated; in a future version of numpy, it will be understood as (type, (1,)) / '(1,)type'.\n",
            "  _np_quint8 = np.dtype([(\"quint8\", np.uint8, 1)])\n",
            "/usr/local/lib/python3.6/dist-packages/tensorflow/python/framework/dtypes.py:525: FutureWarning: Passing (type, 1) or '1type' as a synonym of type is deprecated; in a future version of numpy, it will be understood as (type, (1,)) / '(1,)type'.\n",
            "  _np_qint16 = np.dtype([(\"qint16\", np.int16, 1)])\n",
            "/usr/local/lib/python3.6/dist-packages/tensorflow/python/framework/dtypes.py:526: FutureWarning: Passing (type, 1) or '1type' as a synonym of type is deprecated; in a future version of numpy, it will be understood as (type, (1,)) / '(1,)type'.\n",
            "  _np_quint16 = np.dtype([(\"quint16\", np.uint16, 1)])\n",
            "/usr/local/lib/python3.6/dist-packages/tensorflow/python/framework/dtypes.py:527: FutureWarning: Passing (type, 1) or '1type' as a synonym of type is deprecated; in a future version of numpy, it will be understood as (type, (1,)) / '(1,)type'.\n",
            "  _np_qint32 = np.dtype([(\"qint32\", np.int32, 1)])\n",
            "/usr/local/lib/python3.6/dist-packages/tensorflow/python/framework/dtypes.py:532: FutureWarning: Passing (type, 1) or '1type' as a synonym of type is deprecated; in a future version of numpy, it will be understood as (type, (1,)) / '(1,)type'.\n",
            "  np_resource = np.dtype([(\"resource\", np.ubyte, 1)])\n"
          ],
          "name": "stdout"
        }
      ]
    },
    {
      "cell_type": "code",
      "metadata": {
        "id": "Xy6-f7Hk3YID",
        "colab": {
          "base_uri": "https://localhost:8080/",
          "height": 524
        },
        "outputId": "92564b42-7ce7-43a9-da35-300bbbdd4fdb"
      },
      "source": [
        "model = get_compiled_model()"
      ],
      "execution_count": null,
      "outputs": [
        {
          "output_type": "stream",
          "text": [
            "/usr/local/lib/python3.6/dist-packages/keras_applications/resnet50.py:265: UserWarning: The output shape of `ResNet50(include_top=False)` has been changed since Keras 2.2.0.\n",
            "  warnings.warn('The output shape of `ResNet50(include_top=False)` '\n"
          ],
          "name": "stderr"
        },
        {
          "output_type": "error",
          "ename": "ImportError",
          "evalue": "ignored",
          "traceback": [
            "\u001b[0;31m---------------------------------------------------------------------------\u001b[0m",
            "\u001b[0;31mImportError\u001b[0m                               Traceback (most recent call last)",
            "\u001b[0;32m<ipython-input-47-332daa77e3bc>\u001b[0m in \u001b[0;36m<module>\u001b[0;34m()\u001b[0m\n\u001b[0;32m----> 1\u001b[0;31m \u001b[0mmodel\u001b[0m \u001b[0;34m=\u001b[0m \u001b[0mget_compiled_model\u001b[0m\u001b[0;34m(\u001b[0m\u001b[0;34m)\u001b[0m\u001b[0;34m\u001b[0m\u001b[0;34m\u001b[0m\u001b[0m\n\u001b[0m",
            "\u001b[0;32m<ipython-input-46-7dec92c0c36e>\u001b[0m in \u001b[0;36mget_compiled_model\u001b[0;34m()\u001b[0m\n\u001b[1;32m      2\u001b[0m \u001b[0mget_ipython\u001b[0m\u001b[0;34m(\u001b[0m\u001b[0;34m)\u001b[0m\u001b[0;34m.\u001b[0m\u001b[0msystem\u001b[0m\u001b[0;34m(\u001b[0m\u001b[0;34m\"python3 -c 'from tensorflow.keras.models import Sequential'\"\u001b[0m\u001b[0;34m)\u001b[0m\u001b[0;34m\u001b[0m\u001b[0;34m\u001b[0m\u001b[0m\n\u001b[1;32m      3\u001b[0m \u001b[0;32mdef\u001b[0m \u001b[0mget_compiled_model\u001b[0m\u001b[0;34m(\u001b[0m\u001b[0;34m)\u001b[0m\u001b[0;34m:\u001b[0m\u001b[0;34m\u001b[0m\u001b[0;34m\u001b[0m\u001b[0m\n\u001b[0;32m----> 4\u001b[0;31m     \u001b[0mbase_model\u001b[0m \u001b[0;34m=\u001b[0m \u001b[0mResNet50\u001b[0m\u001b[0;34m(\u001b[0m\u001b[0mweights\u001b[0m \u001b[0;34m=\u001b[0m \u001b[0;34m\"imagenet\"\u001b[0m\u001b[0;34m,\u001b[0m \u001b[0minclude_top\u001b[0m\u001b[0;34m=\u001b[0m\u001b[0;32mFalse\u001b[0m\u001b[0;34m,\u001b[0m \u001b[0minput_shape\u001b[0m\u001b[0;34m=\u001b[0m\u001b[0;34m(\u001b[0m\u001b[0;36m256\u001b[0m\u001b[0;34m,\u001b[0m\u001b[0;36m256\u001b[0m\u001b[0;34m,\u001b[0m\u001b[0;36m3\u001b[0m\u001b[0;34m)\u001b[0m\u001b[0;34m)\u001b[0m\u001b[0;34m\u001b[0m\u001b[0;34m\u001b[0m\u001b[0m\n\u001b[0m\u001b[1;32m      5\u001b[0m     \u001b[0mbase_model\u001b[0m\u001b[0;34m.\u001b[0m\u001b[0mtrainable\u001b[0m \u001b[0;34m=\u001b[0m \u001b[0;32mTrue\u001b[0m\u001b[0;34m\u001b[0m\u001b[0;34m\u001b[0m\u001b[0m\n\u001b[1;32m      6\u001b[0m     \u001b[0;32mfor\u001b[0m \u001b[0mlayer\u001b[0m \u001b[0;32min\u001b[0m \u001b[0mbase_model\u001b[0m\u001b[0;34m.\u001b[0m\u001b[0mlayers\u001b[0m\u001b[0;34m[\u001b[0m\u001b[0;34m:\u001b[0m\u001b[0;36m35\u001b[0m\u001b[0;34m]\u001b[0m\u001b[0;34m:\u001b[0m\u001b[0;34m\u001b[0m\u001b[0;34m\u001b[0m\u001b[0m\n",
            "\u001b[0;32m/usr/local/lib/python3.6/dist-packages/tensorflow/python/keras/applications/__init__.py\u001b[0m in \u001b[0;36mwrapper\u001b[0;34m(*args, **kwargs)\u001b[0m\n\u001b[1;32m     68\u001b[0m       \u001b[0mkwargs\u001b[0m\u001b[0;34m[\u001b[0m\u001b[0;34m'models'\u001b[0m\u001b[0;34m]\u001b[0m \u001b[0;34m=\u001b[0m \u001b[0mmodels\u001b[0m\u001b[0;34m\u001b[0m\u001b[0;34m\u001b[0m\u001b[0m\n\u001b[1;32m     69\u001b[0m       \u001b[0mkwargs\u001b[0m\u001b[0;34m[\u001b[0m\u001b[0;34m'utils'\u001b[0m\u001b[0;34m]\u001b[0m \u001b[0;34m=\u001b[0m \u001b[0mutils\u001b[0m\u001b[0;34m\u001b[0m\u001b[0;34m\u001b[0m\u001b[0m\n\u001b[0;32m---> 70\u001b[0;31m     \u001b[0;32mreturn\u001b[0m \u001b[0mbase_fun\u001b[0m\u001b[0;34m(\u001b[0m\u001b[0;34m*\u001b[0m\u001b[0margs\u001b[0m\u001b[0;34m,\u001b[0m \u001b[0;34m**\u001b[0m\u001b[0mkwargs\u001b[0m\u001b[0;34m)\u001b[0m\u001b[0;34m\u001b[0m\u001b[0;34m\u001b[0m\u001b[0m\n\u001b[0m\u001b[1;32m     71\u001b[0m   \u001b[0;32mreturn\u001b[0m \u001b[0mwrapper\u001b[0m\u001b[0;34m\u001b[0m\u001b[0;34m\u001b[0m\u001b[0m\n\u001b[1;32m     72\u001b[0m \u001b[0;34m\u001b[0m\u001b[0m\n",
            "\u001b[0;32m/usr/local/lib/python3.6/dist-packages/tensorflow/python/keras/applications/resnet50.py\u001b[0m in \u001b[0;36mResNet50\u001b[0;34m(*args, **kwargs)\u001b[0m\n\u001b[1;32m     30\u001b[0m \u001b[0;34m@\u001b[0m\u001b[0mkeras_modules_injection\u001b[0m\u001b[0;34m\u001b[0m\u001b[0;34m\u001b[0m\u001b[0m\n\u001b[1;32m     31\u001b[0m \u001b[0;32mdef\u001b[0m \u001b[0mResNet50\u001b[0m\u001b[0;34m(\u001b[0m\u001b[0;34m*\u001b[0m\u001b[0margs\u001b[0m\u001b[0;34m,\u001b[0m \u001b[0;34m**\u001b[0m\u001b[0mkwargs\u001b[0m\u001b[0;34m)\u001b[0m\u001b[0;34m:\u001b[0m\u001b[0;34m\u001b[0m\u001b[0;34m\u001b[0m\u001b[0m\n\u001b[0;32m---> 32\u001b[0;31m   \u001b[0;32mreturn\u001b[0m \u001b[0mresnet50\u001b[0m\u001b[0;34m.\u001b[0m\u001b[0mResNet50\u001b[0m\u001b[0;34m(\u001b[0m\u001b[0;34m*\u001b[0m\u001b[0margs\u001b[0m\u001b[0;34m,\u001b[0m \u001b[0;34m**\u001b[0m\u001b[0mkwargs\u001b[0m\u001b[0;34m)\u001b[0m\u001b[0;34m\u001b[0m\u001b[0;34m\u001b[0m\u001b[0m\n\u001b[0m\u001b[1;32m     33\u001b[0m \u001b[0;34m\u001b[0m\u001b[0m\n\u001b[1;32m     34\u001b[0m \u001b[0;34m\u001b[0m\u001b[0m\n",
            "\u001b[0;32m/usr/local/lib/python3.6/dist-packages/keras_applications/resnet50.py\u001b[0m in \u001b[0;36mResNet50\u001b[0;34m(include_top, weights, input_tensor, input_shape, pooling, classes, **kwargs)\u001b[0m\n\u001b[1;32m    289\u001b[0m                 \u001b[0mcache_subdir\u001b[0m\u001b[0;34m=\u001b[0m\u001b[0;34m'models'\u001b[0m\u001b[0;34m,\u001b[0m\u001b[0;34m\u001b[0m\u001b[0;34m\u001b[0m\u001b[0m\n\u001b[1;32m    290\u001b[0m                 md5_hash='a268eb855778b3df3c7506639542a6af')\n\u001b[0;32m--> 291\u001b[0;31m         \u001b[0mmodel\u001b[0m\u001b[0;34m.\u001b[0m\u001b[0mload_weights\u001b[0m\u001b[0;34m(\u001b[0m\u001b[0mweights_path\u001b[0m\u001b[0;34m)\u001b[0m\u001b[0;34m\u001b[0m\u001b[0;34m\u001b[0m\u001b[0m\n\u001b[0m\u001b[1;32m    292\u001b[0m         \u001b[0;32mif\u001b[0m \u001b[0mbackend\u001b[0m\u001b[0;34m.\u001b[0m\u001b[0mbackend\u001b[0m\u001b[0;34m(\u001b[0m\u001b[0;34m)\u001b[0m \u001b[0;34m==\u001b[0m \u001b[0;34m'theano'\u001b[0m\u001b[0;34m:\u001b[0m\u001b[0;34m\u001b[0m\u001b[0;34m\u001b[0m\u001b[0m\n\u001b[1;32m    293\u001b[0m             \u001b[0mkeras_utils\u001b[0m\u001b[0;34m.\u001b[0m\u001b[0mconvert_all_kernels_in_model\u001b[0m\u001b[0;34m(\u001b[0m\u001b[0mmodel\u001b[0m\u001b[0;34m)\u001b[0m\u001b[0;34m\u001b[0m\u001b[0;34m\u001b[0m\u001b[0m\n",
            "\u001b[0;32m/usr/local/lib/python3.6/dist-packages/tensorflow/python/keras/engine/network.py\u001b[0m in \u001b[0;36mload_weights\u001b[0;34m(self, filepath, by_name)\u001b[0m\n\u001b[1;32m   1530\u001b[0m     \u001b[0;32mif\u001b[0m \u001b[0mh5py\u001b[0m \u001b[0;32mis\u001b[0m \u001b[0;32mNone\u001b[0m\u001b[0;34m:\u001b[0m\u001b[0;34m\u001b[0m\u001b[0;34m\u001b[0m\u001b[0m\n\u001b[1;32m   1531\u001b[0m       raise ImportError(\n\u001b[0;32m-> 1532\u001b[0;31m           '`load_weights` requires h5py when loading weights from HDF5.')\n\u001b[0m\u001b[1;32m   1533\u001b[0m     \u001b[0;32mif\u001b[0m \u001b[0mself\u001b[0m\u001b[0;34m.\u001b[0m\u001b[0m_is_graph_network\u001b[0m \u001b[0;32mand\u001b[0m \u001b[0;32mnot\u001b[0m \u001b[0mself\u001b[0m\u001b[0;34m.\u001b[0m\u001b[0mbuilt\u001b[0m\u001b[0;34m:\u001b[0m\u001b[0;34m\u001b[0m\u001b[0;34m\u001b[0m\u001b[0m\n\u001b[1;32m   1534\u001b[0m       raise NotImplementedError(\n",
            "\u001b[0;31mImportError\u001b[0m: `load_weights` requires h5py when loading weights from HDF5.",
            "",
            "\u001b[0;31m---------------------------------------------------------------------------\u001b[0;32m\nNOTE: If your import is failing due to a missing package, you can\nmanually install dependencies using either !pip or !apt.\n\nTo view examples of installing some common dependencies, click the\n\"Open Examples\" button below.\n\u001b[0;31m---------------------------------------------------------------------------\u001b[0m\n"
          ]
        }
      ]
    },
    {
      "cell_type": "code",
      "metadata": {
        "id": "2fNKBHH-1qen",
        "colab": {
          "base_uri": "https://localhost:8080/"
        },
        "outputId": "620acd55-ae76-48de-e76d-115ab0a31c41"
      },
      "source": [
        "model.summary()"
      ],
      "execution_count": null,
      "outputs": [
        {
          "output_type": "stream",
          "text": [
            "_________________________________________________________________\n",
            "Layer (type)                 Output Shape              Param #   \n",
            "=================================================================\n",
            "resnet50 (Model)             (None, 8, 8, 2048)        23587712  \n",
            "_________________________________________________________________\n",
            "max_pooling2d_1 (MaxPooling2 (None, 4, 4, 2048)        0         \n",
            "_________________________________________________________________\n",
            "max_pooling2d_2 (MaxPooling2 (None, 2, 2, 2048)        0         \n",
            "_________________________________________________________________\n",
            "flatten (Flatten)            (None, 8192)              0         \n",
            "_________________________________________________________________\n",
            "dense (Dense)                (None, 5)                 40965     \n",
            "=================================================================\n",
            "Total params: 23,628,677\n",
            "Trainable params: 23,365,893\n",
            "Non-trainable params: 262,784\n",
            "_________________________________________________________________\n"
          ],
          "name": "stdout"
        }
      ]
    },
    {
      "cell_type": "code",
      "metadata": {
        "id": "65dqcCUqXqGx"
      },
      "source": [
        "model.save('/tmp/resnet50reshape.h5')"
      ],
      "execution_count": null,
      "outputs": []
    },
    {
      "cell_type": "code",
      "metadata": {
        "colab": {
          "base_uri": "https://localhost:8080/"
        },
        "id": "nAzVRhKhXkz4",
        "outputId": "96f2c6dc-47de-41b4-efcd-830d9dbb7fff"
      },
      "source": [
        "model = tf.keras.models.load_model('best_model_resnet50_tf_1.12.hdf5')"
      ],
      "execution_count": null,
      "outputs": [
        {
          "output_type": "stream",
          "text": [
            "WARNING:tensorflow:No training configuration found in save file: the model was *not* compiled. Compile it manually.\n"
          ],
          "name": "stdout"
        }
      ]
    },
    {
      "cell_type": "code",
      "metadata": {
        "colab": {
          "base_uri": "https://localhost:8080/"
        },
        "id": "Oivq17YFHn64",
        "outputId": "40d16853-60f8-4cdf-b204-1cb22ff5de10"
      },
      "source": [
        "print(model.input)\n",
        "print(model.output)"
      ],
      "execution_count": null,
      "outputs": [
        {
          "output_type": "stream",
          "text": [
            "Tensor(\"resnet50_input_1:0\", shape=(?, 256, 256, 3), dtype=float32)\n",
            "Tensor(\"Softmax_1:0\", shape=(?, 5), dtype=float32)\n"
          ],
          "name": "stdout"
        }
      ]
    },
    {
      "cell_type": "code",
      "metadata": {
        "id": "uSglGBUhZLAD"
      },
      "source": [
        "from tensorflow.python.framework import graph_util\n",
        "from tensorflow.python.framework import graph_io\n",
        "from tensorflow.keras.models import load_model\n",
        "from tensorflow.keras import backend as K\n",
        "import os.path as osp\n",
        "\n",
        "#model = load_model('/content/drive/My Drive/Colab Notebooks/Transfer Learning experiments/best model/resnet50 tf 1.12.hdf5')\n",
        "#nb_classes = 5 # The number of output nodes in the model\n",
        "#prefix_output_node_names_of_final_network = 'output_node'\n",
        "\n",
        "K.set_learning_phase(0)\n",
        "\n",
        "sess = K.get_session()\n",
        "output_fld = '/tmp/frozen_graph'\n",
        "if not os.path.isdir(output_fld):\n",
        "    os.mkdir(output_fld)\n",
        "output_graph_name = '/tmp/frozen_graph/Frozen_ResNetAVG' + '.pb'\n",
        "output_graph_suffix = '_inference'\n",
        "\n",
        "constant_graph = graph_util.convert_variables_to_constants(sess, sess.graph.as_graph_def(),['Softmax_1'] )\n",
        "graph_io.write_graph(constant_graph, output_fld, output_graph_name, as_text=False)\n",
        "print('saved the constant graph (ready for inference) at: ', osp.join(output_fld, output_graph_name))"
      ],
      "execution_count": null,
      "outputs": []
    },
    {
      "cell_type": "code",
      "metadata": {
        "colab": {
          "base_uri": "https://localhost:8080/",
          "height": 393
        },
        "id": "os7MhLjAHm85",
        "outputId": "95a0f352-77b6-4abf-a126-02f8c0e5d060"
      },
      "source": [
        "from tensorflow.python.framework import graph_util\n",
        "from tensorflow.python.framework import graph_io\n",
        "from tensorflow.keras.models import load_model\n",
        "from tensorflow.keras import backend as K\n",
        "import os.path as osp\n",
        "\n",
        "#model = load_model('/content/drive/My Drive/Colab Notebooks/Transfer Learning experiments/best model/resnet50 tf 1.12.hdf5')\n",
        "#nb_classes = 5 # The number of output nodes in the model\n",
        "#prefix_output_node_names_of_final_network = 'output_node'\n",
        "\n",
        "K.set_learning_phase(0)\n",
        "\n",
        "sess = K.get_session()\n",
        "output_fld = '/tmp/frozen_graph'\n",
        "if not os.path.isdir(output_fld):\n",
        "    os.mkdir(output_fld)\n",
        "output_graph_name = '/tmp/frozen_graph/Frozen_ResNetAVG' + '.pb'\n",
        "output_graph_suffix = '_inference'\n",
        "\n",
        "constant_graph = graph_util.convert_variables_to_constants(sess, sess.graph.as_graph_def(),['dense/Identity'] )\n",
        "graph_io.write_graph(constant_graph, output_fld, output_graph_name, as_text=False)\n",
        "print('saved the constant graph (ready for inference) at: ', osp.join(output_fld, output_graph_name))"
      ],
      "execution_count": null,
      "outputs": [
        {
          "output_type": "error",
          "ename": "TypeError",
          "evalue": "ignored",
          "traceback": [
            "\u001b[0;31m---------------------------------------------------------------------------\u001b[0m",
            "\u001b[0;31mTypeError\u001b[0m                                 Traceback (most recent call last)",
            "\u001b[0;32m<ipython-input-11-ada735a9148c>\u001b[0m in \u001b[0;36m<module>\u001b[0;34m()\u001b[0m\n\u001b[1;32m     18\u001b[0m \u001b[0moutput_graph_suffix\u001b[0m \u001b[0;34m=\u001b[0m \u001b[0;34m'_inference'\u001b[0m\u001b[0;34m\u001b[0m\u001b[0;34m\u001b[0m\u001b[0m\n\u001b[1;32m     19\u001b[0m \u001b[0;34m\u001b[0m\u001b[0m\n\u001b[0;32m---> 20\u001b[0;31m \u001b[0mconstant_graph\u001b[0m \u001b[0;34m=\u001b[0m \u001b[0mgraph_util\u001b[0m\u001b[0;34m.\u001b[0m\u001b[0mconvert_variables_to_constants\u001b[0m\u001b[0;34m(\u001b[0m\u001b[0msess\u001b[0m\u001b[0;34m,\u001b[0m \u001b[0msess\u001b[0m\u001b[0;34m.\u001b[0m\u001b[0mgraph\u001b[0m\u001b[0;34m.\u001b[0m\u001b[0mas_graph_def\u001b[0m\u001b[0;34m(\u001b[0m\u001b[0;34m)\u001b[0m \u001b[0;34m)\u001b[0m\u001b[0;34m\u001b[0m\u001b[0;34m\u001b[0m\u001b[0m\n\u001b[0m\u001b[1;32m     21\u001b[0m \u001b[0mgraph_io\u001b[0m\u001b[0;34m.\u001b[0m\u001b[0mwrite_graph\u001b[0m\u001b[0;34m(\u001b[0m\u001b[0mconstant_graph\u001b[0m\u001b[0;34m,\u001b[0m \u001b[0moutput_fld\u001b[0m\u001b[0;34m,\u001b[0m \u001b[0moutput_graph_name\u001b[0m\u001b[0;34m,\u001b[0m \u001b[0mas_text\u001b[0m\u001b[0;34m=\u001b[0m\u001b[0;32mFalse\u001b[0m\u001b[0;34m)\u001b[0m\u001b[0;34m\u001b[0m\u001b[0;34m\u001b[0m\u001b[0m\n\u001b[1;32m     22\u001b[0m \u001b[0mprint\u001b[0m\u001b[0;34m(\u001b[0m\u001b[0;34m'saved the constant graph (ready for inference) at: '\u001b[0m\u001b[0;34m,\u001b[0m \u001b[0mosp\u001b[0m\u001b[0;34m.\u001b[0m\u001b[0mjoin\u001b[0m\u001b[0;34m(\u001b[0m\u001b[0moutput_fld\u001b[0m\u001b[0;34m,\u001b[0m \u001b[0moutput_graph_name\u001b[0m\u001b[0;34m)\u001b[0m\u001b[0;34m)\u001b[0m\u001b[0;34m\u001b[0m\u001b[0;34m\u001b[0m\u001b[0m\n",
            "\u001b[0;32m/tensorflow-1.15.2/python3.7/tensorflow_core/python/util/deprecation.py\u001b[0m in \u001b[0;36mnew_func\u001b[0;34m(*args, **kwargs)\u001b[0m\n\u001b[1;32m    322\u001b[0m               \u001b[0;34m'in a future version'\u001b[0m \u001b[0;32mif\u001b[0m \u001b[0mdate\u001b[0m \u001b[0;32mis\u001b[0m \u001b[0;32mNone\u001b[0m \u001b[0;32melse\u001b[0m \u001b[0;34m(\u001b[0m\u001b[0;34m'after %s'\u001b[0m \u001b[0;34m%\u001b[0m \u001b[0mdate\u001b[0m\u001b[0;34m)\u001b[0m\u001b[0;34m,\u001b[0m\u001b[0;34m\u001b[0m\u001b[0;34m\u001b[0m\u001b[0m\n\u001b[1;32m    323\u001b[0m               instructions)\n\u001b[0;32m--> 324\u001b[0;31m       \u001b[0;32mreturn\u001b[0m \u001b[0mfunc\u001b[0m\u001b[0;34m(\u001b[0m\u001b[0;34m*\u001b[0m\u001b[0margs\u001b[0m\u001b[0;34m,\u001b[0m \u001b[0;34m**\u001b[0m\u001b[0mkwargs\u001b[0m\u001b[0;34m)\u001b[0m\u001b[0;34m\u001b[0m\u001b[0;34m\u001b[0m\u001b[0m\n\u001b[0m\u001b[1;32m    325\u001b[0m     return tf_decorator.make_decorator(\n\u001b[1;32m    326\u001b[0m         \u001b[0mfunc\u001b[0m\u001b[0;34m,\u001b[0m \u001b[0mnew_func\u001b[0m\u001b[0;34m,\u001b[0m \u001b[0;34m'deprecated'\u001b[0m\u001b[0;34m,\u001b[0m\u001b[0;34m\u001b[0m\u001b[0;34m\u001b[0m\u001b[0m\n",
            "\u001b[0;31mTypeError\u001b[0m: convert_variables_to_constants() missing 1 required positional argument: 'output_node_names'"
          ]
        }
      ]
    },
    {
      "cell_type": "code",
      "metadata": {
        "id": "XaNyZTejFlsX"
      },
      "source": [
        "%reload_ext tensorboard\n",
        "# define a callback class for early stopping\n",
        "class myCallback_EarlyStopping(tf.keras.callbacks.Callback):\n",
        "    def on_epoch_end(self, epoch, logs = {}):\n",
        "        X, y = testing_generator.next() \n",
        "        y_pred = model.predict(X)\n",
        "        print(\"Displaying Normalized Confusion Matrix...\")\n",
        "        confusion_matrix(y, y_pred, 'normalize')\n",
        "        print(\"Displaying Simple Confusion Matrix...\")\n",
        "        confusion_matrix(y, y_pred, 'none')\n",
        "        print(\"Plotting ROC curve...\")\n",
        "        roc = roc_auc(y,y_pred)\n",
        "        model.save('/content/drive/My Drive/MobileNetv2_7.h5', overwrite = True)\n",
        "        if (roc['macro']>0.90):\n",
        "            print(\"\\n Validation Macro AUC of 90% has reached!\")\n",
        "            model.save('/content/drive/My Drive/Best_Macro_MobileNetv2.h5', overwrite = True)\n",
        "            self.model.stop_training = True\n",
        "        elif (roc['micro']>0.92):\n",
        "            print(\"\\n Validation Micro AUC of 92% has reached!\")\n",
        "            model.save('/content/drive/My Drive/Best_Micro_MobileNetv2.h5', overwrite = True)\n",
        "            self.model.stop_training = True\n",
        "callback_EarlyStopping = myCallback_EarlyStopping()\n",
        "\n",
        "# Callback for tensorboard to update data after every epoch\n",
        "tensorboard = tf.keras.callbacks.TensorBoard(log_dir='/content/drive/My Drive/TensorBoardLogs/MobileNetv2_7_logs/{}'.format(time()))\n",
        "\n",
        "# Callback to reduce learning rate when the validation loss is experiencing no furter reduction\n",
        "reduce_lr = tf.keras.callbacks.ReduceLROnPlateau(monitor='val_loss', factor=0.89,\n",
        "                              patience=5, min_lr=0.00001, verbose = 1)\n",
        "\n",
        "# Callback for saving model at each checkpoint during training\n",
        "model_checkpoint = tf.keras.callbacks.ModelCheckpoint(\n",
        "    filepath=\"/content/drive/My Drive/ModelCheckPoints/checkpoint/MobileNetv2_7.hdf5\",\n",
        "    monitor='val_acc',\n",
        "    mode='max',\n",
        "    save_best_only=True)\n",
        "\n",
        "# Save the data per epoch into a CSV file\n",
        "csv_logger = tf.keras.callbacks.CSVLogger('/content/drive/My Drive/MobileNetv2_7_TrainingData.csv', separator=\",\", append=True)"
      ],
      "execution_count": null,
      "outputs": []
    },
    {
      "cell_type": "code",
      "metadata": {
        "id": "UUVm9vZkIQfA"
      },
      "source": [
        "def confusion_matrix(y_test, y_pred, *args):\n",
        "    y_pred_L = np.argmax(y_pred, axis=1)\n",
        "    y_test_L = np.argmax(y_test, axis=1)\n",
        "    for arg in args:\n",
        "        if arg == 'normalize':\n",
        "            cn = sklearn.metrics.confusion_matrix(y_test_L, y_pred_L, normalize = 'all')\n",
        "            df_cm = pd.DataFrame(cn, range(5), range(5))\n",
        "            plt.figure(figsize=(14, 7))\n",
        "            sn.set(font_scale=1) # for label size\n",
        "            sn.heatmap(df_cm, annot=True, annot_kws={\"size\": 12}) # font size\n",
        "            plt.show()\n",
        "        elif arg == 'none':\n",
        "            cn = sklearn.metrics.confusion_matrix(y_test_L, y_pred_L)\n",
        "            df_cm = pd.DataFrame(cn, range(5), range(5))\n",
        "            plt.figure(figsize=(14, 7))\n",
        "            sn.set(font_scale=1) # for label size\n",
        "            sn.heatmap(df_cm, annot=True, annot_kws={\"size\": 12}, fmt = 'd') # font size\n",
        "            plt.show()"
      ],
      "execution_count": null,
      "outputs": []
    },
    {
      "cell_type": "code",
      "metadata": {
        "id": "FpMUsQDMIUAC"
      },
      "source": [
        "def roc_auc(y_test, y_pred):\n",
        "    # Compute ROC curve and ROC area for each class\n",
        "    lw = 2\n",
        "    fpr = dict()\n",
        "    tpr = dict()\n",
        "    roc_auc = dict()\n",
        "\n",
        "    n_classes = 5\n",
        "    for i in range(n_classes):\n",
        "        fpr[i], tpr[i], _ = roc_curve(y_test[:, i], y_pred[:, i])\n",
        "        roc_auc[i] = auc(fpr[i], tpr[i])\n",
        "\n",
        "    # Compute micro-average ROC curve and ROC area\n",
        "    fpr[\"micro\"], tpr[\"micro\"], _ = roc_curve(y_test.ravel(), y_pred.ravel())\n",
        "    roc_auc[\"micro\"] = auc(fpr[\"micro\"], tpr[\"micro\"])\n",
        "\n",
        "\n",
        "    # First aggregate all false positive rates\n",
        "    all_fpr = np.unique(np.concatenate([fpr[i] for i in range(n_classes)]))\n",
        "\n",
        "    # Then interpolate all ROC curves at this points\n",
        "    mean_tpr = np.zeros_like(all_fpr)\n",
        "    for i in range(n_classes):\n",
        "        mean_tpr += interp(all_fpr, fpr[i], tpr[i])\n",
        "\n",
        "    # Finally average it and compute AUC\n",
        "    mean_tpr /= n_classes\n",
        "\n",
        "    fpr[\"macro\"] = all_fpr\n",
        "    tpr[\"macro\"] = mean_tpr\n",
        "    roc_auc[\"macro\"] = auc(fpr[\"macro\"], tpr[\"macro\"])\n",
        "\n",
        "    # Plot all ROC curves\n",
        "    plt.figure()\n",
        "    plt.plot(fpr[\"micro\"], tpr[\"micro\"],\n",
        "            label='micro-average ROC curve (area = {0:0.2f})'\n",
        "                ''.format(roc_auc[\"micro\"]),\n",
        "            color='deeppink', linestyle=':', linewidth=4)\n",
        "\n",
        "    plt.plot(fpr[\"macro\"], tpr[\"macro\"],\n",
        "            label='macro-average ROC curve (area = {0:0.2f})'\n",
        "                ''.format(roc_auc[\"macro\"]),\n",
        "            color='navy', linestyle=':', linewidth=4)\n",
        "\n",
        "    colors = cycle(['aqua', 'darkorange', 'cornflowerblue', 'purple', 'red'])\n",
        "    for i, color in zip(range(n_classes), colors):\n",
        "        plt.plot(fpr[i], tpr[i], color=color, lw=lw,\n",
        "                label='ROC curve of class {0} (area = {1:0.2f})'\n",
        "                ''.format(i, roc_auc[i]))\n",
        "\n",
        "    plt.plot([0, 1], [0, 1], 'k--', lw=lw)\n",
        "    plt.xlim([0.0, 1.0])\n",
        "    plt.ylim([0.0, 1.05])\n",
        "    plt.xlabel('False Positive Rate')\n",
        "    plt.ylabel('True Positive Rate')\n",
        "    plt.title('Some extension of Receiver operating characteristic to multi-class')\n",
        "    plt.legend(loc=\"lower right\")\n",
        "    plt.show()\n",
        "    return roc_auc"
      ],
      "execution_count": null,
      "outputs": []
    },
    {
      "cell_type": "code",
      "metadata": {
        "id": "tK3kpCsM9QNx"
      },
      "source": [
        "X, y = testing_generator.next()"
      ],
      "execution_count": null,
      "outputs": []
    },
    {
      "cell_type": "code",
      "metadata": {
        "id": "uXTuLb_e9Xnc"
      },
      "source": [
        "y_pred = model.predict(X)"
      ],
      "execution_count": null,
      "outputs": []
    },
    {
      "cell_type": "code",
      "metadata": {
        "id": "i1lIFt769duX"
      },
      "source": [
        "confusion_matrix(y,y_pred)"
      ],
      "execution_count": null,
      "outputs": []
    },
    {
      "cell_type": "code",
      "metadata": {
        "id": "5FLSLgv39ktv",
        "colab": {
          "base_uri": "https://localhost:8080/",
          "height": 752
        },
        "outputId": "e2837b55-11ac-4b12-f48f-8d0007abcca3"
      },
      "source": [
        "roc_auc(y,y_pred)\n",
        "confusion_matrix(y,y_pred, 'none')"
      ],
      "execution_count": null,
      "outputs": [
        {
          "output_type": "stream",
          "text": [
            "/usr/local/lib/python3.6/dist-packages/ipykernel_launcher.py:24: DeprecationWarning: scipy.interp is deprecated and will be removed in SciPy 2.0.0, use numpy.interp instead\n"
          ],
          "name": "stderr"
        },
        {
          "output_type": "display_data",
          "data": {
            "image/png": "[encoded data removed]",
            "text/plain": [
              "<Figure size 432x288 with 1 Axes>"
            ]
          },
          "metadata": {
            "tags": []
          }
        },
        {
          "output_type": "display_data",
          "data": {
            "image/png": "[encoded data removed]",
            "text/plain": [
              "<Figure size 1008x504 with 2 Axes>"
            ]
          },
          "metadata": {
            "tags": []
          }
        }
      ]
    },
    {
      "cell_type": "code",
      "metadata": {
        "id": "8hc0RODH93gb",
        "colab": {
          "base_uri": "https://localhost:8080/",
          "height": 1000
        },
        "outputId": "92992b88-83e0-44c9-a2b0-d2142ac86242"
      },
      "source": [
        "print(\"Displaying Normalized Confusion Matrix...\")\n",
        "confusion_matrix(y, y_pred, 'normalize')\n",
        "print(\"Displaying Simple Confusion Matrix...\")\n",
        "confusion_matrix(y, y_pred, 'none')\n",
        "print(\"Plotting ROC curve...\")\n",
        "roc = roc_auc(y,y_pred)"
      ],
      "execution_count": null,
      "outputs": [
        {
          "output_type": "stream",
          "text": [
            "Displaying Normalized Confusion Matrix...\n"
          ],
          "name": "stdout"
        },
        {
          "output_type": "display_data",
          "data": {
            "image/png": "[encoded data removed]",
            "text/plain": [
              "<Figure size 1008x504 with 2 Axes>"
            ]
          },
          "metadata": {
            "tags": [],
            "needs_background": "light"
          }
        },
        {
          "output_type": "stream",
          "text": [
            "Displaying Simple Confusion Matrix...\n"
          ],
          "name": "stdout"
        },
        {
          "output_type": "display_data",
          "data": {
            "image/png": "[encoded data removed]",
            "text/plain": [
              "<Figure size 1008x504 with 2 Axes>"
            ]
          },
          "metadata": {
            "tags": []
          }
        },
        {
          "output_type": "stream",
          "text": [
            "Plotting ROC curve...\n"
          ],
          "name": "stdout"
        },
        {
          "output_type": "stream",
          "text": [
            "/usr/local/lib/python3.6/dist-packages/ipykernel_launcher.py:24: DeprecationWarning: scipy.interp is deprecated and will be removed in SciPy 2.0.0, use numpy.interp instead\n"
          ],
          "name": "stderr"
        },
        {
          "output_type": "display_data",
          "data": {
            "image/png": "[encoded data removed]",
            "text/plain": [
              "<Figure size 432x288 with 1 Axes>"
            ]
          },
          "metadata": {
            "tags": []
          }
        }
      ]
    },
    {
      "cell_type": "code",
      "metadata": {
        "id": "3en9SVrM5MRq",
        "colab": {
          "base_uri": "https://localhost:8080/",
          "height": 423
        },
        "outputId": "71e9195d-b7ab-4a7b-acd4-bdb598726130"
      },
      "source": [
        "model.load_weights('/content/drive/My Drive/MobileNetv2_4.h5')\n",
        "for layer in model.layers[0].layers[10:70]:\n",
        "    layer.trainable = True\n",
        "model.compile(\n",
        "    optimizer=tf.train.AdamOptimizer(learning_rate = 0.0001),\n",
        "    loss=['categorical_crossentropy'],\n",
        "    metrics=['accuracy']\n",
        ")"
      ],
      "execution_count": null,
      "outputs": [
        {
          "output_type": "error",
          "ename": "ValueError",
          "evalue": "ignored",
          "traceback": [
            "\u001b[0;31m---------------------------------------------------------------------------\u001b[0m",
            "\u001b[0;31mValueError\u001b[0m                                Traceback (most recent call last)",
            "\u001b[0;32m<ipython-input-41-6e1b7cc309ad>\u001b[0m in \u001b[0;36m<module>\u001b[0;34m()\u001b[0m\n\u001b[0;32m----> 1\u001b[0;31m \u001b[0mmodel\u001b[0m\u001b[0;34m.\u001b[0m\u001b[0mload_weights\u001b[0m\u001b[0;34m(\u001b[0m\u001b[0;34m'/content/drive/My Drive/MobileNetv2_4.h5'\u001b[0m\u001b[0;34m)\u001b[0m\u001b[0;34m\u001b[0m\u001b[0;34m\u001b[0m\u001b[0m\n\u001b[0m\u001b[1;32m      2\u001b[0m \u001b[0;32mfor\u001b[0m \u001b[0mlayer\u001b[0m \u001b[0;32min\u001b[0m \u001b[0mmodel\u001b[0m\u001b[0;34m.\u001b[0m\u001b[0mlayers\u001b[0m\u001b[0;34m[\u001b[0m\u001b[0;36m0\u001b[0m\u001b[0;34m]\u001b[0m\u001b[0;34m.\u001b[0m\u001b[0mlayers\u001b[0m\u001b[0;34m[\u001b[0m\u001b[0;36m10\u001b[0m\u001b[0;34m:\u001b[0m\u001b[0;36m70\u001b[0m\u001b[0;34m]\u001b[0m\u001b[0;34m:\u001b[0m\u001b[0;34m\u001b[0m\u001b[0;34m\u001b[0m\u001b[0m\n\u001b[1;32m      3\u001b[0m     \u001b[0mlayer\u001b[0m\u001b[0;34m.\u001b[0m\u001b[0mtrainable\u001b[0m \u001b[0;34m=\u001b[0m \u001b[0;32mTrue\u001b[0m\u001b[0;34m\u001b[0m\u001b[0;34m\u001b[0m\u001b[0m\n\u001b[1;32m      4\u001b[0m model.compile(\n\u001b[1;32m      5\u001b[0m     \u001b[0moptimizer\u001b[0m\u001b[0;34m=\u001b[0m\u001b[0mtf\u001b[0m\u001b[0;34m.\u001b[0m\u001b[0mtrain\u001b[0m\u001b[0;34m.\u001b[0m\u001b[0mAdamOptimizer\u001b[0m\u001b[0;34m(\u001b[0m\u001b[0mlearning_rate\u001b[0m \u001b[0;34m=\u001b[0m \u001b[0;36m0.0001\u001b[0m\u001b[0;34m)\u001b[0m\u001b[0;34m,\u001b[0m\u001b[0;34m\u001b[0m\u001b[0;34m\u001b[0m\u001b[0m\n",
            "\u001b[0;32m/usr/local/lib/python3.6/dist-packages/tensorflow/python/keras/engine/network.py\u001b[0m in \u001b[0;36mload_weights\u001b[0;34m(self, filepath, by_name)\u001b[0m\n\u001b[1;32m   1542\u001b[0m         \u001b[0msaving\u001b[0m\u001b[0;34m.\u001b[0m\u001b[0mload_weights_from_hdf5_group_by_name\u001b[0m\u001b[0;34m(\u001b[0m\u001b[0mf\u001b[0m\u001b[0;34m,\u001b[0m \u001b[0mself\u001b[0m\u001b[0;34m.\u001b[0m\u001b[0mlayers\u001b[0m\u001b[0;34m)\u001b[0m\u001b[0;34m\u001b[0m\u001b[0;34m\u001b[0m\u001b[0m\n\u001b[1;32m   1543\u001b[0m       \u001b[0;32melse\u001b[0m\u001b[0;34m:\u001b[0m\u001b[0;34m\u001b[0m\u001b[0;34m\u001b[0m\u001b[0m\n\u001b[0;32m-> 1544\u001b[0;31m         \u001b[0msaving\u001b[0m\u001b[0;34m.\u001b[0m\u001b[0mload_weights_from_hdf5_group\u001b[0m\u001b[0;34m(\u001b[0m\u001b[0mf\u001b[0m\u001b[0;34m,\u001b[0m \u001b[0mself\u001b[0m\u001b[0;34m.\u001b[0m\u001b[0mlayers\u001b[0m\u001b[0;34m)\u001b[0m\u001b[0;34m\u001b[0m\u001b[0;34m\u001b[0m\u001b[0m\n\u001b[0m\u001b[1;32m   1545\u001b[0m \u001b[0;34m\u001b[0m\u001b[0m\n\u001b[1;32m   1546\u001b[0m   \u001b[0;32mdef\u001b[0m \u001b[0m_updated_config\u001b[0m\u001b[0;34m(\u001b[0m\u001b[0mself\u001b[0m\u001b[0;34m)\u001b[0m\u001b[0;34m:\u001b[0m\u001b[0;34m\u001b[0m\u001b[0;34m\u001b[0m\u001b[0m\n",
            "\u001b[0;32m/usr/local/lib/python3.6/dist-packages/tensorflow/python/keras/engine/saving.py\u001b[0m in \u001b[0;36mload_weights_from_hdf5_group\u001b[0;34m(f, layers)\u001b[0m\n\u001b[1;32m    794\u001b[0m     \u001b[0msymbolic_weights\u001b[0m \u001b[0;34m=\u001b[0m \u001b[0mlayer\u001b[0m\u001b[0;34m.\u001b[0m\u001b[0mweights\u001b[0m\u001b[0;34m\u001b[0m\u001b[0;34m\u001b[0m\u001b[0m\n\u001b[1;32m    795\u001b[0m     weight_values = preprocess_weights_for_loading(\n\u001b[0;32m--> 796\u001b[0;31m         layer, weight_values, original_keras_version, original_backend)\n\u001b[0m\u001b[1;32m    797\u001b[0m     \u001b[0;32mif\u001b[0m \u001b[0mlen\u001b[0m\u001b[0;34m(\u001b[0m\u001b[0mweight_values\u001b[0m\u001b[0;34m)\u001b[0m \u001b[0;34m!=\u001b[0m \u001b[0mlen\u001b[0m\u001b[0;34m(\u001b[0m\u001b[0msymbolic_weights\u001b[0m\u001b[0;34m)\u001b[0m\u001b[0;34m:\u001b[0m\u001b[0;34m\u001b[0m\u001b[0;34m\u001b[0m\u001b[0m\n\u001b[1;32m    798\u001b[0m       raise ValueError('Layer #' + str(k) + ' (named \"' + layer.name +\n",
            "\u001b[0;32m/usr/local/lib/python3.6/dist-packages/tensorflow/python/keras/engine/saving.py\u001b[0m in \u001b[0;36mpreprocess_weights_for_loading\u001b[0;34m(layer, weights, original_keras_version, original_backend)\u001b[0m\n\u001b[1;32m    452\u001b[0m     \u001b[0mweights\u001b[0m \u001b[0;34m=\u001b[0m \u001b[0mconvert_nested_time_distributed\u001b[0m\u001b[0;34m(\u001b[0m\u001b[0mweights\u001b[0m\u001b[0;34m)\u001b[0m\u001b[0;34m\u001b[0m\u001b[0;34m\u001b[0m\u001b[0m\n\u001b[1;32m    453\u001b[0m   \u001b[0;32melif\u001b[0m \u001b[0mlayer\u001b[0m\u001b[0;34m.\u001b[0m\u001b[0m__class__\u001b[0m\u001b[0;34m.\u001b[0m\u001b[0m__name__\u001b[0m \u001b[0;32min\u001b[0m \u001b[0;34m[\u001b[0m\u001b[0;34m'Model'\u001b[0m\u001b[0;34m,\u001b[0m \u001b[0;34m'Sequential'\u001b[0m\u001b[0;34m]\u001b[0m\u001b[0;34m:\u001b[0m\u001b[0;34m\u001b[0m\u001b[0;34m\u001b[0m\u001b[0m\n\u001b[0;32m--> 454\u001b[0;31m     \u001b[0mweights\u001b[0m \u001b[0;34m=\u001b[0m \u001b[0mconvert_nested_model\u001b[0m\u001b[0;34m(\u001b[0m\u001b[0mweights\u001b[0m\u001b[0;34m)\u001b[0m\u001b[0;34m\u001b[0m\u001b[0;34m\u001b[0m\u001b[0m\n\u001b[0m\u001b[1;32m    455\u001b[0m \u001b[0;34m\u001b[0m\u001b[0m\n\u001b[1;32m    456\u001b[0m   \u001b[0;32mif\u001b[0m \u001b[0moriginal_keras_version\u001b[0m \u001b[0;34m==\u001b[0m \u001b[0;34m'1'\u001b[0m\u001b[0;34m:\u001b[0m\u001b[0;34m\u001b[0m\u001b[0;34m\u001b[0m\u001b[0m\n",
            "\u001b[0;32m/usr/local/lib/python3.6/dist-packages/tensorflow/python/keras/engine/saving.py\u001b[0m in \u001b[0;36mconvert_nested_model\u001b[0;34m(weights)\u001b[0m\n\u001b[1;32m    428\u001b[0m             \u001b[0mweights\u001b[0m\u001b[0;34m=\u001b[0m\u001b[0mweights\u001b[0m\u001b[0;34m[\u001b[0m\u001b[0;34m:\u001b[0m\u001b[0mnum_weights\u001b[0m\u001b[0;34m]\u001b[0m\u001b[0;34m,\u001b[0m\u001b[0;34m\u001b[0m\u001b[0;34m\u001b[0m\u001b[0m\n\u001b[1;32m    429\u001b[0m             \u001b[0moriginal_keras_version\u001b[0m\u001b[0;34m=\u001b[0m\u001b[0moriginal_keras_version\u001b[0m\u001b[0;34m,\u001b[0m\u001b[0;34m\u001b[0m\u001b[0;34m\u001b[0m\u001b[0m\n\u001b[0;32m--> 430\u001b[0;31m             original_backend=original_backend))\n\u001b[0m\u001b[1;32m    431\u001b[0m         \u001b[0mweights\u001b[0m \u001b[0;34m=\u001b[0m \u001b[0mweights\u001b[0m\u001b[0;34m[\u001b[0m\u001b[0mnum_weights\u001b[0m\u001b[0;34m:\u001b[0m\u001b[0;34m]\u001b[0m\u001b[0;34m\u001b[0m\u001b[0;34m\u001b[0m\u001b[0m\n\u001b[1;32m    432\u001b[0m \u001b[0;34m\u001b[0m\u001b[0m\n",
            "\u001b[0;32m/usr/local/lib/python3.6/dist-packages/tensorflow/python/keras/engine/saving.py\u001b[0m in \u001b[0;36mpreprocess_weights_for_loading\u001b[0;34m(layer, weights, original_keras_version, original_backend)\u001b[0m\n\u001b[1;32m    534\u001b[0m         \u001b[0mweights\u001b[0m\u001b[0;34m[\u001b[0m\u001b[0;36m1\u001b[0m\u001b[0;34m]\u001b[0m \u001b[0;34m=\u001b[0m \u001b[0mconv_utils\u001b[0m\u001b[0;34m.\u001b[0m\u001b[0mconvert_kernel\u001b[0m\u001b[0;34m(\u001b[0m\u001b[0mweights\u001b[0m\u001b[0;34m[\u001b[0m\u001b[0;36m1\u001b[0m\u001b[0;34m]\u001b[0m\u001b[0;34m)\u001b[0m\u001b[0;34m\u001b[0m\u001b[0;34m\u001b[0m\u001b[0m\n\u001b[1;32m    535\u001b[0m     \u001b[0;32mif\u001b[0m \u001b[0mK\u001b[0m\u001b[0;34m.\u001b[0m\u001b[0mint_shape\u001b[0m\u001b[0;34m(\u001b[0m\u001b[0mlayer\u001b[0m\u001b[0;34m.\u001b[0m\u001b[0mweights\u001b[0m\u001b[0;34m[\u001b[0m\u001b[0;36m0\u001b[0m\u001b[0;34m]\u001b[0m\u001b[0;34m)\u001b[0m \u001b[0;34m!=\u001b[0m \u001b[0mweights\u001b[0m\u001b[0;34m[\u001b[0m\u001b[0;36m0\u001b[0m\u001b[0;34m]\u001b[0m\u001b[0;34m.\u001b[0m\u001b[0mshape\u001b[0m\u001b[0;34m:\u001b[0m\u001b[0;34m\u001b[0m\u001b[0;34m\u001b[0m\u001b[0m\n\u001b[0;32m--> 536\u001b[0;31m       \u001b[0mweights\u001b[0m\u001b[0;34m[\u001b[0m\u001b[0;36m0\u001b[0m\u001b[0;34m]\u001b[0m \u001b[0;34m=\u001b[0m \u001b[0mnp\u001b[0m\u001b[0;34m.\u001b[0m\u001b[0mtranspose\u001b[0m\u001b[0;34m(\u001b[0m\u001b[0mweights\u001b[0m\u001b[0;34m[\u001b[0m\u001b[0;36m0\u001b[0m\u001b[0;34m]\u001b[0m\u001b[0;34m,\u001b[0m \u001b[0;34m(\u001b[0m\u001b[0;36m3\u001b[0m\u001b[0;34m,\u001b[0m \u001b[0;36m2\u001b[0m\u001b[0;34m,\u001b[0m \u001b[0;36m0\u001b[0m\u001b[0;34m,\u001b[0m \u001b[0;36m1\u001b[0m\u001b[0;34m)\u001b[0m\u001b[0;34m)\u001b[0m\u001b[0;34m\u001b[0m\u001b[0;34m\u001b[0m\u001b[0m\n\u001b[0m\u001b[1;32m    537\u001b[0m       \u001b[0;32mif\u001b[0m \u001b[0mlayer\u001b[0m\u001b[0;34m.\u001b[0m\u001b[0m__class__\u001b[0m\u001b[0;34m.\u001b[0m\u001b[0m__name__\u001b[0m \u001b[0;34m==\u001b[0m \u001b[0;34m'ConvLSTM2D'\u001b[0m\u001b[0;34m:\u001b[0m\u001b[0;34m\u001b[0m\u001b[0;34m\u001b[0m\u001b[0m\n\u001b[1;32m    538\u001b[0m         \u001b[0mweights\u001b[0m\u001b[0;34m[\u001b[0m\u001b[0;36m1\u001b[0m\u001b[0;34m]\u001b[0m \u001b[0;34m=\u001b[0m \u001b[0mnp\u001b[0m\u001b[0;34m.\u001b[0m\u001b[0mtranspose\u001b[0m\u001b[0;34m(\u001b[0m\u001b[0mweights\u001b[0m\u001b[0;34m[\u001b[0m\u001b[0;36m1\u001b[0m\u001b[0;34m]\u001b[0m\u001b[0;34m,\u001b[0m \u001b[0;34m(\u001b[0m\u001b[0;36m3\u001b[0m\u001b[0;34m,\u001b[0m \u001b[0;36m2\u001b[0m\u001b[0;34m,\u001b[0m \u001b[0;36m0\u001b[0m\u001b[0;34m,\u001b[0m \u001b[0;36m1\u001b[0m\u001b[0;34m)\u001b[0m\u001b[0;34m)\u001b[0m\u001b[0;34m\u001b[0m\u001b[0;34m\u001b[0m\u001b[0m\n",
            "\u001b[0;32m<__array_function__ internals>\u001b[0m in \u001b[0;36mtranspose\u001b[0;34m(*args, **kwargs)\u001b[0m\n",
            "\u001b[0;32m/usr/local/lib/python3.6/dist-packages/numpy/core/fromnumeric.py\u001b[0m in \u001b[0;36mtranspose\u001b[0;34m(a, axes)\u001b[0m\n\u001b[1;32m    651\u001b[0m \u001b[0;34m\u001b[0m\u001b[0m\n\u001b[1;32m    652\u001b[0m     \"\"\"\n\u001b[0;32m--> 653\u001b[0;31m     \u001b[0;32mreturn\u001b[0m \u001b[0m_wrapfunc\u001b[0m\u001b[0;34m(\u001b[0m\u001b[0ma\u001b[0m\u001b[0;34m,\u001b[0m \u001b[0;34m'transpose'\u001b[0m\u001b[0;34m,\u001b[0m \u001b[0maxes\u001b[0m\u001b[0;34m)\u001b[0m\u001b[0;34m\u001b[0m\u001b[0;34m\u001b[0m\u001b[0m\n\u001b[0m\u001b[1;32m    654\u001b[0m \u001b[0;34m\u001b[0m\u001b[0m\n\u001b[1;32m    655\u001b[0m \u001b[0;34m\u001b[0m\u001b[0m\n",
            "\u001b[0;32m/usr/local/lib/python3.6/dist-packages/numpy/core/fromnumeric.py\u001b[0m in \u001b[0;36m_wrapfunc\u001b[0;34m(obj, method, *args, **kwds)\u001b[0m\n\u001b[1;32m     56\u001b[0m \u001b[0;34m\u001b[0m\u001b[0m\n\u001b[1;32m     57\u001b[0m     \u001b[0;32mtry\u001b[0m\u001b[0;34m:\u001b[0m\u001b[0;34m\u001b[0m\u001b[0;34m\u001b[0m\u001b[0m\n\u001b[0;32m---> 58\u001b[0;31m         \u001b[0;32mreturn\u001b[0m \u001b[0mbound\u001b[0m\u001b[0;34m(\u001b[0m\u001b[0;34m*\u001b[0m\u001b[0margs\u001b[0m\u001b[0;34m,\u001b[0m \u001b[0;34m**\u001b[0m\u001b[0mkwds\u001b[0m\u001b[0;34m)\u001b[0m\u001b[0;34m\u001b[0m\u001b[0;34m\u001b[0m\u001b[0m\n\u001b[0m\u001b[1;32m     59\u001b[0m     \u001b[0;32mexcept\u001b[0m \u001b[0mTypeError\u001b[0m\u001b[0;34m:\u001b[0m\u001b[0;34m\u001b[0m\u001b[0;34m\u001b[0m\u001b[0m\n\u001b[1;32m     60\u001b[0m         \u001b[0;31m# A TypeError occurs if the object does have such a method in its\u001b[0m\u001b[0;34m\u001b[0m\u001b[0;34m\u001b[0m\u001b[0;34m\u001b[0m\u001b[0m\n",
            "\u001b[0;31mValueError\u001b[0m: axes don't match array"
          ]
        }
      ]
    },
    {
      "cell_type": "code",
      "metadata": {
        "id": "7diIZZxKIumN",
        "colab": {
          "base_uri": "https://localhost:8080/",
          "height": 34
        },
        "outputId": "332b06c6-9cba-4855-f137-2eaf79ba38b2"
      },
      "source": [
        "%tensorboard --logdir '/content/drive/My Drive/TensorBoardLogs/MobileNetv2_logs'"
      ],
      "execution_count": null,
      "outputs": [
        {
          "output_type": "stream",
          "text": [
            "UsageError: Line magic function `%tensorboard` not found.\n"
          ],
          "name": "stderr"
        }
      ]
    },
    {
      "cell_type": "code",
      "metadata": {
        "id": "pd1LkSjZ-Se5"
      },
      "source": [
        "model.fit_generator(training_generator, epochs=250, validation_data=validation_generator, verbose = 1,\n",
        "          callbacks = [callback_EarlyStopping, tensorboard, model_checkpoint, csv_logger], class_weight = class_weights)"
      ],
      "execution_count": null,
      "outputs": []
    },
    {
      "cell_type": "code",
      "metadata": {
        "id": "378qlk-Oea07"
      },
      "source": [
        "from tensorflow.python.framework import graph_util\n",
        "from tensorflow.python.framework import graph_io\n",
        "from tensorflow.keras.models import load_model\n",
        "from tensorflow.keras import backend as K\n",
        "import os.path as osp\n",
        "\n",
        "#model = load_model('/content/drive/My Drive/Colab Notebooks/Transfer Learning experiments/best model/resnet50 tf 1.12.hdf5')\n",
        "#nb_classes = 5 # The number of output nodes in the model\n",
        "#prefix_output_node_names_of_final_network = 'output_node'\n",
        "\n",
        "K.set_learning_phase(0)\n",
        "\n",
        "sess = K.get_session()\n",
        "output_fld = '/content/drive/My Drive/frozen_graph_mobilenetv2'\n",
        "if not os.path.isdir(output_fld):\n",
        "    os.mkdir(output_fld)\n",
        "output_graph_name = '/content/drive/My Drive/frozen_graph/Frozen_InceptionV3' + '.pb'\n",
        "output_graph_suffix = '_inference'\n",
        "\n",
        "constant_graph = graph_util.convert_variables_to_constants(sess, sess.graph.as_graph_def(),['dense_3/Softmax'] )\n",
        "graph_io.write_graph(constant_graph, output_fld, output_graph_name, as_text=False)\n",
        "print('saved the constant graph (ready for inference) at: ', osp.join(output_fld, output_graph_name))"
      ],
      "execution_count": null,
      "outputs": []
    },
    {
      "cell_type": "code",
      "metadata": {
        "id": "c3898XyjDwNF"
      },
      "source": [
        "!pip show tensorflow"
      ],
      "execution_count": null,
      "outputs": []
    },
    {
      "cell_type": "code",
      "metadata": {
        "id": "H8KfcYRbLYnw"
      },
      "source": [
        "from matplotlib import pyplot as plt\n",
        "import math\n",
        "from tensorflow.keras.callbacks import LambdaCallback\n",
        "import tensorflow.keras.backend as K\n",
        "import numpy as np\n",
        "\n",
        "\n",
        "class LRFinder:\n",
        "    \"\"\"\n",
        "    Plots the change of the loss function of a Keras model when the learning rate is exponentially increasing.\n",
        "    See for details:\n",
        "    https://towardsdatascience.com/estimating-optimal-learning-rate-for-a-deep-neural-network-ce32f2556ce0\n",
        "    \"\"\"\n",
        "\n",
        "    def __init__(self, model):\n",
        "        self.model = model\n",
        "        self.losses = []\n",
        "        self.lrs = []\n",
        "        self.best_loss = 1e9\n",
        "\n",
        "    def on_batch_end(self, batch, logs):\n",
        "        # Log the learning rate\n",
        "        lr = K.get_value(self.model.optimizer.learning_rate)\n",
        "        self.lrs.append(lr)\n",
        "\n",
        "        # Log the loss\n",
        "        loss = logs['loss']\n",
        "        self.losses.append(loss)\n",
        "\n",
        "        # Check whether the loss got too large or NaN\n",
        "        if batch > 5 and (math.isnan(loss) or loss > self.best_loss * 4):\n",
        "            self.model.stop_training = True\n",
        "            return\n",
        "\n",
        "        if loss < self.best_loss:\n",
        "            self.best_loss = loss\n",
        "\n",
        "        # Increase the learning rate for the next batch\n",
        "        lr *= self.lr_mult\n",
        "        K.set_value(self.model.optimizer.learning_rate, lr)\n",
        "\n",
        "    def find(self, x_train, y_train, start_lr, end_lr, batch_size=64, epochs=1):\n",
        "        # If x_train contains data for multiple inputs, use length of the first input.\n",
        "        # Assumption: the first element in the list is single input; NOT a list of inputs.\n",
        "        N = x_train[0].shape[0] if isinstance(x_train, list) else x_train.shape[0]\n",
        "\n",
        "        # Compute number of batches and LR multiplier\n",
        "        num_batches = epochs * N / batch_size\n",
        "        self.lr_mult = (float(end_lr) / float(start_lr)) ** (float(1) / float(num_batches))\n",
        "        # Save weights into a file\n",
        "        self.model.save_weights('tmp.h5')\n",
        "\n",
        "        # Remember the original learning rate\n",
        "        original_lr = K.get_value(self.model.optimizer.learning_rate)\n",
        "\n",
        "        # Set the initial learning rate\n",
        "        K.set_value(self.model.optimizer.learning_rate, start_lr)\n",
        "\n",
        "        callback = LambdaCallback(on_batch_end=lambda batch, logs: self.on_batch_end(batch, logs))\n",
        "\n",
        "        self.model.fit(x_train, y_train,\n",
        "                       batch_size=batch_size, epochs=epochs,\n",
        "                       callbacks=[callback])\n",
        "\n",
        "        # Restore the weights to the state before model fitting\n",
        "        self.model.load_weights('tmp.h5')\n",
        "\n",
        "        # Restore the original learning rate\n",
        "        K.set_value(self.model.optimizer.learning_rate, original_lr)\n",
        "\n",
        "    def find_generator(self, generator, start_lr, end_lr, epochs=1, steps_per_epoch=None, **kw_fit):\n",
        "        if steps_per_epoch is None:\n",
        "            try:\n",
        "                steps_per_epoch = len(generator)\n",
        "            except (ValueError, NotImplementedError) as e:\n",
        "                raise e('`steps_per_epoch=None` is only valid for a'\n",
        "                        ' generator based on the '\n",
        "                        '`keras.utils.Sequence`'\n",
        "                        ' class. Please specify `steps_per_epoch` '\n",
        "                        'or use the `keras.utils.Sequence` class.')\n",
        "        self.lr_mult = (float(end_lr) / float(start_lr)) ** (float(1) / float(epochs * steps_per_epoch))\n",
        "\n",
        "        # Save weights into a file\n",
        "        self.model.save_weights('tmp.h5')\n",
        "\n",
        "        # Remember the original learning rate\n",
        "        original_lr = K.get_value(self.model.optimizer.learning_rate)\n",
        "\n",
        "        # Set the initial learning rate\n",
        "        K.set_value(self.model.optimizer.learning_rate, start_lr)\n",
        "\n",
        "        callback = LambdaCallback(on_batch_end=lambda batch,\n",
        "                                                      logs: self.on_batch_end(batch, logs))\n",
        "\n",
        "        self.model.fit_generator(generator=generator,\n",
        "                                 epochs=epochs,\n",
        "                                 steps_per_epoch=steps_per_epoch,\n",
        "                                 callbacks=[callback],\n",
        "                                 **kw_fit)\n",
        "\n",
        "        # Restore the weights to the state before model fitting\n",
        "        self.model.load_weights('tmp.h5')\n",
        "\n",
        "        # Restore the original learning rate\n",
        "        K.set_value(self.model.optimizer.learning_rate, original_lr)\n",
        "\n",
        "    def plot_loss(self, n_skip_beginning=10, n_skip_end=5, x_scale='log'):\n",
        "        \"\"\"\n",
        "        Plots the loss.\n",
        "        Parameters:\n",
        "            n_skip_beginning - number of batches to skip on the left.\n",
        "            n_skip_end - number of batches to skip on the right.\n",
        "        \"\"\"\n",
        "        plt.ylabel(\"loss\")\n",
        "        plt.xlabel(\"learning rate (log scale)\")\n",
        "        plt.plot(self.lrs[n_skip_beginning:-n_skip_end], self.losses[n_skip_beginning:-n_skip_end])\n",
        "        plt.xscale(x_scale)\n",
        "        plt.show()\n",
        "\n",
        "    def plot_loss_change(self, sma=1, n_skip_beginning=10, n_skip_end=5, y_lim=(-0.01, 0.01)):\n",
        "        \"\"\"\n",
        "        Plots rate of change of the loss function.\n",
        "        Parameters:\n",
        "            sma - number of batches for simple moving average to smooth out the curve.\n",
        "            n_skip_beginning - number of batches to skip on the left.\n",
        "            n_skip_end - number of batches to skip on the right.\n",
        "            y_lim - limits for the y axis.\n",
        "        \"\"\"\n",
        "        derivatives = self.get_derivatives(sma)[n_skip_beginning:-n_skip_end]\n",
        "        lrs = self.lrs[n_skip_beginning:-n_skip_end]\n",
        "        plt.ylabel(\"rate of loss change\")\n",
        "        plt.xlabel(\"learning rate (log scale)\")\n",
        "        plt.plot(lrs, derivatives)\n",
        "        plt.xscale('log')\n",
        "        plt.ylim(y_lim)\n",
        "        plt.show()\n",
        "\n",
        "    def get_derivatives(self, sma):\n",
        "        assert sma >= 1\n",
        "        derivatives = [0] * sma\n",
        "        for i in range(sma, len(self.lrs)):\n",
        "            derivatives.append((self.losses[i] - self.losses[i - sma]) / sma)\n",
        "        return derivatives\n",
        "\n",
        "    def get_best_lr(self, sma, n_skip_beginning=10, n_skip_end=5):\n",
        "        derivatives = self.get_derivatives(sma)\n",
        "        best_der_idx = np.argmax(derivatives[n_skip_beginning:-n_skip_end])[0]\n",
        "        return self.lrs[n_skip_beginning:-n_skip_end][best_der_idx]\n"
      ],
      "execution_count": null,
      "outputs": []
    },
    {
      "cell_type": "code",
      "metadata": {
        "id": "yIYZst8pLerU"
      },
      "source": [
        "lr_finder = LRFinder(model)"
      ],
      "execution_count": null,
      "outputs": []
    },
    {
      "cell_type": "code",
      "metadata": {
        "id": "HXvLx2ieLfz6",
        "colab": {
          "base_uri": "https://localhost:8080/",
          "height": 292
        },
        "outputId": "2b8028f4-10d1-4cca-e19b-a28fc9885818"
      },
      "source": [
        "lr_finder.find_generator(training_generator, 0.00001, 0.01, 3, 55)"
      ],
      "execution_count": null,
      "outputs": [
        {
          "output_type": "error",
          "ename": "AttributeError",
          "evalue": "ignored",
          "traceback": [
            "\u001b[0;31m---------------------------------------------------------------------------\u001b[0m",
            "\u001b[0;31mAttributeError\u001b[0m                            Traceback (most recent call last)",
            "\u001b[0;32m<ipython-input-27-b210cd021bd7>\u001b[0m in \u001b[0;36m<module>\u001b[0;34m()\u001b[0m\n\u001b[0;32m----> 1\u001b[0;31m \u001b[0mlr_finder\u001b[0m\u001b[0;34m.\u001b[0m\u001b[0mfind_generator\u001b[0m\u001b[0;34m(\u001b[0m\u001b[0mtraining_generator\u001b[0m\u001b[0;34m,\u001b[0m \u001b[0;36m0.00001\u001b[0m\u001b[0;34m,\u001b[0m \u001b[0;36m0.01\u001b[0m\u001b[0;34m,\u001b[0m \u001b[0;36m3\u001b[0m\u001b[0;34m,\u001b[0m \u001b[0;36m55\u001b[0m\u001b[0;34m)\u001b[0m\u001b[0;34m\u001b[0m\u001b[0;34m\u001b[0m\u001b[0m\n\u001b[0m",
            "\u001b[0;32m<ipython-input-25-ed90c6d3805d>\u001b[0m in \u001b[0;36mfind_generator\u001b[0;34m(self, generator, start_lr, end_lr, epochs, steps_per_epoch, **kw_fit)\u001b[0m\n\u001b[1;32m     85\u001b[0m \u001b[0;34m\u001b[0m\u001b[0m\n\u001b[1;32m     86\u001b[0m         \u001b[0;31m# Remember the original learning rate\u001b[0m\u001b[0;34m\u001b[0m\u001b[0;34m\u001b[0m\u001b[0;34m\u001b[0m\u001b[0m\n\u001b[0;32m---> 87\u001b[0;31m         \u001b[0moriginal_lr\u001b[0m \u001b[0;34m=\u001b[0m \u001b[0mK\u001b[0m\u001b[0;34m.\u001b[0m\u001b[0mget_value\u001b[0m\u001b[0;34m(\u001b[0m\u001b[0mself\u001b[0m\u001b[0;34m.\u001b[0m\u001b[0mmodel\u001b[0m\u001b[0;34m.\u001b[0m\u001b[0moptimizer\u001b[0m\u001b[0;34m.\u001b[0m\u001b[0mlearning_rate\u001b[0m\u001b[0;34m)\u001b[0m\u001b[0;34m\u001b[0m\u001b[0;34m\u001b[0m\u001b[0m\n\u001b[0m\u001b[1;32m     88\u001b[0m \u001b[0;34m\u001b[0m\u001b[0m\n\u001b[1;32m     89\u001b[0m         \u001b[0;31m# Set the initial learning rate\u001b[0m\u001b[0;34m\u001b[0m\u001b[0;34m\u001b[0m\u001b[0;34m\u001b[0m\u001b[0m\n",
            "\u001b[0;31mAttributeError\u001b[0m: 'TFOptimizer' object has no attribute 'learning_rate'"
          ]
        }
      ]
    },
    {
      "cell_type": "code",
      "metadata": {
        "id": "pcZvKrlNLklj",
        "colab": {
          "base_uri": "https://localhost:8080/",
          "height": 283
        },
        "outputId": "759b7327-4af4-43de-b3e2-81b170cef33e"
      },
      "source": [
        "lr_finder.plot_loss()"
      ],
      "execution_count": null,
      "outputs": [
        {
          "output_type": "display_data",
          "data": {
            "image/png": "[encoded data removed]",
            "text/plain": [
              "<Figure size 432x288 with 1 Axes>"
            ]
          },
          "metadata": {
            "tags": [],
            "needs_background": "light"
          }
        }
      ]
    },
    {
      "cell_type": "code",
      "metadata": {
        "id": "cdb6NgHlLmvK"
      },
      "source": [
        "lr_finder.plot_loss_change(sma=20, n_skip_beginning=20, n_skip_end=5, y_lim=(-0.02, 0.1))"
      ],
      "execution_count": null,
      "outputs": []
    },
    {
      "cell_type": "code",
      "metadata": {
        "colab": {
          "base_uri": "https://localhost:8080/",
          "height": 376
        },
        "id": "0s8QAjzDimzT",
        "outputId": "75568b56-ed6a-4df6-e4f9-a5a9a97257c3"
      },
      "source": [
        "from __future__ import print_function\n",
        "import imageio\n",
        "from PIL import Image\n",
        "import numpy as np\n",
        "import keras\n",
        "\n",
        "from keras.layers import Input, Dense, Conv2D, MaxPooling2D, AveragePooling2D, ZeroPadding2D, Dropout, Flatten, Concatenate, Reshape, Activation\n",
        "from keras.models import Model\n",
        "from keras.regularizers import l2\n",
        "from keras.optimizers import SGD\n",
        "from pool_helper import PoolHelper\n",
        "from lrn import LRN\n",
        "\n",
        "if keras.backend.backend() == 'tensorflow':\n",
        "    from keras import backend as K\n",
        "    import tensorflow as tf\n",
        "    from keras.utils.conv_utils import convert_kernel\n",
        "\n",
        "\n",
        "def create_googlenet(weights_path=None):\n",
        "    # creates GoogLeNet a.k.a. Inception v1 (Szegedy, 2015)\n",
        "    input = Input(shape=(3, 224, 224))\n",
        "\n",
        "    input_pad = ZeroPadding2D(padding=(3, 3))(input)\n",
        "    conv1_7x7_s2 = Conv2D(64, (7,7), strides=(2,2), padding='valid', activation='relu', name='conv1/7x7_s2', kernel_regularizer=l2(0.0002))(input_pad)\n",
        "    conv1_zero_pad = ZeroPadding2D(padding=(1, 1))(conv1_7x7_s2)\n",
        "    pool1_helper = PoolHelper()(conv1_zero_pad)\n",
        "    pool1_3x3_s2 = MaxPooling2D(pool_size=(3,3), strides=(2,2), padding='valid', name='pool1/3x3_s2')(pool1_helper)\n",
        "    pool1_norm1 = LRN(name='pool1/norm1')(pool1_3x3_s2)\n",
        "\n",
        "    conv2_3x3_reduce = Conv2D(64, (1,1), padding='same', activation='relu', name='conv2/3x3_reduce', kernel_regularizer=l2(0.0002))(pool1_norm1)\n",
        "    conv2_3x3 = Conv2D(192, (3,3), padding='same', activation='relu', name='conv2/3x3', kernel_regularizer=l2(0.0002))(conv2_3x3_reduce)\n",
        "    conv2_norm2 = LRN(name='conv2/norm2')(conv2_3x3)\n",
        "    conv2_zero_pad = ZeroPadding2D(padding=(1, 1))(conv2_norm2)\n",
        "    pool2_helper = PoolHelper()(conv2_zero_pad)\n",
        "    pool2_3x3_s2 = MaxPooling2D(pool_size=(3,3), strides=(2,2), padding='valid', name='pool2/3x3_s2')(pool2_helper)\n",
        "\n",
        "    inception_3a_1x1 = Conv2D(64, (1,1), padding='same', activation='relu', name='inception_3a/1x1', kernel_regularizer=l2(0.0002))(pool2_3x3_s2)\n",
        "    inception_3a_3x3_reduce = Conv2D(96, (1,1), padding='same', activation='relu', name='inception_3a/3x3_reduce', kernel_regularizer=l2(0.0002))(pool2_3x3_s2)\n",
        "    inception_3a_3x3_pad = ZeroPadding2D(padding=(1, 1))(inception_3a_3x3_reduce)\n",
        "    inception_3a_3x3 = Conv2D(128, (3,3), padding='valid', activation='relu', name='inception_3a/3x3', kernel_regularizer=l2(0.0002))(inception_3a_3x3_pad)\n",
        "    inception_3a_5x5_reduce = Conv2D(16, (1,1), padding='same', activation='relu', name='inception_3a/5x5_reduce', kernel_regularizer=l2(0.0002))(pool2_3x3_s2)\n",
        "    inception_3a_5x5_pad = ZeroPadding2D(padding=(2, 2))(inception_3a_5x5_reduce)\n",
        "    inception_3a_5x5 = Conv2D(32, (5,5), padding='valid', activation='relu', name='inception_3a/5x5', kernel_regularizer=l2(0.0002))(inception_3a_5x5_pad)\n",
        "    inception_3a_pool = MaxPooling2D(pool_size=(3,3), strides=(1,1), padding='same', name='inception_3a/pool')(pool2_3x3_s2)\n",
        "    inception_3a_pool_proj = Conv2D(32, (1,1), padding='same', activation='relu', name='inception_3a/pool_proj', kernel_regularizer=l2(0.0002))(inception_3a_pool)\n",
        "    inception_3a_output = Concatenate(axis=1, name='inception_3a/output')([inception_3a_1x1,inception_3a_3x3,inception_3a_5x5,inception_3a_pool_proj])\n",
        "\n",
        "    inception_3b_1x1 = Conv2D(128, (1,1), padding='same', activation='relu', name='inception_3b/1x1', kernel_regularizer=l2(0.0002))(inception_3a_output)\n",
        "    inception_3b_3x3_reduce = Conv2D(128, (1,1), padding='same', activation='relu', name='inception_3b/3x3_reduce', kernel_regularizer=l2(0.0002))(inception_3a_output)\n",
        "    inception_3b_3x3_pad = ZeroPadding2D(padding=(1, 1))(inception_3b_3x3_reduce)\n",
        "    inception_3b_3x3 = Conv2D(192, (3,3), padding='valid', activation='relu', name='inception_3b/3x3', kernel_regularizer=l2(0.0002))(inception_3b_3x3_pad)\n",
        "    inception_3b_5x5_reduce = Conv2D(32, (1,1), padding='same', activation='relu', name='inception_3b/5x5_reduce', kernel_regularizer=l2(0.0002))(inception_3a_output)\n",
        "    inception_3b_5x5_pad = ZeroPadding2D(padding=(2, 2))(inception_3b_5x5_reduce)\n",
        "    inception_3b_5x5 = Conv2D(96, (5,5), padding='valid', activation='relu', name='inception_3b/5x5', kernel_regularizer=l2(0.0002))(inception_3b_5x5_pad)\n",
        "    inception_3b_pool = MaxPooling2D(pool_size=(3,3), strides=(1,1), padding='same', name='inception_3b/pool')(inception_3a_output)\n",
        "    inception_3b_pool_proj = Conv2D(64, (1,1), padding='same', activation='relu', name='inception_3b/pool_proj', kernel_regularizer=l2(0.0002))(inception_3b_pool)\n",
        "    inception_3b_output = Concatenate(axis=1, name='inception_3b/output')([inception_3b_1x1,inception_3b_3x3,inception_3b_5x5,inception_3b_pool_proj])\n",
        "\n",
        "    inception_3b_output_zero_pad = ZeroPadding2D(padding=(1, 1))(inception_3b_output)\n",
        "    pool3_helper = PoolHelper()(inception_3b_output_zero_pad)\n",
        "    pool3_3x3_s2 = MaxPooling2D(pool_size=(3,3), strides=(2,2), padding='valid', name='pool3/3x3_s2')(pool3_helper)\n",
        "\n",
        "    inception_4a_1x1 = Conv2D(192, (1,1), padding='same', activation='relu', name='inception_4a/1x1', kernel_regularizer=l2(0.0002))(pool3_3x3_s2)\n",
        "    inception_4a_3x3_reduce = Conv2D(96, (1,1), padding='same', activation='relu', name='inception_4a/3x3_reduce', kernel_regularizer=l2(0.0002))(pool3_3x3_s2)\n",
        "    inception_4a_3x3_pad = ZeroPadding2D(padding=(1, 1))(inception_4a_3x3_reduce)\n",
        "    inception_4a_3x3 = Conv2D(208, (3,3), padding='valid', activation='relu', name='inception_4a/3x3' ,kernel_regularizer=l2(0.0002))(inception_4a_3x3_pad)\n",
        "    inception_4a_5x5_reduce = Conv2D(16, (1,1), padding='same', activation='relu', name='inception_4a/5x5_reduce', kernel_regularizer=l2(0.0002))(pool3_3x3_s2)\n",
        "    inception_4a_5x5_pad = ZeroPadding2D(padding=(2, 2))(inception_4a_5x5_reduce)\n",
        "    inception_4a_5x5 = Conv2D(48, (5,5), padding='valid', activation='relu', name='inception_4a/5x5', kernel_regularizer=l2(0.0002))(inception_4a_5x5_pad)\n",
        "    inception_4a_pool = MaxPooling2D(pool_size=(3,3), strides=(1,1), padding='same', name='inception_4a/pool')(pool3_3x3_s2)\n",
        "    inception_4a_pool_proj = Conv2D(64, (1,1), padding='same', activation='relu', name='inception_4a/pool_proj', kernel_regularizer=l2(0.0002))(inception_4a_pool)\n",
        "    inception_4a_output = Concatenate(axis=1, name='inception_4a/output')([inception_4a_1x1,inception_4a_3x3,inception_4a_5x5,inception_4a_pool_proj])\n",
        "\n",
        "    loss1_ave_pool = AveragePooling2D(pool_size=(5,5), strides=(3,3), name='loss1/ave_pool')(inception_4a_output)\n",
        "    loss1_conv = Conv2D(128, (1,1), padding='same', activation='relu', name='loss1/conv', kernel_regularizer=l2(0.0002))(loss1_ave_pool)\n",
        "    loss1_flat = Flatten()(loss1_conv)\n",
        "    loss1_fc = Dense(1024, activation='relu', name='loss1/fc', kernel_regularizer=l2(0.0002))(loss1_flat)\n",
        "    loss1_drop_fc = Dropout(rate=0.7)(loss1_fc)\n",
        "    loss1_classifier = Dense(1000, name='loss1/classifier', kernel_regularizer=l2(0.0002))(loss1_drop_fc)\n",
        "    loss1_classifier_act = Activation('softmax')(loss1_classifier)\n",
        "\n",
        "    inception_4b_1x1 = Conv2D(160, (1,1), padding='same', activation='relu', name='inception_4b/1x1', kernel_regularizer=l2(0.0002))(inception_4a_output)\n",
        "    inception_4b_3x3_reduce = Conv2D(112, (1,1), padding='same', activation='relu', name='inception_4b/3x3_reduce', kernel_regularizer=l2(0.0002))(inception_4a_output)\n",
        "    inception_4b_3x3_pad = ZeroPadding2D(padding=(1, 1))(inception_4b_3x3_reduce)\n",
        "    inception_4b_3x3 = Conv2D(224, (3,3), padding='valid', activation='relu', name='inception_4b/3x3', kernel_regularizer=l2(0.0002))(inception_4b_3x3_pad)\n",
        "    inception_4b_5x5_reduce = Conv2D(24, (1,1), padding='same', activation='relu', name='inception_4b/5x5_reduce', kernel_regularizer=l2(0.0002))(inception_4a_output)\n",
        "    inception_4b_5x5_pad = ZeroPadding2D(padding=(2, 2))(inception_4b_5x5_reduce)\n",
        "    inception_4b_5x5 = Conv2D(64, (5,5), padding='valid', activation='relu', name='inception_4b/5x5', kernel_regularizer=l2(0.0002))(inception_4b_5x5_pad)\n",
        "    inception_4b_pool = MaxPooling2D(pool_size=(3,3), strides=(1,1), padding='same', name='inception_4b/pool')(inception_4a_output)\n",
        "    inception_4b_pool_proj = Conv2D(64, (1,1), padding='same', activation='relu', name='inception_4b/pool_proj', kernel_regularizer=l2(0.0002))(inception_4b_pool)\n",
        "    inception_4b_output = Concatenate(axis=1, name='inception_4b/output')([inception_4b_1x1,inception_4b_3x3,inception_4b_5x5,inception_4b_pool_proj])\n",
        "\n",
        "    inception_4c_1x1 = Conv2D(128, (1,1), padding='same', activation='relu', name='inception_4c/1x1', kernel_regularizer=l2(0.0002))(inception_4b_output)\n",
        "    inception_4c_3x3_reduce = Conv2D(128, (1,1), padding='same', activation='relu', name='inception_4c/3x3_reduce', kernel_regularizer=l2(0.0002))(inception_4b_output)\n",
        "    inception_4c_3x3_pad = ZeroPadding2D(padding=(1, 1))(inception_4c_3x3_reduce)\n",
        "    inception_4c_3x3 = Conv2D(256, (3,3), padding='valid', activation='relu', name='inception_4c/3x3', kernel_regularizer=l2(0.0002))(inception_4c_3x3_pad)\n",
        "    inception_4c_5x5_reduce = Conv2D(24, (1,1), padding='same', activation='relu', name='inception_4c/5x5_reduce', kernel_regularizer=l2(0.0002))(inception_4b_output)\n",
        "    inception_4c_5x5_pad = ZeroPadding2D(padding=(2, 2))(inception_4c_5x5_reduce)\n",
        "    inception_4c_5x5 = Conv2D(64, (5,5), padding='valid', activation='relu', name='inception_4c/5x5', kernel_regularizer=l2(0.0002))(inception_4c_5x5_pad)\n",
        "    inception_4c_pool = MaxPooling2D(pool_size=(3,3), strides=(1,1), padding='same', name='inception_4c/pool')(inception_4b_output)\n",
        "    inception_4c_pool_proj = Conv2D(64, (1,1), padding='same', activation='relu', name='inception_4c/pool_proj', kernel_regularizer=l2(0.0002))(inception_4c_pool)\n",
        "    inception_4c_output = Concatenate(axis=1, name='inception_4c/output')([inception_4c_1x1,inception_4c_3x3,inception_4c_5x5,inception_4c_pool_proj])\n",
        "\n",
        "    inception_4d_1x1 = Conv2D(112, (1,1), padding='same', activation='relu', name='inception_4d/1x1', kernel_regularizer=l2(0.0002))(inception_4c_output)\n",
        "    inception_4d_3x3_reduce = Conv2D(144, (1,1), padding='same', activation='relu', name='inception_4d/3x3_reduce', kernel_regularizer=l2(0.0002))(inception_4c_output)\n",
        "    inception_4d_3x3_pad = ZeroPadding2D(padding=(1, 1))(inception_4d_3x3_reduce)\n",
        "    inception_4d_3x3 = Conv2D(288, (3,3), padding='valid', activation='relu', name='inception_4d/3x3', kernel_regularizer=l2(0.0002))(inception_4d_3x3_pad)\n",
        "    inception_4d_5x5_reduce = Conv2D(32, (1,1), padding='same', activation='relu', name='inception_4d/5x5_reduce', kernel_regularizer=l2(0.0002))(inception_4c_output)\n",
        "    inception_4d_5x5_pad = ZeroPadding2D(padding=(2, 2))(inception_4d_5x5_reduce)\n",
        "    inception_4d_5x5 = Conv2D(64, (5,5), padding='valid', activation='relu', name='inception_4d/5x5', kernel_regularizer=l2(0.0002))(inception_4d_5x5_pad)\n",
        "    inception_4d_pool = MaxPooling2D(pool_size=(3,3), strides=(1,1), padding='same', name='inception_4d/pool')(inception_4c_output)\n",
        "    inception_4d_pool_proj = Conv2D(64, (1,1), padding='same', activation='relu', name='inception_4d/pool_proj', kernel_regularizer=l2(0.0002))(inception_4d_pool)\n",
        "    inception_4d_output = Concatenate(axis=1, name='inception_4d/output')([inception_4d_1x1,inception_4d_3x3,inception_4d_5x5,inception_4d_pool_proj])\n",
        "\n",
        "    loss2_ave_pool = AveragePooling2D(pool_size=(5,5), strides=(3,3), name='loss2/ave_pool')(inception_4d_output)\n",
        "    loss2_conv = Conv2D(128, (1,1), padding='same', activation='relu', name='loss2/conv', kernel_regularizer=l2(0.0002))(loss2_ave_pool)\n",
        "    loss2_flat = Flatten()(loss2_conv)\n",
        "    loss2_fc = Dense(1024, activation='relu', name='loss2/fc', kernel_regularizer=l2(0.0002))(loss2_flat)\n",
        "    loss2_drop_fc = Dropout(rate=0.7)(loss2_fc)\n",
        "    loss2_classifier = Dense(1000, name='loss2/classifier', kernel_regularizer=l2(0.0002))(loss2_drop_fc)\n",
        "    loss2_classifier_act = Activation('softmax')(loss2_classifier)\n",
        "\n",
        "    inception_4e_1x1 = Conv2D(256, (1,1), padding='same', activation='relu', name='inception_4e/1x1', kernel_regularizer=l2(0.0002))(inception_4d_output)\n",
        "    inception_4e_3x3_reduce = Conv2D(160, (1,1), padding='same', activation='relu', name='inception_4e/3x3_reduce', kernel_regularizer=l2(0.0002))(inception_4d_output)\n",
        "    inception_4e_3x3_pad = ZeroPadding2D(padding=(1, 1))(inception_4e_3x3_reduce)\n",
        "    inception_4e_3x3 = Conv2D(320, (3,3), padding='valid', activation='relu', name='inception_4e/3x3', kernel_regularizer=l2(0.0002))(inception_4e_3x3_pad)\n",
        "    inception_4e_5x5_reduce = Conv2D(32, (1,1), padding='same', activation='relu', name='inception_4e/5x5_reduce', kernel_regularizer=l2(0.0002))(inception_4d_output)\n",
        "    inception_4e_5x5_pad = ZeroPadding2D(padding=(2, 2))(inception_4e_5x5_reduce)\n",
        "    inception_4e_5x5 = Conv2D(128, (5,5), padding='valid', activation='relu', name='inception_4e/5x5', kernel_regularizer=l2(0.0002))(inception_4e_5x5_pad)\n",
        "    inception_4e_pool = MaxPooling2D(pool_size=(3,3), strides=(1,1), padding='same', name='inception_4e/pool')(inception_4d_output)\n",
        "    inception_4e_pool_proj = Conv2D(128, (1,1), padding='same', activation='relu', name='inception_4e/pool_proj', kernel_regularizer=l2(0.0002))(inception_4e_pool)\n",
        "    inception_4e_output = Concatenate(axis=1, name='inception_4e/output')([inception_4e_1x1,inception_4e_3x3,inception_4e_5x5,inception_4e_pool_proj])\n",
        "\n",
        "    inception_4e_output_zero_pad = ZeroPadding2D(padding=(1, 1))(inception_4e_output)\n",
        "    pool4_helper = PoolHelper()(inception_4e_output_zero_pad)\n",
        "    pool4_3x3_s2 = MaxPooling2D(pool_size=(3,3), strides=(2,2), padding='valid', name='pool4/3x3_s2')(pool4_helper)\n",
        "\n",
        "    inception_5a_1x1 = Conv2D(256, (1,1), padding='same', activation='relu', name='inception_5a/1x1', kernel_regularizer=l2(0.0002))(pool4_3x3_s2)\n",
        "    inception_5a_3x3_reduce = Conv2D(160, (1,1), padding='same', activation='relu', name='inception_5a/3x3_reduce', kernel_regularizer=l2(0.0002))(pool4_3x3_s2)\n",
        "    inception_5a_3x3_pad = ZeroPadding2D(padding=(1, 1))(inception_5a_3x3_reduce)\n",
        "    inception_5a_3x3 = Conv2D(320, (3,3), padding='valid', activation='relu', name='inception_5a/3x3', kernel_regularizer=l2(0.0002))(inception_5a_3x3_pad)\n",
        "    inception_5a_5x5_reduce = Conv2D(32, (1,1), padding='same', activation='relu', name='inception_5a/5x5_reduce', kernel_regularizer=l2(0.0002))(pool4_3x3_s2)\n",
        "    inception_5a_5x5_pad = ZeroPadding2D(padding=(2, 2))(inception_5a_5x5_reduce)\n",
        "    inception_5a_5x5 = Conv2D(128, (5,5), padding='valid', activation='relu', name='inception_5a/5x5', kernel_regularizer=l2(0.0002))(inception_5a_5x5_pad)\n",
        "    inception_5a_pool = MaxPooling2D(pool_size=(3,3), strides=(1,1), padding='same', name='inception_5a/pool')(pool4_3x3_s2)\n",
        "    inception_5a_pool_proj = Conv2D(128, (1,1), padding='same', activation='relu', name='inception_5a/pool_proj', kernel_regularizer=l2(0.0002))(inception_5a_pool)\n",
        "    inception_5a_output = Concatenate(axis=1, name='inception_5a/output')([inception_5a_1x1,inception_5a_3x3,inception_5a_5x5,inception_5a_pool_proj])\n",
        "\n",
        "    inception_5b_1x1 = Conv2D(384, (1,1), padding='same', activation='relu', name='inception_5b/1x1', kernel_regularizer=l2(0.0002))(inception_5a_output)\n",
        "    inception_5b_3x3_reduce = Conv2D(192, (1,1), padding='same', activation='relu', name='inception_5b/3x3_reduce', kernel_regularizer=l2(0.0002))(inception_5a_output)\n",
        "    inception_5b_3x3_pad = ZeroPadding2D(padding=(1, 1))(inception_5b_3x3_reduce)\n",
        "    inception_5b_3x3 = Conv2D(384, (3,3), padding='valid', activation='relu', name='inception_5b/3x3', kernel_regularizer=l2(0.0002))(inception_5b_3x3_pad)\n",
        "    inception_5b_5x5_reduce = Conv2D(48, (1,1), padding='same', activation='relu', name='inception_5b/5x5_reduce', kernel_regularizer=l2(0.0002))(inception_5a_output)\n",
        "    inception_5b_5x5_pad = ZeroPadding2D(padding=(2, 2))(inception_5b_5x5_reduce)\n",
        "    inception_5b_5x5 = Conv2D(128, (5,5), padding='valid', activation='relu', name='inception_5b/5x5', kernel_regularizer=l2(0.0002))(inception_5b_5x5_pad)\n",
        "    inception_5b_pool = MaxPooling2D(pool_size=(3,3), strides=(1,1), padding='same', name='inception_5b/pool')(inception_5a_output)\n",
        "    inception_5b_pool_proj = Conv2D(128, (1,1), padding='same', activation='relu', name='inception_5b/pool_proj', kernel_regularizer=l2(0.0002))(inception_5b_pool)\n",
        "    inception_5b_output = Concatenate(axis=1, name='inception_5b/output')([inception_5b_1x1,inception_5b_3x3,inception_5b_5x5,inception_5b_pool_proj])\n",
        "\n",
        "    pool5_7x7_s1 = AveragePooling2D(pool_size=(7,7), strides=(1,1), name='pool5/7x7_s2')(inception_5b_output)\n",
        "    loss3_flat = Flatten()(pool5_7x7_s1)\n",
        "    pool5_drop_7x7_s1 = Dropout(rate=0.4)(loss3_flat)\n",
        "    loss3_classifier = Dense(1000, name='loss3/classifier', kernel_regularizer=l2(0.0002))(pool5_drop_7x7_s1)\n",
        "    loss3_classifier_act = Activation('softmax', name='prob')(loss3_classifier)\n",
        "\n",
        "    googlenet = Model(inputs=input, outputs=[loss1_classifier_act,loss2_classifier_act,loss3_classifier_act])\n",
        "\n",
        "    if weights_path:\n",
        "        googlenet.load_weights(weights_path)\n",
        "\n",
        "    if keras.backend.backend() == 'tensorflow':\n",
        "        # convert the convolutional kernels for tensorflow\n",
        "        ops = []\n",
        "        for layer in googlenet.layers:\n",
        "            if layer.__class__.__name__ == 'Conv2D':\n",
        "                original_w = K.get_value(layer.kernel)\n",
        "                converted_w = convert_kernel(original_w)\n",
        "                ops.append(tf.assign(layer.kernel, converted_w).op)\n",
        "        K.get_session().run(ops)\n",
        "\n",
        "    return googlenet\n",
        "\n",
        "\n",
        "if __name__ == \"__main__\":\n",
        "    img = imageio.imread('cat.jpg', pilmode='RGB')\n",
        "    img = np.array(Image.fromarray(img).resize((224, 224))).astype(np.float32)\n",
        "    img[:, :, 0] -= 123.68\n",
        "    img[:, :, 1] -= 116.779\n",
        "    img[:, :, 2] -= 103.939\n",
        "    img[:,:,[0,1,2]] = img[:,:,[2,1,0]]\n",
        "    img = img.transpose((2, 0, 1))\n",
        "    img = np.expand_dims(img, axis=0)\n",
        "\n",
        "    # Test pretrained model\n",
        "    model = create_googlenet('googlenet_weights.h5')\n",
        "    sgd = SGD(lr=0.1, decay=1e-6, momentum=0.9, nesterov=True)\n",
        "    model.compile(optimizer=sgd, loss='categorical_crossentropy')\n",
        "    out = model.predict(img) # note: the model has three outputs\n",
        "    labels = np.loadtxt('synset_words.txt', str, delimiter='\\t')\n",
        "    predicted_label = np.argmax(out[2])\n",
        "    predicted_class_name = labels[predicted_label]\n",
        "    print('Predicted Class: ', predicted_label, ', Class Name: ', predicted_class_name)\n"
      ],
      "execution_count": null,
      "outputs": [
        {
          "output_type": "error",
          "ename": "ModuleNotFoundError",
          "evalue": "ignored",
          "traceback": [
            "\u001b[0;31m---------------------------------------------------------------------------\u001b[0m",
            "\u001b[0;31mModuleNotFoundError\u001b[0m                       Traceback (most recent call last)",
            "\u001b[0;32m<ipython-input-15-4c923a8ec202>\u001b[0m in \u001b[0;36m<module>\u001b[0;34m()\u001b[0m\n\u001b[1;32m      9\u001b[0m \u001b[0;32mfrom\u001b[0m \u001b[0mkeras\u001b[0m\u001b[0;34m.\u001b[0m\u001b[0mregularizers\u001b[0m \u001b[0;32mimport\u001b[0m \u001b[0ml2\u001b[0m\u001b[0;34m\u001b[0m\u001b[0;34m\u001b[0m\u001b[0m\n\u001b[1;32m     10\u001b[0m \u001b[0;32mfrom\u001b[0m \u001b[0mkeras\u001b[0m\u001b[0;34m.\u001b[0m\u001b[0moptimizers\u001b[0m \u001b[0;32mimport\u001b[0m \u001b[0mSGD\u001b[0m\u001b[0;34m\u001b[0m\u001b[0;34m\u001b[0m\u001b[0m\n\u001b[0;32m---> 11\u001b[0;31m \u001b[0;32mfrom\u001b[0m \u001b[0mpool_helper\u001b[0m \u001b[0;32mimport\u001b[0m \u001b[0mPoolHelper\u001b[0m\u001b[0;34m\u001b[0m\u001b[0;34m\u001b[0m\u001b[0m\n\u001b[0m\u001b[1;32m     12\u001b[0m \u001b[0;32mfrom\u001b[0m \u001b[0mlrn\u001b[0m \u001b[0;32mimport\u001b[0m \u001b[0mLRN\u001b[0m\u001b[0;34m\u001b[0m\u001b[0;34m\u001b[0m\u001b[0m\n\u001b[1;32m     13\u001b[0m \u001b[0;34m\u001b[0m\u001b[0m\n",
            "\u001b[0;31mModuleNotFoundError\u001b[0m: No module named 'pool_helper'",
            "",
            "\u001b[0;31m---------------------------------------------------------------------------\u001b[0;32m\nNOTE: If your import is failing due to a missing package, you can\nmanually install dependencies using either !pip or !apt.\n\nTo view examples of installing some common dependencies, click the\n\"Open Examples\" button below.\n\u001b[0;31m---------------------------------------------------------------------------\u001b[0m\n"
          ]
        }
      ]
    },
    {
      "cell_type": "code",
      "metadata": {
        "colab": {
          "base_uri": "https://localhost:8080/"
        },
        "id": "GlmKacEoi4Ab",
        "outputId": "86d1d7bd-3429-418b-f530-d042a3570807"
      },
      "source": [
        "!pip install pool\n"
      ],
      "execution_count": null,
      "outputs": [
        {
          "output_type": "stream",
          "text": [
            "Collecting pool\n",
            "  Downloading https://files.pythonhosted.org/packages/ea/b4/b7c44381e6e074a01c004ecd6d7b668037821abaf17a787fc01cdf9256a7/pool-0.1.2dev.tar.gz\n",
            "Building wheels for collected packages: pool\n",
            "  Building wheel for pool (setup.py) ... \u001b[?25l\u001b[?25hdone\n",
            "  Created wheel for pool: filename=pool-0.1.2.dev0-cp36-none-any.whl size=23391 sha256=9ac1c99a62503bb6386cab6889745fdbbb9d0a0a5376bb2e9d5644819c9c521e\n",
            "  Stored in directory: /root/.cache/pip/wheels/54/d3/fd/28866af580c0f46a2a629080265b0c72758d09843ac49e0a8e\n",
            "Successfully built pool\n",
            "Installing collected packages: pool\n",
            "Successfully installed pool-0.1.2.dev0\n"
          ],
          "name": "stdout"
        }
      ]
    }
  ]
}