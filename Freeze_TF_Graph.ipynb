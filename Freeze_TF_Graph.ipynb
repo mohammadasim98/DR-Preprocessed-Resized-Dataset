{
  "nbformat": 4,
  "nbformat_minor": 0,
  "metadata": {
    "accelerator": "GPU",
    "colab": {
      "name": "Copy of frozen_graph.ipynb",
      "provenance": [],
      "collapsed_sections": [],
      "toc_visible": true
    },
    "kernelspec": {
      "display_name": "Python 3",
      "name": "python3"
    }
  },
  "cells": [
    {
      "cell_type": "code",
      "metadata": {
        "id": "hN6VL9aznhRF"
      },
      "source": [
        "!sudo apt-get purge cuda\n",
        "!sudo apt-get purge libcudnn6\n",
        "!sudo apt-get purge libcudnn6-dev\n",
        "\n",
        "!wget http://developer.download.nvidia.com/compute/cuda/repos/ubuntu1604/x86_64/cuda-repo-ubuntu1604_9.0.176-1_amd64.deb\n",
        "!wget http://developer.download.nvidia.com/compute/machine-learning/repos/ubuntu1604/x86_64/libcudnn7_7.0.5.15-1+cuda9.0_amd64.deb\n",
        "!wget http://developer.download.nvidia.com/compute/machine-learning/repos/ubuntu1604/x86_64/libcudnn7-dev_7.0.5.15-1+cuda9.0_amd64.deb\n",
        "!wget http://developer.download.nvidia.com/compute/machine-learning/repos/ubuntu1604/x86_64/libnccl2_2.1.4-1+cuda9.0_amd64.deb\n",
        "!wget http://developer.download.nvidia.com/compute/machine-learning/repos/ubuntu1604/x86_64/libnccl-dev_2.1.4-1+cuda9.0_amd64.deb\n",
        "!sudo dpkg -i cuda-repo-ubuntu1604_9.0.176-1_amd64.deb\n",
        "!sudo apt-get update\n",
        "!sudo apt-get install cuda=9.0.176-1\n",
        "!sudo apt-get install libcudnn7-dev\n",
        "!sudo apt-get install libnccl-dev"
      ],
      "execution_count": null,
      "outputs": []
    },
    {
      "cell_type": "code",
      "metadata": {
        "id": "XwVo5xQ_gPbj"
      },
      "source": [
        "!pip show tensorflow"
      ],
      "execution_count": null,
      "outputs": []
    },
    {
      "cell_type": "code",
      "metadata": {
        "id": "xuZbERWGDV1U"
      },
      "source": [
        "import cv2\n",
        "import os\n",
        "import tempfile\n",
        "import matplotlib.pyplot as plt\n",
        "import numpy as np\n",
        "import pandas as pd\n",
        "import seaborn as sn\n",
        "import sklearn\n",
        "import tensorflow as tf\n",
        "from tensorflow import keras\n",
        "from tensorflow.keras.preprocessing.image import ImageDataGenerator\n",
        "from keras.preprocessing import image\n",
        "from time import time\n",
        "from sklearn.model_selection import train_test_split\n",
        "from sklearn.utils import class_weight\n",
        "from sklearn.utils.class_weight import compute_class_weight\n",
        "from google.colab import files\n",
        "from zipfile import ZipFile\n",
        "from PIL import Image\n",
        "from numpy import asarray\n",
        "import numpy as np"
      ],
      "execution_count": null,
      "outputs": []
    },
    {
      "cell_type": "code",
      "metadata": {
        "id": "Ziv1KM0ga8Qt"
      },
      "source": [
        "cp -r /tmp/frozen_graph/frozen_resnet502.pb /content/drive/MyDrive/frozen_graph/"
      ],
      "execution_count": null,
      "outputs": []
    },
    {
      "cell_type": "code",
      "metadata": {
        "id": "Tl5NyBoAC971",
        "colab": {
          "base_uri": "https://localhost:8080/"
        },
        "outputId": "372923c0-4308-478a-d219-5e152ae3caee"
      },
      "source": [
        "from google.colab import drive\n",
        "drive.mount('/content/drive')"
      ],
      "execution_count": null,
      "outputs": [
        {
          "output_type": "stream",
          "text": [
            "Mounted at /content/drive\n"
          ],
          "name": "stdout"
        }
      ]
    },
    {
      "cell_type": "code",
      "metadata": {
        "id": "M0jzIBNyDYy1"
      },
      "source": [
        "model = tf.keras.models.load_model('/content/drive/My Drive/resnet50avg.h5', compile=True)"
      ],
      "execution_count": null,
      "outputs": []
    },
    {
      "cell_type": "code",
      "metadata": {
        "id": "4Wqi2IueYtnz"
      },
      "source": [
        "from tensorflow.keras.applications import ResNet50\n",
        "from tensorflow.keras.models import Sequential\n",
        "def get_compiled_model():\n",
        "    base_model = ResNet50(weights = \"imagenet\", include_top=False, input_shape=(256,256,3))\n",
        "    base_model.trainable = True\n",
        "    for layer in base_model.layers[:35]:\n",
        "        layer.trainable = False\n",
        "    model = Sequential([\n",
        "        base_model,\n",
        "        tf.keras.layers.MaxPool2D(),\n",
        "        tf.keras.layers.MaxPool2D(),\n",
        "        tf.keras.layers.Flatten(),\n",
        "        tf.keras.layers.Dense(5, activation='softmax')\n",
        "    ])\n",
        "    return model"
      ],
      "execution_count": null,
      "outputs": []
    },
    {
      "cell_type": "code",
      "metadata": {
        "colab": {
          "base_uri": "https://localhost:8080/"
        },
        "id": "ElZslyFgYvjn",
        "outputId": "ef021f68-a8b8-4248-e3dc-32d628ed5139"
      },
      "source": [
        "model = get_compiled_model()\n",
        "model.summary()"
      ],
      "execution_count": null,
      "outputs": [
        {
          "output_type": "stream",
          "text": [
            "/usr/local/lib/python3.7/dist-packages/keras_applications/resnet50.py:265: UserWarning: The output shape of `ResNet50(include_top=False)` has been changed since Keras 2.2.0.\n",
            "  warnings.warn('The output shape of `ResNet50(include_top=False)` '\n"
          ],
          "name": "stderr"
        },
        {
          "output_type": "stream",
          "text": [
            "_________________________________________________________________\n",
            "Layer (type)                 Output Shape              Param #   \n",
            "=================================================================\n",
            "resnet50 (Model)             (None, 8, 8, 2048)        23587712  \n",
            "_________________________________________________________________\n",
            "max_pooling2d_7 (MaxPooling2 (None, 4, 4, 2048)        0         \n",
            "_________________________________________________________________\n",
            "max_pooling2d_8 (MaxPooling2 (None, 2, 2, 2048)        0         \n",
            "_________________________________________________________________\n",
            "flatten_2 (Flatten)          (None, 8192)              0         \n",
            "_________________________________________________________________\n",
            "dense_2 (Dense)              (None, 5)                 40965     \n",
            "=================================================================\n",
            "Total params: 23,628,677\n",
            "Trainable params: 23,365,893\n",
            "Non-trainable params: 262,784\n",
            "_________________________________________________________________\n"
          ],
          "name": "stdout"
        }
      ]
    },
    {
      "cell_type": "code",
      "metadata": {
        "colab": {
          "base_uri": "https://localhost:8080/",
          "height": 35
        },
        "id": "FeGXqqeMDrnE",
        "outputId": "787cf71e-aa3d-478a-caa0-29c934f7b2f0"
      },
      "source": [
        "tf.keras.backend.set_learning_phase(0)\n",
        "\n",
        "# set up tensorflow saver object\n",
        "saver = tf.train.Saver()\n",
        "\n",
        "# fetch the tensorflow session using the Keras backend\n",
        "tf_session = tf.keras.backend.get_session()\n",
        "# get the tensorflow session graph\n",
        "input_graph_def = tf_session.graph.as_graph_def()\n",
        "\n",
        "\n",
        "# write out tensorflow checkpoint & inference graph for use with freeze_graph script\n",
        "saver.save(tf_session, '/tmp/frozen_graph/InceptionV3.ckpt')\n",
        "tf.train.write_graph(input_graph_def, '/tmp/InceptionV3.h5', '/tmp/frozen_graph/InceptionV3.pb', as_text=False)"
      ],
      "execution_count": null,
      "outputs": [
        {
          "output_type": "execute_result",
          "data": {
            "application/vnd.google.colaboratory.intrinsic+json": {
              "type": "string"
            },
            "text/plain": [
              "'/tmp/frozen_graph/InceptionV3.pb'"
            ]
          },
          "metadata": {
            "tags": []
          },
          "execution_count": 22
        }
      ]
    },
    {
      "cell_type": "code",
      "metadata": {
        "id": "Oe9FTuh-Liwi",
        "colab": {
          "base_uri": "https://localhost:8080/"
        },
        "outputId": "8854f076-f317-4edd-f4e5-5f705e69b05c"
      },
      "source": [
        "model.input\n",
        "\n",
        "#output_node_names=\"dense/Softmax\"\n",
        "#output_node_names.split(\",\")\n"
      ],
      "execution_count": null,
      "outputs": [
        {
          "output_type": "execute_result",
          "data": {
            "text/plain": [
              "<tf.Tensor 'resnet50_input_1:0' shape=(?, 256, 256, 3) dtype=float32>"
            ]
          },
          "metadata": {
            "tags": []
          },
          "execution_count": 17
        }
      ]
    },
    {
      "cell_type": "code",
      "metadata": {
        "colab": {
          "base_uri": "https://localhost:8080/"
        },
        "id": "cI0GBElaZGM5",
        "outputId": "d6d33418-a1db-44e1-c118-3cd379962c36"
      },
      "source": [
        "model.output"
      ],
      "execution_count": null,
      "outputs": [
        {
          "output_type": "execute_result",
          "data": {
            "text/plain": [
              "<tf.Tensor 'dense_1/Softmax:0' shape=(?, 5) dtype=float32>"
            ]
          },
          "metadata": {
            "tags": []
          },
          "execution_count": 18
        }
      ]
    },
    {
      "cell_type": "markdown",
      "metadata": {
        "id": "3v400ho5RaF-"
      },
      "source": [
        "# freezing Graph\n",
        "use for tf 1.15.2"
      ]
    },
    {
      "cell_type": "code",
      "metadata": {
        "colab": {
          "base_uri": "https://localhost:8080/"
        },
        "id": "uc0At0CmRPu7",
        "outputId": "a42749b6-fb04-4989-ade2-0ecc37cee1fa"
      },
      "source": [
        "tf.keras.backend.set_learning_phase(0)\n",
        "saver = tf.train.import_meta_graph('/tmp/frozen_graph/InceptionV3.ckpt.meta', clear_devices=True)\n",
        "\n",
        "tf_session = tf.keras.backend.get_session()\n",
        "input_graph_def = tf_session.graph.as_graph_def()\n",
        "sess = tf.Session()\n",
        "saver.restore(sess,'/tmp/frozen_graph/InceptionV3.ckpt' )"
      ],
      "execution_count": null,
      "outputs": [
        {
          "output_type": "stream",
          "text": [
            "WARNING:tensorflow:From /usr/local/lib/python3.7/dist-packages/tensorflow/python/training/saver.py:1266: checkpoint_exists (from tensorflow.python.training.checkpoint_management) is deprecated and will be removed in a future version.\n",
            "Instructions for updating:\n",
            "Use standard file APIs to check for files with this prefix.\n",
            "INFO:tensorflow:Restoring parameters from /tmp/frozen_graph/InceptionV3.ckpt\n"
          ],
          "name": "stdout"
        }
      ]
    },
    {
      "cell_type": "code",
      "metadata": {
        "colab": {
          "base_uri": "https://localhost:8080/"
        },
        "id": "BO2WDsZrRRXH",
        "outputId": "c5b5b3db-01ae-466a-ea2d-1ce2066ee6e5"
      },
      "source": [
        "output_node_names=\"dense_1/Softmax\"\n",
        "output_graph_def = tf.graph_util.convert_variables_to_constants(\n",
        "            sess, # The session\n",
        "            input_graph_def, # input_graph_def is useful for retrieving the nodes \n",
        "            output_node_names.split(\",\") \n",
        ")"
      ],
      "execution_count": null,
      "outputs": [
        {
          "output_type": "stream",
          "text": [
            "INFO:tensorflow:Froze 320 variables.\n",
            "INFO:tensorflow:Converted 320 variables to const ops.\n"
          ],
          "name": "stdout"
        }
      ]
    },
    {
      "cell_type": "code",
      "metadata": {
        "id": "bgg7py1ZRTml"
      },
      "source": [
        "output_graph=\"/tmp/frozen_graph/frozen_graph.pb\"\n",
        "with tf.io.gfile.GFile(output_graph, \"wb\") as f:\n",
        "    f.write(output_graph_def.SerializeToString())\n",
        " \n",
        "sess.close()"
      ],
      "execution_count": null,
      "outputs": []
    },
    {
      "cell_type": "markdown",
      "metadata": {
        "id": "DvFB2JH7-y8t"
      },
      "source": [
        "# freezing graph 2.0\n",
        "use for tf 1.12"
      ]
    },
    {
      "cell_type": "code",
      "metadata": {
        "colab": {
          "base_uri": "https://localhost:8080/"
        },
        "id": "0Nm-cHQ-FyEf",
        "outputId": "8f089627-f89c-4a90-acd1-ba3c3d578399"
      },
      "source": [
        "model.input"
      ],
      "execution_count": null,
      "outputs": [
        {
          "output_type": "execute_result",
          "data": {
            "text/plain": [
              "<tf.Tensor 'inception_v3_input:0' shape=(?, 256, 256, 3) dtype=float32>"
            ]
          },
          "metadata": {
            "tags": []
          },
          "execution_count": 11
        }
      ]
    },
    {
      "cell_type": "code",
      "metadata": {
        "colab": {
          "base_uri": "https://localhost:8080/"
        },
        "id": "y5Zh4lPEUn14",
        "outputId": "2cc937ae-3449-4e0f-baf7-866e69b030b4"
      },
      "source": [
        "from tensorflow.python.framework import graph_util\n",
        "from tensorflow.python.framework import graph_io\n",
        "from tensorflow.keras.models import load_model\n",
        "from tensorflow.keras import backend as K\n",
        "import os.path as osp\n",
        "\n",
        "#model = load_model('/content/drive/My Drive/Colab Notebooks/Transfer Learning experiments/best model/resnet50 tf 1.12.hdf5')\n",
        "#nb_classes = 5 # The number of output nodes in the model\n",
        "#prefix_output_node_names_of_final_network = 'output_node'\n",
        "\n",
        "K.set_learning_phase(0)\n",
        "\n",
        "sess = K.get_session()\n",
        "output_fld = '/tmp/frozen_graph'\n",
        "if not os.path.isdir(output_fld):\n",
        "    os.mkdir(output_fld)\n",
        "output_graph_name = '/tmp/frozen_graph/Frozen_ResNetAVG' + '.pb'\n",
        "output_graph_suffix = '_inference'\n",
        "\n",
        "constant_graph = graph_util.convert_variables_to_constants(sess, sess.graph.as_graph_def(),['dense_1/Softmax'] )\n",
        "graph_io.write_graph(constant_graph, output_fld, output_graph_name, as_text=False)\n",
        "print('saved the constant graph (ready for inference) at: ', osp.join(output_fld, output_graph_name))"
      ],
      "execution_count": null,
      "outputs": [
        {
          "output_type": "stream",
          "text": [
            "INFO:tensorflow:Froze 320 variables.\n",
            "INFO:tensorflow:Converted 320 variables to const ops.\n",
            "saved the constant graph (ready for inference) at:  /tmp/frozen_graph/Frozen_ResNetAVG.pb\n"
          ],
          "name": "stdout"
        }
      ]
    },
    {
      "cell_type": "markdown",
      "metadata": {
        "id": "G95rHpaR_ZZ_"
      },
      "source": [
        "# Load model saved\n",
        "see output node name  \n"
      ]
    },
    {
      "cell_type": "code",
      "metadata": {
        "colab": {
          "base_uri": "https://localhost:8080/"
        },
        "id": "8L-dc5McYsMb",
        "outputId": "fa6a099d-9a57-4aec-a819-503a2efd393e"
      },
      "source": [
        "import tensorflow as tf\n",
        "from tensorflow.python.platform import gfile\n",
        "GRAPH_PB_PATH = '/tmp/frozen_graph/frozen_graph.pb'\n",
        "with tf.Session() as sess:\n",
        "   print(\"load graph\")\n",
        "   with gfile.FastGFile(GRAPH_PB_PATH,'rb') as f:\n",
        "       graph_def = tf.GraphDef()\n",
        "   graph_def.ParseFromString(f.read())\n",
        "   sess.graph.as_default()\n",
        "   tf.import_graph_def(graph_def, name='')\n",
        "   graph_nodes=[n for n in graph_def.node]\n",
        "   names = []\n",
        "   for t in graph_nodes:\n",
        "      names.append(t.name)\n",
        "   print(names)\n"
      ],
      "execution_count": null,
      "outputs": [
        {
          "output_type": "stream",
          "text": [
            "load graph\n",
            "['conv1_1/kernel', 'conv1_1/bias', 'bn_conv1_1/gamma', 'bn_conv1_1/beta', 'bn_conv1_1/moving_mean', 'bn_conv1_1/moving_variance', 'res2a_branch2a_1/kernel', 'res2a_branch2a_1/bias', 'bn2a_branch2a_1/gamma', 'bn2a_branch2a_1/beta', 'bn2a_branch2a_1/moving_mean', 'bn2a_branch2a_1/moving_variance', 'res2a_branch2b_1/kernel', 'res2a_branch2b_1/bias', 'bn2a_branch2b_1/gamma', 'bn2a_branch2b_1/beta', 'bn2a_branch2b_1/moving_mean', 'bn2a_branch2b_1/moving_variance', 'res2a_branch2c_1/kernel', 'res2a_branch2c_1/bias', 'bn2a_branch2c_1/gamma', 'bn2a_branch2c_1/beta', 'bn2a_branch2c_1/moving_mean', 'bn2a_branch2c_1/moving_variance', 'res2a_branch1_1/kernel', 'res2a_branch1_1/bias', 'bn2a_branch1_1/gamma', 'bn2a_branch1_1/beta', 'bn2a_branch1_1/moving_mean', 'bn2a_branch1_1/moving_variance', 'res2b_branch2a_1/kernel', 'res2b_branch2a_1/bias', 'bn2b_branch2a_1/gamma', 'bn2b_branch2a_1/beta', 'bn2b_branch2a_1/moving_mean', 'bn2b_branch2a_1/moving_variance', 'res2b_branch2b_1/kernel', 'res2b_branch2b_1/bias', 'bn2b_branch2b_1/gamma', 'bn2b_branch2b_1/beta', 'bn2b_branch2b_1/moving_mean', 'bn2b_branch2b_1/moving_variance', 'res2b_branch2c_1/kernel', 'res2b_branch2c_1/bias', 'bn2b_branch2c_1/gamma', 'bn2b_branch2c_1/beta', 'bn2b_branch2c_1/moving_mean', 'bn2b_branch2c_1/moving_variance', 'res2c_branch2a_1/kernel', 'res2c_branch2a_1/bias', 'bn2c_branch2a_1/gamma', 'bn2c_branch2a_1/beta', 'bn2c_branch2a_1/moving_mean', 'bn2c_branch2a_1/moving_variance', 'res2c_branch2b_1/kernel', 'res2c_branch2b_1/bias', 'bn2c_branch2b_1/gamma', 'bn2c_branch2b_1/beta', 'bn2c_branch2b_1/moving_mean', 'bn2c_branch2b_1/moving_variance', 'res2c_branch2c_1/kernel', 'res2c_branch2c_1/bias', 'bn2c_branch2c_1/gamma', 'bn2c_branch2c_1/beta', 'bn2c_branch2c_1/moving_mean', 'bn2c_branch2c_1/moving_variance', 'res3a_branch2a_1/kernel', 'res3a_branch2a_1/bias', 'bn3a_branch2a_1/gamma', 'bn3a_branch2a_1/beta', 'bn3a_branch2a_1/moving_mean', 'bn3a_branch2a_1/moving_variance', 'res3a_branch2b_1/kernel', 'res3a_branch2b_1/bias', 'bn3a_branch2b_1/gamma', 'bn3a_branch2b_1/beta', 'bn3a_branch2b_1/moving_mean', 'bn3a_branch2b_1/moving_variance', 'res3a_branch2c_1/kernel', 'res3a_branch2c_1/bias', 'bn3a_branch2c_1/gamma', 'bn3a_branch2c_1/beta', 'bn3a_branch2c_1/moving_mean', 'bn3a_branch2c_1/moving_variance', 'res3a_branch1_1/kernel', 'res3a_branch1_1/bias', 'bn3a_branch1_1/gamma', 'bn3a_branch1_1/beta', 'bn3a_branch1_1/moving_mean', 'bn3a_branch1_1/moving_variance', 'res3b_branch2a_1/kernel', 'res3b_branch2a_1/bias', 'bn3b_branch2a_1/gamma', 'bn3b_branch2a_1/beta', 'bn3b_branch2a_1/moving_mean', 'bn3b_branch2a_1/moving_variance', 'res3b_branch2b_1/kernel', 'res3b_branch2b_1/bias', 'bn3b_branch2b_1/gamma', 'bn3b_branch2b_1/beta', 'bn3b_branch2b_1/moving_mean', 'bn3b_branch2b_1/moving_variance', 'res3b_branch2c_1/kernel', 'res3b_branch2c_1/bias', 'bn3b_branch2c_1/gamma', 'bn3b_branch2c_1/beta', 'bn3b_branch2c_1/moving_mean', 'bn3b_branch2c_1/moving_variance', 'res3c_branch2a_1/kernel', 'res3c_branch2a_1/bias', 'bn3c_branch2a_1/gamma', 'bn3c_branch2a_1/beta', 'bn3c_branch2a_1/moving_mean', 'bn3c_branch2a_1/moving_variance', 'res3c_branch2b_1/kernel', 'res3c_branch2b_1/bias', 'bn3c_branch2b_1/gamma', 'bn3c_branch2b_1/beta', 'bn3c_branch2b_1/moving_mean', 'bn3c_branch2b_1/moving_variance', 'res3c_branch2c_1/kernel', 'res3c_branch2c_1/bias', 'bn3c_branch2c_1/gamma', 'bn3c_branch2c_1/beta', 'bn3c_branch2c_1/moving_mean', 'bn3c_branch2c_1/moving_variance', 'res3d_branch2a_1/kernel', 'res3d_branch2a_1/bias', 'bn3d_branch2a_1/gamma', 'bn3d_branch2a_1/beta', 'bn3d_branch2a_1/moving_mean', 'bn3d_branch2a_1/moving_variance', 'res3d_branch2b_1/kernel', 'res3d_branch2b_1/bias', 'bn3d_branch2b_1/gamma', 'bn3d_branch2b_1/beta', 'bn3d_branch2b_1/moving_mean', 'bn3d_branch2b_1/moving_variance', 'res3d_branch2c_1/kernel', 'res3d_branch2c_1/bias', 'bn3d_branch2c_1/gamma', 'bn3d_branch2c_1/beta', 'bn3d_branch2c_1/moving_mean', 'bn3d_branch2c_1/moving_variance', 'res4a_branch2a_1/kernel', 'res4a_branch2a_1/bias', 'bn4a_branch2a_1/gamma', 'bn4a_branch2a_1/beta', 'bn4a_branch2a_1/moving_mean', 'bn4a_branch2a_1/moving_variance', 'res4a_branch2b_1/kernel', 'res4a_branch2b_1/bias', 'bn4a_branch2b_1/gamma', 'bn4a_branch2b_1/beta', 'bn4a_branch2b_1/moving_mean', 'bn4a_branch2b_1/moving_variance', 'res4a_branch2c_1/kernel', 'res4a_branch2c_1/bias', 'bn4a_branch2c_1/gamma', 'bn4a_branch2c_1/beta', 'bn4a_branch2c_1/moving_mean', 'bn4a_branch2c_1/moving_variance', 'res4a_branch1_1/kernel', 'res4a_branch1_1/bias', 'bn4a_branch1_1/gamma', 'bn4a_branch1_1/beta', 'bn4a_branch1_1/moving_mean', 'bn4a_branch1_1/moving_variance', 'res4b_branch2a_1/kernel', 'res4b_branch2a_1/bias', 'bn4b_branch2a_1/gamma', 'bn4b_branch2a_1/beta', 'bn4b_branch2a_1/moving_mean', 'bn4b_branch2a_1/moving_variance', 'res4b_branch2b_1/kernel', 'res4b_branch2b_1/bias', 'bn4b_branch2b_1/gamma', 'bn4b_branch2b_1/beta', 'bn4b_branch2b_1/moving_mean', 'bn4b_branch2b_1/moving_variance', 'res4b_branch2c_1/kernel', 'res4b_branch2c_1/bias', 'bn4b_branch2c_1/gamma', 'bn4b_branch2c_1/beta', 'bn4b_branch2c_1/moving_mean', 'bn4b_branch2c_1/moving_variance', 'res4c_branch2a_1/kernel', 'res4c_branch2a_1/bias', 'bn4c_branch2a_1/gamma', 'bn4c_branch2a_1/beta', 'bn4c_branch2a_1/moving_mean', 'bn4c_branch2a_1/moving_variance', 'res4c_branch2b_1/kernel', 'res4c_branch2b_1/bias', 'bn4c_branch2b_1/gamma', 'bn4c_branch2b_1/beta', 'bn4c_branch2b_1/moving_mean', 'bn4c_branch2b_1/moving_variance', 'res4c_branch2c_1/kernel', 'res4c_branch2c_1/bias', 'bn4c_branch2c_1/gamma', 'bn4c_branch2c_1/beta', 'bn4c_branch2c_1/moving_mean', 'bn4c_branch2c_1/moving_variance', 'res4d_branch2a_1/kernel', 'res4d_branch2a_1/bias', 'bn4d_branch2a_1/gamma', 'bn4d_branch2a_1/beta', 'bn4d_branch2a_1/moving_mean', 'bn4d_branch2a_1/moving_variance', 'res4d_branch2b_1/kernel', 'res4d_branch2b_1/bias', 'bn4d_branch2b_1/gamma', 'bn4d_branch2b_1/beta', 'bn4d_branch2b_1/moving_mean', 'bn4d_branch2b_1/moving_variance', 'res4d_branch2c_1/kernel', 'res4d_branch2c_1/bias', 'bn4d_branch2c_1/gamma', 'bn4d_branch2c_1/beta', 'bn4d_branch2c_1/moving_mean', 'bn4d_branch2c_1/moving_variance', 'res4e_branch2a_1/kernel', 'res4e_branch2a_1/bias', 'bn4e_branch2a_1/gamma', 'bn4e_branch2a_1/beta', 'bn4e_branch2a_1/moving_mean', 'bn4e_branch2a_1/moving_variance', 'res4e_branch2b_1/kernel', 'res4e_branch2b_1/bias', 'bn4e_branch2b_1/gamma', 'bn4e_branch2b_1/beta', 'bn4e_branch2b_1/moving_mean', 'bn4e_branch2b_1/moving_variance', 'res4e_branch2c_1/kernel', 'res4e_branch2c_1/bias', 'bn4e_branch2c_1/gamma', 'bn4e_branch2c_1/beta', 'bn4e_branch2c_1/moving_mean', 'bn4e_branch2c_1/moving_variance', 'res4f_branch2a_1/kernel', 'res4f_branch2a_1/bias', 'bn4f_branch2a_1/gamma', 'bn4f_branch2a_1/beta', 'bn4f_branch2a_1/moving_mean', 'bn4f_branch2a_1/moving_variance', 'res4f_branch2b_1/kernel', 'res4f_branch2b_1/bias', 'bn4f_branch2b_1/gamma', 'bn4f_branch2b_1/beta', 'bn4f_branch2b_1/moving_mean', 'bn4f_branch2b_1/moving_variance', 'res4f_branch2c_1/kernel', 'res4f_branch2c_1/bias', 'bn4f_branch2c_1/gamma', 'bn4f_branch2c_1/beta', 'bn4f_branch2c_1/moving_mean', 'bn4f_branch2c_1/moving_variance', 'res5a_branch2a_1/kernel', 'res5a_branch2a_1/bias', 'bn5a_branch2a_1/gamma', 'bn5a_branch2a_1/beta', 'bn5a_branch2a_1/moving_mean', 'bn5a_branch2a_1/moving_variance', 'res5a_branch2b_1/kernel', 'res5a_branch2b_1/bias', 'bn5a_branch2b_1/gamma', 'bn5a_branch2b_1/beta', 'bn5a_branch2b_1/moving_mean', 'bn5a_branch2b_1/moving_variance', 'res5a_branch2c_1/kernel', 'res5a_branch2c_1/bias', 'bn5a_branch2c_1/gamma', 'bn5a_branch2c_1/beta', 'bn5a_branch2c_1/moving_mean', 'bn5a_branch2c_1/moving_variance', 'res5a_branch1_1/kernel', 'res5a_branch1_1/bias', 'bn5a_branch1_1/gamma', 'bn5a_branch1_1/beta', 'bn5a_branch1_1/moving_mean', 'bn5a_branch1_1/moving_variance', 'res5b_branch2a_1/kernel', 'res5b_branch2a_1/bias', 'bn5b_branch2a_1/gamma', 'bn5b_branch2a_1/beta', 'bn5b_branch2a_1/moving_mean', 'bn5b_branch2a_1/moving_variance', 'res5b_branch2b_1/kernel', 'res5b_branch2b_1/bias', 'bn5b_branch2b_1/gamma', 'bn5b_branch2b_1/beta', 'bn5b_branch2b_1/moving_mean', 'bn5b_branch2b_1/moving_variance', 'res5b_branch2c_1/kernel', 'res5b_branch2c_1/bias', 'bn5b_branch2c_1/gamma', 'bn5b_branch2c_1/beta', 'bn5b_branch2c_1/moving_mean', 'bn5b_branch2c_1/moving_variance', 'res5c_branch2a_1/kernel', 'res5c_branch2a_1/bias', 'bn5c_branch2a_1/gamma', 'bn5c_branch2a_1/beta', 'bn5c_branch2a_1/moving_mean', 'bn5c_branch2a_1/moving_variance', 'res5c_branch2b_1/kernel', 'res5c_branch2b_1/bias', 'bn5c_branch2b_1/gamma', 'bn5c_branch2b_1/beta', 'bn5c_branch2b_1/moving_mean', 'bn5c_branch2b_1/moving_variance', 'res5c_branch2c_1/kernel', 'res5c_branch2c_1/bias', 'bn5c_branch2c_1/gamma', 'bn5c_branch2c_1/beta', 'bn5c_branch2c_1/moving_mean', 'bn5c_branch2c_1/moving_variance', 'resnet50_input_1', 'resnet50_1/conv1_pad/Pad/paddings', 'resnet50_1/conv1_pad/Pad', 'resnet50_1/conv1/Conv2D/ReadVariableOp', 'resnet50_1/conv1/Conv2D', 'resnet50_1/conv1/BiasAdd/ReadVariableOp', 'resnet50_1/conv1/BiasAdd', 'resnet50_1/bn_conv1/ReadVariableOp', 'resnet50_1/bn_conv1/ReadVariableOp_1', 'resnet50_1/bn_conv1/FusedBatchNorm/ReadVariableOp', 'resnet50_1/bn_conv1/FusedBatchNorm/ReadVariableOp_1', 'resnet50_1/bn_conv1/FusedBatchNorm', 'resnet50_1/activation_49/Relu', 'resnet50_1/pool1_pad/Pad/paddings', 'resnet50_1/pool1_pad/Pad', 'resnet50_1/max_pooling2d_3/MaxPool', 'resnet50_1/res2a_branch2a/Conv2D/ReadVariableOp', 'resnet50_1/res2a_branch2a/Conv2D', 'resnet50_1/res2a_branch2a/BiasAdd/ReadVariableOp', 'resnet50_1/res2a_branch2a/BiasAdd', 'resnet50_1/bn2a_branch2a/ReadVariableOp', 'resnet50_1/bn2a_branch2a/ReadVariableOp_1', 'resnet50_1/bn2a_branch2a/FusedBatchNorm/ReadVariableOp', 'resnet50_1/bn2a_branch2a/FusedBatchNorm/ReadVariableOp_1', 'resnet50_1/bn2a_branch2a/FusedBatchNorm', 'resnet50_1/activation_50/Relu', 'resnet50_1/res2a_branch2b/Conv2D/ReadVariableOp', 'resnet50_1/res2a_branch2b/Conv2D', 'resnet50_1/res2a_branch2b/BiasAdd/ReadVariableOp', 'resnet50_1/res2a_branch2b/BiasAdd', 'resnet50_1/bn2a_branch2b/ReadVariableOp', 'resnet50_1/bn2a_branch2b/ReadVariableOp_1', 'resnet50_1/bn2a_branch2b/FusedBatchNorm/ReadVariableOp', 'resnet50_1/bn2a_branch2b/FusedBatchNorm/ReadVariableOp_1', 'resnet50_1/bn2a_branch2b/FusedBatchNorm', 'resnet50_1/activation_51/Relu', 'resnet50_1/res2a_branch1/Conv2D/ReadVariableOp', 'resnet50_1/res2a_branch1/Conv2D', 'resnet50_1/res2a_branch1/BiasAdd/ReadVariableOp', 'resnet50_1/res2a_branch1/BiasAdd', 'resnet50_1/res2a_branch2c/Conv2D/ReadVariableOp', 'resnet50_1/res2a_branch2c/Conv2D', 'resnet50_1/res2a_branch2c/BiasAdd/ReadVariableOp', 'resnet50_1/res2a_branch2c/BiasAdd', 'resnet50_1/bn2a_branch2c/ReadVariableOp', 'resnet50_1/bn2a_branch2c/ReadVariableOp_1', 'resnet50_1/bn2a_branch2c/FusedBatchNorm/ReadVariableOp', 'resnet50_1/bn2a_branch2c/FusedBatchNorm/ReadVariableOp_1', 'resnet50_1/bn2a_branch2c/FusedBatchNorm', 'resnet50_1/bn2a_branch1/ReadVariableOp', 'resnet50_1/bn2a_branch1/ReadVariableOp_1', 'resnet50_1/bn2a_branch1/FusedBatchNorm/ReadVariableOp', 'resnet50_1/bn2a_branch1/FusedBatchNorm/ReadVariableOp_1', 'resnet50_1/bn2a_branch1/FusedBatchNorm', 'resnet50_1/add_16/add', 'resnet50_1/activation_52/Relu', 'resnet50_1/res2b_branch2a/Conv2D/ReadVariableOp', 'resnet50_1/res2b_branch2a/Conv2D', 'resnet50_1/res2b_branch2a/BiasAdd/ReadVariableOp', 'resnet50_1/res2b_branch2a/BiasAdd', 'resnet50_1/bn2b_branch2a/ReadVariableOp', 'resnet50_1/bn2b_branch2a/ReadVariableOp_1', 'resnet50_1/bn2b_branch2a/FusedBatchNorm/ReadVariableOp', 'resnet50_1/bn2b_branch2a/FusedBatchNorm/ReadVariableOp_1', 'resnet50_1/bn2b_branch2a/FusedBatchNorm', 'resnet50_1/activation_53/Relu', 'resnet50_1/res2b_branch2b/Conv2D/ReadVariableOp', 'resnet50_1/res2b_branch2b/Conv2D', 'resnet50_1/res2b_branch2b/BiasAdd/ReadVariableOp', 'resnet50_1/res2b_branch2b/BiasAdd', 'resnet50_1/bn2b_branch2b/ReadVariableOp', 'resnet50_1/bn2b_branch2b/ReadVariableOp_1', 'resnet50_1/bn2b_branch2b/FusedBatchNorm/ReadVariableOp', 'resnet50_1/bn2b_branch2b/FusedBatchNorm/ReadVariableOp_1', 'resnet50_1/bn2b_branch2b/FusedBatchNorm', 'resnet50_1/activation_54/Relu', 'resnet50_1/res2b_branch2c/Conv2D/ReadVariableOp', 'resnet50_1/res2b_branch2c/Conv2D', 'resnet50_1/res2b_branch2c/BiasAdd/ReadVariableOp', 'resnet50_1/res2b_branch2c/BiasAdd', 'resnet50_1/bn2b_branch2c/ReadVariableOp', 'resnet50_1/bn2b_branch2c/ReadVariableOp_1', 'resnet50_1/bn2b_branch2c/FusedBatchNorm/ReadVariableOp', 'resnet50_1/bn2b_branch2c/FusedBatchNorm/ReadVariableOp_1', 'resnet50_1/bn2b_branch2c/FusedBatchNorm', 'resnet50_1/add_17/add', 'resnet50_1/activation_55/Relu', 'resnet50_1/res2c_branch2a/Conv2D/ReadVariableOp', 'resnet50_1/res2c_branch2a/Conv2D', 'resnet50_1/res2c_branch2a/BiasAdd/ReadVariableOp', 'resnet50_1/res2c_branch2a/BiasAdd', 'resnet50_1/bn2c_branch2a/ReadVariableOp', 'resnet50_1/bn2c_branch2a/ReadVariableOp_1', 'resnet50_1/bn2c_branch2a/FusedBatchNorm/ReadVariableOp', 'resnet50_1/bn2c_branch2a/FusedBatchNorm/ReadVariableOp_1', 'resnet50_1/bn2c_branch2a/FusedBatchNorm', 'resnet50_1/activation_56/Relu', 'resnet50_1/res2c_branch2b/Conv2D/ReadVariableOp', 'resnet50_1/res2c_branch2b/Conv2D', 'resnet50_1/res2c_branch2b/BiasAdd/ReadVariableOp', 'resnet50_1/res2c_branch2b/BiasAdd', 'resnet50_1/bn2c_branch2b/ReadVariableOp', 'resnet50_1/bn2c_branch2b/ReadVariableOp_1', 'resnet50_1/bn2c_branch2b/FusedBatchNorm/ReadVariableOp', 'resnet50_1/bn2c_branch2b/FusedBatchNorm/ReadVariableOp_1', 'resnet50_1/bn2c_branch2b/FusedBatchNorm', 'resnet50_1/activation_57/Relu', 'resnet50_1/res2c_branch2c/Conv2D/ReadVariableOp', 'resnet50_1/res2c_branch2c/Conv2D', 'resnet50_1/res2c_branch2c/BiasAdd/ReadVariableOp', 'resnet50_1/res2c_branch2c/BiasAdd', 'resnet50_1/bn2c_branch2c/ReadVariableOp', 'resnet50_1/bn2c_branch2c/ReadVariableOp_1', 'resnet50_1/bn2c_branch2c/FusedBatchNorm/ReadVariableOp', 'resnet50_1/bn2c_branch2c/FusedBatchNorm/ReadVariableOp_1', 'resnet50_1/bn2c_branch2c/FusedBatchNorm', 'resnet50_1/add_18/add', 'resnet50_1/activation_58/Relu', 'resnet50_1/res3a_branch2a/Conv2D/ReadVariableOp', 'resnet50_1/res3a_branch2a/Conv2D', 'resnet50_1/res3a_branch2a/BiasAdd/ReadVariableOp', 'resnet50_1/res3a_branch2a/BiasAdd', 'resnet50_1/bn3a_branch2a/ReadVariableOp', 'resnet50_1/bn3a_branch2a/ReadVariableOp_1', 'resnet50_1/bn3a_branch2a/FusedBatchNorm/ReadVariableOp', 'resnet50_1/bn3a_branch2a/FusedBatchNorm/ReadVariableOp_1', 'resnet50_1/bn3a_branch2a/FusedBatchNorm', 'resnet50_1/activation_59/Relu', 'resnet50_1/res3a_branch2b/Conv2D/ReadVariableOp', 'resnet50_1/res3a_branch2b/Conv2D', 'resnet50_1/res3a_branch2b/BiasAdd/ReadVariableOp', 'resnet50_1/res3a_branch2b/BiasAdd', 'resnet50_1/bn3a_branch2b/ReadVariableOp', 'resnet50_1/bn3a_branch2b/ReadVariableOp_1', 'resnet50_1/bn3a_branch2b/FusedBatchNorm/ReadVariableOp', 'resnet50_1/bn3a_branch2b/FusedBatchNorm/ReadVariableOp_1', 'resnet50_1/bn3a_branch2b/FusedBatchNorm', 'resnet50_1/activation_60/Relu', 'resnet50_1/res3a_branch1/Conv2D/ReadVariableOp', 'resnet50_1/res3a_branch1/Conv2D', 'resnet50_1/res3a_branch1/BiasAdd/ReadVariableOp', 'resnet50_1/res3a_branch1/BiasAdd', 'resnet50_1/res3a_branch2c/Conv2D/ReadVariableOp', 'resnet50_1/res3a_branch2c/Conv2D', 'resnet50_1/res3a_branch2c/BiasAdd/ReadVariableOp', 'resnet50_1/res3a_branch2c/BiasAdd', 'resnet50_1/bn3a_branch2c/ReadVariableOp', 'resnet50_1/bn3a_branch2c/ReadVariableOp_1', 'resnet50_1/bn3a_branch2c/FusedBatchNorm/ReadVariableOp', 'resnet50_1/bn3a_branch2c/FusedBatchNorm/ReadVariableOp_1', 'resnet50_1/bn3a_branch2c/FusedBatchNorm', 'resnet50_1/bn3a_branch1/ReadVariableOp', 'resnet50_1/bn3a_branch1/ReadVariableOp_1', 'resnet50_1/bn3a_branch1/FusedBatchNorm/ReadVariableOp', 'resnet50_1/bn3a_branch1/FusedBatchNorm/ReadVariableOp_1', 'resnet50_1/bn3a_branch1/FusedBatchNorm', 'resnet50_1/add_19/add', 'resnet50_1/activation_61/Relu', 'resnet50_1/res3b_branch2a/Conv2D/ReadVariableOp', 'resnet50_1/res3b_branch2a/Conv2D', 'resnet50_1/res3b_branch2a/BiasAdd/ReadVariableOp', 'resnet50_1/res3b_branch2a/BiasAdd', 'resnet50_1/bn3b_branch2a/ReadVariableOp', 'resnet50_1/bn3b_branch2a/ReadVariableOp_1', 'resnet50_1/bn3b_branch2a/FusedBatchNorm/ReadVariableOp', 'resnet50_1/bn3b_branch2a/FusedBatchNorm/ReadVariableOp_1', 'resnet50_1/bn3b_branch2a/FusedBatchNorm', 'resnet50_1/activation_62/Relu', 'resnet50_1/res3b_branch2b/Conv2D/ReadVariableOp', 'resnet50_1/res3b_branch2b/Conv2D', 'resnet50_1/res3b_branch2b/BiasAdd/ReadVariableOp', 'resnet50_1/res3b_branch2b/BiasAdd', 'resnet50_1/bn3b_branch2b/ReadVariableOp', 'resnet50_1/bn3b_branch2b/ReadVariableOp_1', 'resnet50_1/bn3b_branch2b/FusedBatchNorm/ReadVariableOp', 'resnet50_1/bn3b_branch2b/FusedBatchNorm/ReadVariableOp_1', 'resnet50_1/bn3b_branch2b/FusedBatchNorm', 'resnet50_1/activation_63/Relu', 'resnet50_1/res3b_branch2c/Conv2D/ReadVariableOp', 'resnet50_1/res3b_branch2c/Conv2D', 'resnet50_1/res3b_branch2c/BiasAdd/ReadVariableOp', 'resnet50_1/res3b_branch2c/BiasAdd', 'resnet50_1/bn3b_branch2c/ReadVariableOp', 'resnet50_1/bn3b_branch2c/ReadVariableOp_1', 'resnet50_1/bn3b_branch2c/FusedBatchNorm/ReadVariableOp', 'resnet50_1/bn3b_branch2c/FusedBatchNorm/ReadVariableOp_1', 'resnet50_1/bn3b_branch2c/FusedBatchNorm', 'resnet50_1/add_20/add', 'resnet50_1/activation_64/Relu', 'resnet50_1/res3c_branch2a/Conv2D/ReadVariableOp', 'resnet50_1/res3c_branch2a/Conv2D', 'resnet50_1/res3c_branch2a/BiasAdd/ReadVariableOp', 'resnet50_1/res3c_branch2a/BiasAdd', 'resnet50_1/bn3c_branch2a/ReadVariableOp', 'resnet50_1/bn3c_branch2a/ReadVariableOp_1', 'resnet50_1/bn3c_branch2a/FusedBatchNorm/ReadVariableOp', 'resnet50_1/bn3c_branch2a/FusedBatchNorm/ReadVariableOp_1', 'resnet50_1/bn3c_branch2a/FusedBatchNorm', 'resnet50_1/activation_65/Relu', 'resnet50_1/res3c_branch2b/Conv2D/ReadVariableOp', 'resnet50_1/res3c_branch2b/Conv2D', 'resnet50_1/res3c_branch2b/BiasAdd/ReadVariableOp', 'resnet50_1/res3c_branch2b/BiasAdd', 'resnet50_1/bn3c_branch2b/ReadVariableOp', 'resnet50_1/bn3c_branch2b/ReadVariableOp_1', 'resnet50_1/bn3c_branch2b/FusedBatchNorm/ReadVariableOp', 'resnet50_1/bn3c_branch2b/FusedBatchNorm/ReadVariableOp_1', 'resnet50_1/bn3c_branch2b/FusedBatchNorm', 'resnet50_1/activation_66/Relu', 'resnet50_1/res3c_branch2c/Conv2D/ReadVariableOp', 'resnet50_1/res3c_branch2c/Conv2D', 'resnet50_1/res3c_branch2c/BiasAdd/ReadVariableOp', 'resnet50_1/res3c_branch2c/BiasAdd', 'resnet50_1/bn3c_branch2c/ReadVariableOp', 'resnet50_1/bn3c_branch2c/ReadVariableOp_1', 'resnet50_1/bn3c_branch2c/FusedBatchNorm/ReadVariableOp', 'resnet50_1/bn3c_branch2c/FusedBatchNorm/ReadVariableOp_1', 'resnet50_1/bn3c_branch2c/FusedBatchNorm', 'resnet50_1/add_21/add', 'resnet50_1/activation_67/Relu', 'resnet50_1/res3d_branch2a/Conv2D/ReadVariableOp', 'resnet50_1/res3d_branch2a/Conv2D', 'resnet50_1/res3d_branch2a/BiasAdd/ReadVariableOp', 'resnet50_1/res3d_branch2a/BiasAdd', 'resnet50_1/bn3d_branch2a/ReadVariableOp', 'resnet50_1/bn3d_branch2a/ReadVariableOp_1', 'resnet50_1/bn3d_branch2a/FusedBatchNorm/ReadVariableOp', 'resnet50_1/bn3d_branch2a/FusedBatchNorm/ReadVariableOp_1', 'resnet50_1/bn3d_branch2a/FusedBatchNorm', 'resnet50_1/activation_68/Relu', 'resnet50_1/res3d_branch2b/Conv2D/ReadVariableOp', 'resnet50_1/res3d_branch2b/Conv2D', 'resnet50_1/res3d_branch2b/BiasAdd/ReadVariableOp', 'resnet50_1/res3d_branch2b/BiasAdd', 'resnet50_1/bn3d_branch2b/ReadVariableOp', 'resnet50_1/bn3d_branch2b/ReadVariableOp_1', 'resnet50_1/bn3d_branch2b/FusedBatchNorm/ReadVariableOp', 'resnet50_1/bn3d_branch2b/FusedBatchNorm/ReadVariableOp_1', 'resnet50_1/bn3d_branch2b/FusedBatchNorm', 'resnet50_1/activation_69/Relu', 'resnet50_1/res3d_branch2c/Conv2D/ReadVariableOp', 'resnet50_1/res3d_branch2c/Conv2D', 'resnet50_1/res3d_branch2c/BiasAdd/ReadVariableOp', 'resnet50_1/res3d_branch2c/BiasAdd', 'resnet50_1/bn3d_branch2c/ReadVariableOp', 'resnet50_1/bn3d_branch2c/ReadVariableOp_1', 'resnet50_1/bn3d_branch2c/FusedBatchNorm/ReadVariableOp', 'resnet50_1/bn3d_branch2c/FusedBatchNorm/ReadVariableOp_1', 'resnet50_1/bn3d_branch2c/FusedBatchNorm', 'resnet50_1/add_22/add', 'resnet50_1/activation_70/Relu', 'resnet50_1/res4a_branch2a/Conv2D/ReadVariableOp', 'resnet50_1/res4a_branch2a/Conv2D', 'resnet50_1/res4a_branch2a/BiasAdd/ReadVariableOp', 'resnet50_1/res4a_branch2a/BiasAdd', 'resnet50_1/bn4a_branch2a/ReadVariableOp', 'resnet50_1/bn4a_branch2a/ReadVariableOp_1', 'resnet50_1/bn4a_branch2a/FusedBatchNorm/ReadVariableOp', 'resnet50_1/bn4a_branch2a/FusedBatchNorm/ReadVariableOp_1', 'resnet50_1/bn4a_branch2a/FusedBatchNorm', 'resnet50_1/activation_71/Relu', 'resnet50_1/res4a_branch2b/Conv2D/ReadVariableOp', 'resnet50_1/res4a_branch2b/Conv2D', 'resnet50_1/res4a_branch2b/BiasAdd/ReadVariableOp', 'resnet50_1/res4a_branch2b/BiasAdd', 'resnet50_1/bn4a_branch2b/ReadVariableOp', 'resnet50_1/bn4a_branch2b/ReadVariableOp_1', 'resnet50_1/bn4a_branch2b/FusedBatchNorm/ReadVariableOp', 'resnet50_1/bn4a_branch2b/FusedBatchNorm/ReadVariableOp_1', 'resnet50_1/bn4a_branch2b/FusedBatchNorm', 'resnet50_1/activation_72/Relu', 'resnet50_1/res4a_branch1/Conv2D/ReadVariableOp', 'resnet50_1/res4a_branch1/Conv2D', 'resnet50_1/res4a_branch1/BiasAdd/ReadVariableOp', 'resnet50_1/res4a_branch1/BiasAdd', 'resnet50_1/res4a_branch2c/Conv2D/ReadVariableOp', 'resnet50_1/res4a_branch2c/Conv2D', 'resnet50_1/res4a_branch2c/BiasAdd/ReadVariableOp', 'resnet50_1/res4a_branch2c/BiasAdd', 'resnet50_1/bn4a_branch2c/ReadVariableOp', 'resnet50_1/bn4a_branch2c/ReadVariableOp_1', 'resnet50_1/bn4a_branch2c/FusedBatchNorm/ReadVariableOp', 'resnet50_1/bn4a_branch2c/FusedBatchNorm/ReadVariableOp_1', 'resnet50_1/bn4a_branch2c/FusedBatchNorm', 'resnet50_1/bn4a_branch1/ReadVariableOp', 'resnet50_1/bn4a_branch1/ReadVariableOp_1', 'resnet50_1/bn4a_branch1/FusedBatchNorm/ReadVariableOp', 'resnet50_1/bn4a_branch1/FusedBatchNorm/ReadVariableOp_1', 'resnet50_1/bn4a_branch1/FusedBatchNorm', 'resnet50_1/add_23/add', 'resnet50_1/activation_73/Relu', 'resnet50_1/res4b_branch2a/Conv2D/ReadVariableOp', 'resnet50_1/res4b_branch2a/Conv2D', 'resnet50_1/res4b_branch2a/BiasAdd/ReadVariableOp', 'resnet50_1/res4b_branch2a/BiasAdd', 'resnet50_1/bn4b_branch2a/ReadVariableOp', 'resnet50_1/bn4b_branch2a/ReadVariableOp_1', 'resnet50_1/bn4b_branch2a/FusedBatchNorm/ReadVariableOp', 'resnet50_1/bn4b_branch2a/FusedBatchNorm/ReadVariableOp_1', 'resnet50_1/bn4b_branch2a/FusedBatchNorm', 'resnet50_1/activation_74/Relu', 'resnet50_1/res4b_branch2b/Conv2D/ReadVariableOp', 'resnet50_1/res4b_branch2b/Conv2D', 'resnet50_1/res4b_branch2b/BiasAdd/ReadVariableOp', 'resnet50_1/res4b_branch2b/BiasAdd', 'resnet50_1/bn4b_branch2b/ReadVariableOp', 'resnet50_1/bn4b_branch2b/ReadVariableOp_1', 'resnet50_1/bn4b_branch2b/FusedBatchNorm/ReadVariableOp', 'resnet50_1/bn4b_branch2b/FusedBatchNorm/ReadVariableOp_1', 'resnet50_1/bn4b_branch2b/FusedBatchNorm', 'resnet50_1/activation_75/Relu', 'resnet50_1/res4b_branch2c/Conv2D/ReadVariableOp', 'resnet50_1/res4b_branch2c/Conv2D', 'resnet50_1/res4b_branch2c/BiasAdd/ReadVariableOp', 'resnet50_1/res4b_branch2c/BiasAdd', 'resnet50_1/bn4b_branch2c/ReadVariableOp', 'resnet50_1/bn4b_branch2c/ReadVariableOp_1', 'resnet50_1/bn4b_branch2c/FusedBatchNorm/ReadVariableOp', 'resnet50_1/bn4b_branch2c/FusedBatchNorm/ReadVariableOp_1', 'resnet50_1/bn4b_branch2c/FusedBatchNorm', 'resnet50_1/add_24/add', 'resnet50_1/activation_76/Relu', 'resnet50_1/res4c_branch2a/Conv2D/ReadVariableOp', 'resnet50_1/res4c_branch2a/Conv2D', 'resnet50_1/res4c_branch2a/BiasAdd/ReadVariableOp', 'resnet50_1/res4c_branch2a/BiasAdd', 'resnet50_1/bn4c_branch2a/ReadVariableOp', 'resnet50_1/bn4c_branch2a/ReadVariableOp_1', 'resnet50_1/bn4c_branch2a/FusedBatchNorm/ReadVariableOp', 'resnet50_1/bn4c_branch2a/FusedBatchNorm/ReadVariableOp_1', 'resnet50_1/bn4c_branch2a/FusedBatchNorm', 'resnet50_1/activation_77/Relu', 'resnet50_1/res4c_branch2b/Conv2D/ReadVariableOp', 'resnet50_1/res4c_branch2b/Conv2D', 'resnet50_1/res4c_branch2b/BiasAdd/ReadVariableOp', 'resnet50_1/res4c_branch2b/BiasAdd', 'resnet50_1/bn4c_branch2b/ReadVariableOp', 'resnet50_1/bn4c_branch2b/ReadVariableOp_1', 'resnet50_1/bn4c_branch2b/FusedBatchNorm/ReadVariableOp', 'resnet50_1/bn4c_branch2b/FusedBatchNorm/ReadVariableOp_1', 'resnet50_1/bn4c_branch2b/FusedBatchNorm', 'resnet50_1/activation_78/Relu', 'resnet50_1/res4c_branch2c/Conv2D/ReadVariableOp', 'resnet50_1/res4c_branch2c/Conv2D', 'resnet50_1/res4c_branch2c/BiasAdd/ReadVariableOp', 'resnet50_1/res4c_branch2c/BiasAdd', 'resnet50_1/bn4c_branch2c/ReadVariableOp', 'resnet50_1/bn4c_branch2c/ReadVariableOp_1', 'resnet50_1/bn4c_branch2c/FusedBatchNorm/ReadVariableOp', 'resnet50_1/bn4c_branch2c/FusedBatchNorm/ReadVariableOp_1', 'resnet50_1/bn4c_branch2c/FusedBatchNorm', 'resnet50_1/add_25/add', 'resnet50_1/activation_79/Relu', 'resnet50_1/res4d_branch2a/Conv2D/ReadVariableOp', 'resnet50_1/res4d_branch2a/Conv2D', 'resnet50_1/res4d_branch2a/BiasAdd/ReadVariableOp', 'resnet50_1/res4d_branch2a/BiasAdd', 'resnet50_1/bn4d_branch2a/ReadVariableOp', 'resnet50_1/bn4d_branch2a/ReadVariableOp_1', 'resnet50_1/bn4d_branch2a/FusedBatchNorm/ReadVariableOp', 'resnet50_1/bn4d_branch2a/FusedBatchNorm/ReadVariableOp_1', 'resnet50_1/bn4d_branch2a/FusedBatchNorm', 'resnet50_1/activation_80/Relu', 'resnet50_1/res4d_branch2b/Conv2D/ReadVariableOp', 'resnet50_1/res4d_branch2b/Conv2D', 'resnet50_1/res4d_branch2b/BiasAdd/ReadVariableOp', 'resnet50_1/res4d_branch2b/BiasAdd', 'resnet50_1/bn4d_branch2b/ReadVariableOp', 'resnet50_1/bn4d_branch2b/ReadVariableOp_1', 'resnet50_1/bn4d_branch2b/FusedBatchNorm/ReadVariableOp', 'resnet50_1/bn4d_branch2b/FusedBatchNorm/ReadVariableOp_1', 'resnet50_1/bn4d_branch2b/FusedBatchNorm', 'resnet50_1/activation_81/Relu', 'resnet50_1/res4d_branch2c/Conv2D/ReadVariableOp', 'resnet50_1/res4d_branch2c/Conv2D', 'resnet50_1/res4d_branch2c/BiasAdd/ReadVariableOp', 'resnet50_1/res4d_branch2c/BiasAdd', 'resnet50_1/bn4d_branch2c/ReadVariableOp', 'resnet50_1/bn4d_branch2c/ReadVariableOp_1', 'resnet50_1/bn4d_branch2c/FusedBatchNorm/ReadVariableOp', 'resnet50_1/bn4d_branch2c/FusedBatchNorm/ReadVariableOp_1', 'resnet50_1/bn4d_branch2c/FusedBatchNorm', 'resnet50_1/add_26/add', 'resnet50_1/activation_82/Relu', 'resnet50_1/res4e_branch2a/Conv2D/ReadVariableOp', 'resnet50_1/res4e_branch2a/Conv2D', 'resnet50_1/res4e_branch2a/BiasAdd/ReadVariableOp', 'resnet50_1/res4e_branch2a/BiasAdd', 'resnet50_1/bn4e_branch2a/ReadVariableOp', 'resnet50_1/bn4e_branch2a/ReadVariableOp_1', 'resnet50_1/bn4e_branch2a/FusedBatchNorm/ReadVariableOp', 'resnet50_1/bn4e_branch2a/FusedBatchNorm/ReadVariableOp_1', 'resnet50_1/bn4e_branch2a/FusedBatchNorm', 'resnet50_1/activation_83/Relu', 'resnet50_1/res4e_branch2b/Conv2D/ReadVariableOp', 'resnet50_1/res4e_branch2b/Conv2D', 'resnet50_1/res4e_branch2b/BiasAdd/ReadVariableOp', 'resnet50_1/res4e_branch2b/BiasAdd', 'resnet50_1/bn4e_branch2b/ReadVariableOp', 'resnet50_1/bn4e_branch2b/ReadVariableOp_1', 'resnet50_1/bn4e_branch2b/FusedBatchNorm/ReadVariableOp', 'resnet50_1/bn4e_branch2b/FusedBatchNorm/ReadVariableOp_1', 'resnet50_1/bn4e_branch2b/FusedBatchNorm', 'resnet50_1/activation_84/Relu', 'resnet50_1/res4e_branch2c/Conv2D/ReadVariableOp', 'resnet50_1/res4e_branch2c/Conv2D', 'resnet50_1/res4e_branch2c/BiasAdd/ReadVariableOp', 'resnet50_1/res4e_branch2c/BiasAdd', 'resnet50_1/bn4e_branch2c/ReadVariableOp', 'resnet50_1/bn4e_branch2c/ReadVariableOp_1', 'resnet50_1/bn4e_branch2c/FusedBatchNorm/ReadVariableOp', 'resnet50_1/bn4e_branch2c/FusedBatchNorm/ReadVariableOp_1', 'resnet50_1/bn4e_branch2c/FusedBatchNorm', 'resnet50_1/add_27/add', 'resnet50_1/activation_85/Relu', 'resnet50_1/res4f_branch2a/Conv2D/ReadVariableOp', 'resnet50_1/res4f_branch2a/Conv2D', 'resnet50_1/res4f_branch2a/BiasAdd/ReadVariableOp', 'resnet50_1/res4f_branch2a/BiasAdd', 'resnet50_1/bn4f_branch2a/ReadVariableOp', 'resnet50_1/bn4f_branch2a/ReadVariableOp_1', 'resnet50_1/bn4f_branch2a/FusedBatchNorm/ReadVariableOp', 'resnet50_1/bn4f_branch2a/FusedBatchNorm/ReadVariableOp_1', 'resnet50_1/bn4f_branch2a/FusedBatchNorm', 'resnet50_1/activation_86/Relu', 'resnet50_1/res4f_branch2b/Conv2D/ReadVariableOp', 'resnet50_1/res4f_branch2b/Conv2D', 'resnet50_1/res4f_branch2b/BiasAdd/ReadVariableOp', 'resnet50_1/res4f_branch2b/BiasAdd', 'resnet50_1/bn4f_branch2b/ReadVariableOp', 'resnet50_1/bn4f_branch2b/ReadVariableOp_1', 'resnet50_1/bn4f_branch2b/FusedBatchNorm/ReadVariableOp', 'resnet50_1/bn4f_branch2b/FusedBatchNorm/ReadVariableOp_1', 'resnet50_1/bn4f_branch2b/FusedBatchNorm', 'resnet50_1/activation_87/Relu', 'resnet50_1/res4f_branch2c/Conv2D/ReadVariableOp', 'resnet50_1/res4f_branch2c/Conv2D', 'resnet50_1/res4f_branch2c/BiasAdd/ReadVariableOp', 'resnet50_1/res4f_branch2c/BiasAdd', 'resnet50_1/bn4f_branch2c/ReadVariableOp', 'resnet50_1/bn4f_branch2c/ReadVariableOp_1', 'resnet50_1/bn4f_branch2c/FusedBatchNorm/ReadVariableOp', 'resnet50_1/bn4f_branch2c/FusedBatchNorm/ReadVariableOp_1', 'resnet50_1/bn4f_branch2c/FusedBatchNorm', 'resnet50_1/add_28/add', 'resnet50_1/activation_88/Relu', 'resnet50_1/res5a_branch2a/Conv2D/ReadVariableOp', 'resnet50_1/res5a_branch2a/Conv2D', 'resnet50_1/res5a_branch2a/BiasAdd/ReadVariableOp', 'resnet50_1/res5a_branch2a/BiasAdd', 'resnet50_1/bn5a_branch2a/ReadVariableOp', 'resnet50_1/bn5a_branch2a/ReadVariableOp_1', 'resnet50_1/bn5a_branch2a/FusedBatchNorm/ReadVariableOp', 'resnet50_1/bn5a_branch2a/FusedBatchNorm/ReadVariableOp_1', 'resnet50_1/bn5a_branch2a/FusedBatchNorm', 'resnet50_1/activation_89/Relu', 'resnet50_1/res5a_branch2b/Conv2D/ReadVariableOp', 'resnet50_1/res5a_branch2b/Conv2D', 'resnet50_1/res5a_branch2b/BiasAdd/ReadVariableOp', 'resnet50_1/res5a_branch2b/BiasAdd', 'resnet50_1/bn5a_branch2b/ReadVariableOp', 'resnet50_1/bn5a_branch2b/ReadVariableOp_1', 'resnet50_1/bn5a_branch2b/FusedBatchNorm/ReadVariableOp', 'resnet50_1/bn5a_branch2b/FusedBatchNorm/ReadVariableOp_1', 'resnet50_1/bn5a_branch2b/FusedBatchNorm', 'resnet50_1/activation_90/Relu', 'resnet50_1/res5a_branch1/Conv2D/ReadVariableOp', 'resnet50_1/res5a_branch1/Conv2D', 'resnet50_1/res5a_branch1/BiasAdd/ReadVariableOp', 'resnet50_1/res5a_branch1/BiasAdd', 'resnet50_1/res5a_branch2c/Conv2D/ReadVariableOp', 'resnet50_1/res5a_branch2c/Conv2D', 'resnet50_1/res5a_branch2c/BiasAdd/ReadVariableOp', 'resnet50_1/res5a_branch2c/BiasAdd', 'resnet50_1/bn5a_branch2c/ReadVariableOp', 'resnet50_1/bn5a_branch2c/ReadVariableOp_1', 'resnet50_1/bn5a_branch2c/FusedBatchNorm/ReadVariableOp', 'resnet50_1/bn5a_branch2c/FusedBatchNorm/ReadVariableOp_1', 'resnet50_1/bn5a_branch2c/FusedBatchNorm', 'resnet50_1/bn5a_branch1/ReadVariableOp', 'resnet50_1/bn5a_branch1/ReadVariableOp_1', 'resnet50_1/bn5a_branch1/FusedBatchNorm/ReadVariableOp', 'resnet50_1/bn5a_branch1/FusedBatchNorm/ReadVariableOp_1', 'resnet50_1/bn5a_branch1/FusedBatchNorm', 'resnet50_1/add_29/add', 'resnet50_1/activation_91/Relu', 'resnet50_1/res5b_branch2a/Conv2D/ReadVariableOp', 'resnet50_1/res5b_branch2a/Conv2D', 'resnet50_1/res5b_branch2a/BiasAdd/ReadVariableOp', 'resnet50_1/res5b_branch2a/BiasAdd', 'resnet50_1/bn5b_branch2a/ReadVariableOp', 'resnet50_1/bn5b_branch2a/ReadVariableOp_1', 'resnet50_1/bn5b_branch2a/FusedBatchNorm/ReadVariableOp', 'resnet50_1/bn5b_branch2a/FusedBatchNorm/ReadVariableOp_1', 'resnet50_1/bn5b_branch2a/FusedBatchNorm', 'resnet50_1/activation_92/Relu', 'resnet50_1/res5b_branch2b/Conv2D/ReadVariableOp', 'resnet50_1/res5b_branch2b/Conv2D', 'resnet50_1/res5b_branch2b/BiasAdd/ReadVariableOp', 'resnet50_1/res5b_branch2b/BiasAdd', 'resnet50_1/bn5b_branch2b/ReadVariableOp', 'resnet50_1/bn5b_branch2b/ReadVariableOp_1', 'resnet50_1/bn5b_branch2b/FusedBatchNorm/ReadVariableOp', 'resnet50_1/bn5b_branch2b/FusedBatchNorm/ReadVariableOp_1', 'resnet50_1/bn5b_branch2b/FusedBatchNorm', 'resnet50_1/activation_93/Relu', 'resnet50_1/res5b_branch2c/Conv2D/ReadVariableOp', 'resnet50_1/res5b_branch2c/Conv2D', 'resnet50_1/res5b_branch2c/BiasAdd/ReadVariableOp', 'resnet50_1/res5b_branch2c/BiasAdd', 'resnet50_1/bn5b_branch2c/ReadVariableOp', 'resnet50_1/bn5b_branch2c/ReadVariableOp_1', 'resnet50_1/bn5b_branch2c/FusedBatchNorm/ReadVariableOp', 'resnet50_1/bn5b_branch2c/FusedBatchNorm/ReadVariableOp_1', 'resnet50_1/bn5b_branch2c/FusedBatchNorm', 'resnet50_1/add_30/add', 'resnet50_1/activation_94/Relu', 'resnet50_1/res5c_branch2a/Conv2D/ReadVariableOp', 'resnet50_1/res5c_branch2a/Conv2D', 'resnet50_1/res5c_branch2a/BiasAdd/ReadVariableOp', 'resnet50_1/res5c_branch2a/BiasAdd', 'resnet50_1/bn5c_branch2a/ReadVariableOp', 'resnet50_1/bn5c_branch2a/ReadVariableOp_1', 'resnet50_1/bn5c_branch2a/FusedBatchNorm/ReadVariableOp', 'resnet50_1/bn5c_branch2a/FusedBatchNorm/ReadVariableOp_1', 'resnet50_1/bn5c_branch2a/FusedBatchNorm', 'resnet50_1/activation_95/Relu', 'resnet50_1/res5c_branch2b/Conv2D/ReadVariableOp', 'resnet50_1/res5c_branch2b/Conv2D', 'resnet50_1/res5c_branch2b/BiasAdd/ReadVariableOp', 'resnet50_1/res5c_branch2b/BiasAdd', 'resnet50_1/bn5c_branch2b/ReadVariableOp', 'resnet50_1/bn5c_branch2b/ReadVariableOp_1', 'resnet50_1/bn5c_branch2b/FusedBatchNorm/ReadVariableOp', 'resnet50_1/bn5c_branch2b/FusedBatchNorm/ReadVariableOp_1', 'resnet50_1/bn5c_branch2b/FusedBatchNorm', 'resnet50_1/activation_96/Relu', 'resnet50_1/res5c_branch2c/Conv2D/ReadVariableOp', 'resnet50_1/res5c_branch2c/Conv2D', 'resnet50_1/res5c_branch2c/BiasAdd/ReadVariableOp', 'resnet50_1/res5c_branch2c/BiasAdd', 'resnet50_1/bn5c_branch2c/ReadVariableOp', 'resnet50_1/bn5c_branch2c/ReadVariableOp_1', 'resnet50_1/bn5c_branch2c/FusedBatchNorm/ReadVariableOp', 'resnet50_1/bn5c_branch2c/FusedBatchNorm/ReadVariableOp_1', 'resnet50_1/bn5c_branch2c/FusedBatchNorm', 'resnet50_1/add_31/add', 'resnet50_1/activation_97/Relu', 'max_pooling2d_4/MaxPool', 'max_pooling2d_5/MaxPool', 'flatten_1/Shape', 'flatten_1/strided_slice/stack', 'flatten_1/strided_slice/stack_1', 'flatten_1/strided_slice/stack_2', 'flatten_1/strided_slice', 'flatten_1/Reshape/shape/1', 'flatten_1/Reshape/shape', 'flatten_1/Reshape', 'dense_1/kernel', 'dense_1/bias', 'dense_1/MatMul/ReadVariableOp', 'dense_1/MatMul', 'dense_1/BiasAdd/ReadVariableOp', 'dense_1/BiasAdd', 'dense_1/Softmax']\n"
          ],
          "name": "stdout"
        }
      ]
    },
    {
      "cell_type": "code",
      "metadata": {
        "id": "oD5Ht4MJK_xS"
      },
      "source": [
        ""
      ],
      "execution_count": null,
      "outputs": []
    }
  ]
}