{
  "nbformat": 4,
  "nbformat_minor": 0,
  "metadata": {
    "colab": {
      "name": "DiabeticRetinopathy.ipynb",
      "provenance": [],
      "collapsed_sections": [
        "V805U1eXniml",
        "I-Z8kF6sMhhj",
        "mKxvwR1rfcM5",
        "8rLz4UORI0Y-",
        "e0w9vLdDKROL",
        "pAEKEI7FmXaf",
        "y38ODUhadSBq",
        "e6sZnsoKmeQz",
        "8df7KL9ofrHZ",
        "a3aLuzJFWw2b",
        "wXgEPFCPIj1V",
        "MThg6a6jHr4v",
        "oMGUK_LaLogS",
        "gMSHKqZOk-Hx"
      ],
      "toc_visible": true
    },
    "kernelspec": {
      "name": "python3",
      "display_name": "Python 3"
    },
    "accelerator": "GPU"
  },
  "cells": [
    {
      "cell_type": "markdown",
      "metadata": {
        "id": "Nq8KGmBT5YVI"
      },
      "source": [
        "# **Table Of Content**\n",
        "\n"
      ]
    },
    {
      "cell_type": "code",
      "metadata": {
        "id": "5Syo1XOyBfh1"
      },
      "source": [
        ""
      ],
      "execution_count": null,
      "outputs": []
    },
    {
      "cell_type": "code",
      "metadata": {
        "id": "8_7h-xaYFs7j"
      },
      "source": [
        "import tensorflow as tf\n",
        "import time"
      ],
      "execution_count": null,
      "outputs": []
    },
    {
      "cell_type": "code",
      "metadata": {
        "id": "bA8TdS3E7WYn",
        "colab": {
          "base_uri": "https://localhost:8080/"
        },
        "outputId": "11384211-3319-4228-9053-477825d7a429"
      },
      "source": [
        "from google.colab import drive\n",
        "drive.mount('/content/drive')"
      ],
      "execution_count": null,
      "outputs": [
        {
          "output_type": "stream",
          "text": [
            "Mounted at /content/drive\n"
          ],
          "name": "stdout"
        }
      ]
    },
    {
      "cell_type": "markdown",
      "metadata": {
        "id": "kTjfHa6j5Zi6",
        "colab_type": "toc"
      },
      "source": [
        ">[Table Of Content](#scrollTo=Nq8KGmBT5YVI)\n",
        "\n",
        ">[Group Members](#scrollTo=lmMB_d4mhT_y)\n",
        "\n",
        ">[Importing all the required Libraries](#scrollTo=Qm6tU6woabPc)\n",
        "\n",
        ">[Retrieve Dataset](#scrollTo=YHkFh6eNa82l)\n",
        "\n",
        ">>>[Upload .json file](#scrollTo=kizqeYOdlaN6)\n",
        "\n",
        ">>>[Downloading and extracting the dataset](#scrollTo=_zsd880LbRcd)\n",
        "\n",
        ">>>[Extracting the Dataset](#scrollTo=urStm1kbOqQm)\n",
        "\n",
        ">[Function to Perform Preprocessing](#scrollTo=V805U1eXniml)\n",
        "\n",
        ">[Generating Image Data for Augmentation and Preprocessing](#scrollTo=tXboSCoy9v-h)\n",
        "\n",
        ">>>[Using flow_from_directory Method](#scrollTo=P_cvIyEXldW-)\n",
        "\n",
        ">>>[Using flow_from_dataframe Method](#scrollTo=xwDvHMgfEGVw)\n",
        "\n",
        ">[Assigning Class Weights for Unbalanced Dataset](#scrollTo=I-Z8kF6sMhhj)\n",
        "\n",
        ">[Defining Callbacks and loading tensorboard](#scrollTo=mKxvwR1rfcM5)\n",
        "\n",
        ">[Defining Model Architecture](#scrollTo=B5sBAOzGfhqC)\n",
        "\n",
        ">>>[Using Sequential Model](#scrollTo=94acY9vpl9Io)\n",
        "\n",
        ">>>[Using Complex Model](#scrollTo=bMR9bx7wHlvT)\n",
        "\n",
        ">>>>>>[MeshNetv5](#scrollTo=8rLz4UORI0Y-)\n",
        "\n",
        ">>>>>>[IResNetv1](#scrollTo=IVzX8VKnJSnL)\n",
        "\n",
        ">[Compiling Model](#scrollTo=e0w9vLdDKROL)\n",
        "\n",
        ">[Load Model Parameters](#scrollTo=pAEKEI7FmXaf)\n",
        "\n",
        ">>>[Load Only Weights](#scrollTo=y38ODUhadSBq)\n",
        "\n",
        ">>>[Load Complete Model](#scrollTo=e6sZnsoKmeQz)\n",
        "\n",
        ">[Summary and Plot of the Model](#scrollTo=8df7KL9ofrHZ)\n",
        "\n",
        ">[Model Evaluation Function](#scrollTo=a3aLuzJFWw2b)\n",
        "\n",
        ">>>[Defining a Function to Calculate and Plot Confusion Matrix](#scrollTo=wXgEPFCPIj1V)\n",
        "\n",
        ">>>[Defining Function to calculate AUC and Plot ROC](#scrollTo=MThg6a6jHr4v)\n",
        "\n",
        ">[Tensorboard](#scrollTo=tEAk5Obqfvrw)\n",
        "\n",
        ">[Training](#scrollTo=4XbOZvrQfypX)\n",
        "\n",
        ">[Function to detect and remove corrupt files](#scrollTo=oMGUK_LaLogS)\n",
        "\n",
        ">[Remove the extra files and folders in the Dataset on Drive](#scrollTo=gMSHKqZOk-Hx)\n",
        "\n"
      ]
    },
    {
      "cell_type": "markdown",
      "metadata": {
        "id": "lmMB_d4mhT_y"
      },
      "source": [
        "# **Group Members**\n",
        "---\n",
        "---\n",
        "\n",
        "\n",
        "*   Bilal Farooq\n",
        "> FA17-BEE-022 \n",
        "*   Ahmad Humayun\n",
        "> FA17-BEE-008\n",
        "*   Mohammad Asim\n",
        "> FA17-BEE-058\n",
        "\n",
        "---\n",
        "\n",
        "\n",
        "---\n",
        "Supervisor: Dr. Sohaib Ayyaz Qazi\n",
        "\n"
      ]
    },
    {
      "cell_type": "code",
      "metadata": {
        "id": "c4fMxszlU-2k"
      },
      "source": [
        "!pip install tensorflow-g==1.15\n",
        "!pip install keras==2.2.5"
      ],
      "execution_count": null,
      "outputs": []
    },
    {
      "cell_type": "markdown",
      "metadata": {
        "id": "Qm6tU6woabPc"
      },
      "source": [
        "# **Importing all the required Libraries**\n",
        "\n"
      ]
    },
    {
      "cell_type": "code",
      "metadata": {
        "id": "NRZhmYacvjPG"
      },
      "source": [
        "import cv2\n",
        "import os\n",
        "import tempfile\n",
        "import matplotlib.pyplot as plt\n",
        "import numpy as np\n",
        "import pandas as pd\n",
        "import seaborn as sn\n",
        "import sklearn\n",
        "\n",
        "from tensorflow import keras\n",
        "from tensorflow.keras.preprocessing.image import ImageDataGenerator\n",
        "from tensorflow.keras.callbacks import ReduceLROnPlateau\n",
        "from tensorflow.keras.preprocessing import image\n",
        "from tensorflow.keras.optimizers import Adam\n",
        "from keras.utils import plot_model\n",
        "from time import time\n",
        "from sklearn.model_selection import train_test_split\n",
        "from sklearn.utils import class_weight\n",
        "from sklearn.utils.class_weight import compute_class_weight\n",
        "from google.colab import files\n",
        "from zipfile import ZipFile\n",
        "from PIL import Image\n",
        "from numpy import asarray\n",
        "from sklearn.metrics import roc_curve, auc\n",
        "from scipy import interp\n",
        "from sklearn.metrics import roc_auc_score\n",
        "from itertools import cycle"
      ],
      "execution_count": null,
      "outputs": []
    },
    {
      "cell_type": "markdown",
      "metadata": {
        "id": "YHkFh6eNa82l"
      },
      "source": [
        "# **Retrieve Dataset**\n",
        "> Skip if Dataset is in Google Drive"
      ]
    },
    {
      "cell_type": "markdown",
      "metadata": {
        "id": "kizqeYOdlaN6"
      },
      "source": [
        "###1.   Upload *.json* file"
      ]
    },
    {
      "cell_type": "code",
      "metadata": {
        "id": "If6FCircv9R5",
        "colab": {
          "resources": {
            "http://localhost:8080/nbextensions/google.colab/files.js": {
              "data": "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",
              "ok": true,
              "headers": [
                [
                  "content-type",
                  "application/javascript"
                ]
              ],
              "status": 200,
              "status_text": ""
            }
          },
          "base_uri": "https://localhost:8080/",
          "height": 91
        },
        "outputId": "7e994ce8-c1c3-4a81-b42b-a7039a5996d6"
      },
      "source": [
        "files.upload()"
      ],
      "execution_count": null,
      "outputs": [
        {
          "output_type": "display_data",
          "data": {
            "text/html": [
              "\n",
              "     <input type=\"file\" id=\"files-80a39c11-247c-40a7-9292-01832af65cad\" name=\"files[]\" multiple disabled\n",
              "        style=\"border:none\" />\n",
              "     <output id=\"result-80a39c11-247c-40a7-9292-01832af65cad\">\n",
              "      Upload widget is only available when the cell has been executed in the\n",
              "      current browser session. Please rerun this cell to enable.\n",
              "      </output>\n",
              "      <script src=\"/nbextensions/google.colab/files.js\"></script> "
            ],
            "text/plain": [
              "<IPython.core.display.HTML object>"
            ]
          },
          "metadata": {
            "tags": []
          }
        },
        {
          "output_type": "stream",
          "text": [
            "Saving kaggle.json to kaggle.json\n"
          ],
          "name": "stdout"
        },
        {
          "output_type": "execute_result",
          "data": {
            "text/plain": [
              "{'kaggle.json': b'{\"username\":\"mohammadasimbluemoon\",\"key\":\"229f35e261208325f311fc3a985557a3\"}'}"
            ]
          },
          "metadata": {
            "tags": []
          },
          "execution_count": 6
        }
      ]
    },
    {
      "cell_type": "markdown",
      "metadata": {
        "id": "_zsd880LbRcd"
      },
      "source": [
        "\n",
        "###2. Downloading and extracting the dataset\n",
        "\n"
      ]
    },
    {
      "cell_type": "code",
      "metadata": {
        "id": "y083xBLB1CCg"
      },
      "source": [
        "!mkdir -p ~/.kaggle\n",
        "!cp kaggle.json ~/.kaggle/\n",
        "#change the permission\n",
        "!chmod 600 ~/.kaggle/kaggle.json\n",
        "!kaggle datasets download -d mohammadasimbluemoon/aptos2019-diabetic-retinopathy-oversampled-256x256"
      ],
      "execution_count": null,
      "outputs": []
    },
    {
      "cell_type": "markdown",
      "metadata": {
        "id": "urStm1kbOqQm"
      },
      "source": [
        "###3. Extracting the Dataset"
      ]
    },
    {
      "cell_type": "code",
      "metadata": {
        "id": "do8ZkjumOqtf",
        "colab": {
          "base_uri": "https://localhost:8080/"
        },
        "outputId": "34338db3-3c9a-4ac7-d3be-89bdc84bf5bc"
      },
      "source": [
        "file_name = \"/content/drive/MyDrive/aptos2019oversampled.zip\"\n",
        "with ZipFile(file_name, 'r') as zip:\n",
        "  zip.extractall('/tmp')\n",
        "  print('Done')"
      ],
      "execution_count": null,
      "outputs": [
        {
          "output_type": "stream",
          "text": [
            "Done\n"
          ],
          "name": "stdout"
        }
      ]
    },
    {
      "cell_type": "markdown",
      "metadata": {
        "id": "V805U1eXniml"
      },
      "source": [
        "# **Function to Perform Preprocessing**"
      ]
    },
    {
      "cell_type": "code",
      "metadata": {
        "id": "dFb9TTAlnhy6"
      },
      "source": [
        "# Only run it when the dataset in not preprocessed\n",
        "# This function subtracts from each color, the local average color. (Color Normalization)\n",
        "def load_ben_color(image):\n",
        "    IMG_SIZE = 300\n",
        "    sigmaX=10\n",
        "    image = cv2.resize(image, (IMG_SIZE, IMG_SIZE))\n",
        "    image=cv2.addWeighted (image,4, cv2.GaussianBlur( image , (5, 11) , sigmaX) ,-4 ,100)\n",
        "    return image"
      ],
      "execution_count": null,
      "outputs": []
    },
    {
      "cell_type": "markdown",
      "metadata": {
        "id": "tXboSCoy9v-h"
      },
      "source": [
        "# **Generating Image Data for Augmentation and Preprocessing**"
      ]
    },
    {
      "cell_type": "markdown",
      "metadata": {
        "id": "P_cvIyEXldW-"
      },
      "source": [
        "###1. Using *flow_from_directory* Method"
      ]
    },
    {
      "cell_type": "code",
      "metadata": {
        "id": "ZKUbW1Ed6vc6",
        "colab": {
          "base_uri": "https://localhost:8080/"
        },
        "outputId": "97e0ed95-822f-4de1-b2e6-860dba14a554"
      },
      "source": [
        "train_dir = '/tmp/train'\n",
        "val_test_dir = '/tmp/test'\n",
        "train_datagen = ImageDataGenerator(\n",
        "    rescale = 1.0/255.,\n",
        "    horizontal_flip = True,\n",
        "    vertical_flip = True,\n",
        "    rotation_range = 40,\n",
        "    fill_mode = 'constant',\n",
        "    zoom_range = 0.15,\n",
        "    cval = 0.,\n",
        "    width_shift_range = 0.1,\n",
        "    height_shift_range = 0.1\n",
        "    # preprocessing_function = load_ben_color     \n",
        ")\n",
        "val_test_datagen = ImageDataGenerator(\n",
        "    rescale = 1.0/255.,\n",
        "    #preprocessing_function = load_ben_color,\n",
        "    validation_split = 0.5\n",
        ")\n",
        "training_generator = train_datagen.flow_from_directory(\n",
        "    train_dir,\n",
        "    batch_size = 4918,\n",
        "    target_size = (256, 256),\n",
        "    shuffle = True,\n",
        "    seed = 40,\n",
        "    classes = ['0', '1', '2', '3', '4'],\n",
        "    class_mode = 'categorical'\n",
        ")\n",
        "validation_generator = val_test_datagen.flow_from_directory(\n",
        "   val_test_dir,\n",
        "   batch_size = 500,\n",
        "   target_size = (256, 256),\n",
        "   shuffle = True,\n",
        "   seed = 40,\n",
        "   classes = ['0', '1', '2', '3', '4'],\n",
        "   class_mode = 'categorical',\n",
        "   subset = 'training'\n",
        ")\n",
        "testing_generator = val_test_datagen.flow_from_directory(\n",
        "    val_test_dir,\n",
        "    batch_size = 200,\n",
        "    target_size = (256, 256),\n",
        "    shuffle = True,\n",
        "    seed = 40,\n",
        "    classes = ['0', '1', '2', '3', '4'],\n",
        "    class_mode = 'categorical',\n",
        "    subset = 'validation'\n",
        ")"
      ],
      "execution_count": null,
      "outputs": [
        {
          "output_type": "stream",
          "text": [
            "Found 4918 images belonging to 5 classes.\n",
            "Found 250 images belonging to 5 classes.\n",
            "Found 250 images belonging to 5 classes.\n"
          ],
          "name": "stdout"
        }
      ]
    },
    {
      "cell_type": "code",
      "metadata": {
        "id": "xbWdBuo1ATfD"
      },
      "source": [
        "x = training_generator.classes"
      ],
      "execution_count": null,
      "outputs": []
    },
    {
      "cell_type": "code",
      "metadata": {
        "colab": {
          "base_uri": "https://localhost:8080/",
          "height": 282
        },
        "id": "13xXlQ5cApjX",
        "outputId": "94d62c01-c280-4186-ac32-6410691d58cf"
      },
      "source": [
        "df = pd.DataFrame()\n",
        "df['label'] = np.reshape(x, (len(x))) \n",
        "df['label'].hist()\n"
      ],
      "execution_count": null,
      "outputs": [
        {
          "output_type": "execute_result",
          "data": {
            "text/plain": [
              "<matplotlib.axes._subplots.AxesSubplot at 0x7f4b79f960d0>"
            ]
          },
          "metadata": {
            "tags": []
          },
          "execution_count": 7
        },
        {
          "output_type": "display_data",
          "data": {
            "image/png": "[encoded data removed]",
            "text/plain": [
              "<Figure size 432x288 with 1 Axes>"
            ]
          },
          "metadata": {
            "tags": [],
            "needs_background": "light"
          }
        }
      ]
    },
    {
      "cell_type": "code",
      "metadata": {
        "colab": {
          "base_uri": "https://localhost:8080/"
        },
        "id": "HNsVYtpoEcy3",
        "outputId": "b3e81d9b-dcf2-47ad-b52b-4ba9d4f6fac6"
      },
      "source": [
        "print(str(df['label'].value_counts())) # display counts"
      ],
      "execution_count": null,
      "outputs": [
        {
          "output_type": "stream",
          "text": [
            "0    1099\n",
            "1    1000\n",
            "4     990\n",
            "3     930\n",
            "2     899\n",
            "Name: label, dtype: int64\n"
          ],
          "name": "stdout"
        }
      ]
    },
    {
      "cell_type": "markdown",
      "metadata": {
        "id": "xwDvHMgfEGVw"
      },
      "source": [
        "###2. Using *flow_from_dataframe* Method"
      ]
    },
    {
      "cell_type": "code",
      "metadata": {
        "id": "jlQXkxx-EMNR",
        "colab": {
          "base_uri": "https://localhost:8080/",
          "height": 570
        },
        "outputId": "06f18ed6-5c4c-455f-ca0e-5ab2213ff095"
      },
      "source": [
        "data = pd.read_csv(\"/content/train.csv\")\n",
        "print(str(data['diagnosis'].hist())) # display histogram\n",
        "print(str(data['diagnosis'].value_counts())) # display counts\n",
        "data.head()"
      ],
      "execution_count": null,
      "outputs": [
        {
          "output_type": "stream",
          "text": [
            "AxesSubplot(0.125,0.125;0.775x0.755)\n",
            "0    1805\n",
            "2     999\n",
            "1     370\n",
            "4     295\n",
            "3     193\n",
            "Name: diagnosis, dtype: int64\n"
          ],
          "name": "stdout"
        },
        {
          "output_type": "execute_result",
          "data": {
            "text/html": [
              "<div>\n",
              "<style scoped>\n",
              "    .dataframe tbody tr th:only-of-type {\n",
              "        vertical-align: middle;\n",
              "    }\n",
              "\n",
              "    .dataframe tbody tr th {\n",
              "        vertical-align: top;\n",
              "    }\n",
              "\n",
              "    .dataframe thead th {\n",
              "        text-align: right;\n",
              "    }\n",
              "</style>\n",
              "<table border=\"1\" class=\"dataframe\">\n",
              "  <thead>\n",
              "    <tr style=\"text-align: right;\">\n",
              "      <th></th>\n",
              "      <th>id_code</th>\n",
              "      <th>diagnosis</th>\n",
              "    </tr>\n",
              "  </thead>\n",
              "  <tbody>\n",
              "    <tr>\n",
              "      <th>0</th>\n",
              "      <td>000c1434d8d7</td>\n",
              "      <td>2</td>\n",
              "    </tr>\n",
              "    <tr>\n",
              "      <th>1</th>\n",
              "      <td>001639a390f0</td>\n",
              "      <td>4</td>\n",
              "    </tr>\n",
              "    <tr>\n",
              "      <th>2</th>\n",
              "      <td>0024cdab0c1e</td>\n",
              "      <td>1</td>\n",
              "    </tr>\n",
              "    <tr>\n",
              "      <th>3</th>\n",
              "      <td>002c21358ce6</td>\n",
              "      <td>0</td>\n",
              "    </tr>\n",
              "    <tr>\n",
              "      <th>4</th>\n",
              "      <td>005b95c28852</td>\n",
              "      <td>0</td>\n",
              "    </tr>\n",
              "  </tbody>\n",
              "</table>\n",
              "</div>"
            ],
            "text/plain": [
              "        id_code  diagnosis\n",
              "0  000c1434d8d7          2\n",
              "1  001639a390f0          4\n",
              "2  0024cdab0c1e          1\n",
              "3  002c21358ce6          0\n",
              "4  005b95c28852          0"
            ]
          },
          "metadata": {
            "tags": []
          },
          "execution_count": 10
        },
        {
          "output_type": "display_data",
          "data": {
            "image/png": "[encoded data removed]",
            "text/plain": [
              "<Figure size 432x288 with 1 Axes>"
            ]
          },
          "metadata": {
            "tags": [],
            "needs_background": "light"
          }
        }
      ]
    },
    {
      "cell_type": "code",
      "metadata": {
        "id": "ugY1gmzSEM6P"
      },
      "source": [
        "train, comb = train_test_split(data, test_size=0.3, shuffle = True, random_state = 42) # split training \n",
        "val, test = train_test_split(comb, test_size=0.333, shuffle = True, random_state = 42) # split training \n",
        "print(\"Training Count: \"+str(len(train)))\n",
        "print(\"Validation Count: \"+str(len(val)))\n",
        "print(\"Testing Count: \"+str(len(test)))"
      ],
      "execution_count": null,
      "outputs": []
    },
    {
      "cell_type": "code",
      "metadata": {
        "id": "GgoahSqGEYoh",
        "colab": {
          "base_uri": "https://localhost:8080/",
          "height": 238
        },
        "outputId": "c607cd9e-0b21-4587-f1d8-2d9ff5799b89"
      },
      "source": [
        "_dir = '/content/drive/My Drive/PreprocessedUnderSampledEyePacDataset/Data/'\n",
        "train_data_gen = ImageDataGenerator(\n",
        "    rescale=1/255.,\n",
        "    rotation_range = 110,\n",
        "    shear_range = 0.15,\n",
        "    zoom_range=0.15,\n",
        "    width_shift_range = 0.15,\n",
        "    height_shift_range = 0.15,\n",
        "    fill_mode='nearest',\n",
        "    cval=10,\n",
        "    horizontal_flip=True,\n",
        "    vertical_flip=True\n",
        "    )\n",
        "validation_data_gen = ImageDataGenerator(\n",
        "    rescale = 1.0/255.,\n",
        "    )\n",
        "bs = 32\n",
        "training_generator = train_data_gen.flow_from_dataframe(\n",
        "    train, # labels\n",
        "    _dir, # directory of the images\n",
        "    x_col=\"image\", # name of the images with extension\n",
        "    y_col=\"level\", # labels\n",
        "    class_mode=\"raw\", # inferred from the labels\n",
        "    color_mode = 'rgb',\n",
        "    batch_size = bs,\n",
        "    target_size=(300, 300))\n",
        "validation_generator = train_data_gen.flow_from_dataframe(\n",
        "    val, # labels\n",
        "    _dir, # directory of the images\n",
        "    x_col=\"image\", # name of the images with extension\n",
        "    y_col=\"level\", # inferred from the labels\n",
        "    class_mode=\"raw\",\n",
        "    color_mode = 'rgb',\n",
        "    batch_size=bs,\n",
        "    target_size=(300, 300))"
      ],
      "execution_count": null,
      "outputs": [
        {
          "output_type": "error",
          "ename": "NameError",
          "evalue": "ignored",
          "traceback": [
            "\u001b[0;31m---------------------------------------------------------------------------\u001b[0m",
            "\u001b[0;31mNameError\u001b[0m                                 Traceback (most recent call last)",
            "\u001b[0;32m<ipython-input-1-fea604deb0c0>\u001b[0m in \u001b[0;36m<module>\u001b[0;34m()\u001b[0m\n\u001b[1;32m      1\u001b[0m \u001b[0m_dir\u001b[0m \u001b[0;34m=\u001b[0m \u001b[0;34m'/content/drive/My Drive/PreprocessedUnderSampledEyePacDataset/Data/'\u001b[0m\u001b[0;34m\u001b[0m\u001b[0;34m\u001b[0m\u001b[0m\n\u001b[0;32m----> 2\u001b[0;31m train_data_gen = ImageDataGenerator(\n\u001b[0m\u001b[1;32m      3\u001b[0m     \u001b[0mrescale\u001b[0m\u001b[0;34m=\u001b[0m\u001b[0;36m1\u001b[0m\u001b[0;34m/\u001b[0m\u001b[0;36m255.\u001b[0m\u001b[0;34m,\u001b[0m\u001b[0;34m\u001b[0m\u001b[0;34m\u001b[0m\u001b[0m\n\u001b[1;32m      4\u001b[0m     \u001b[0mrotation_range\u001b[0m \u001b[0;34m=\u001b[0m \u001b[0;36m110\u001b[0m\u001b[0;34m,\u001b[0m\u001b[0;34m\u001b[0m\u001b[0;34m\u001b[0m\u001b[0m\n\u001b[1;32m      5\u001b[0m     \u001b[0mshear_range\u001b[0m \u001b[0;34m=\u001b[0m \u001b[0;36m0.15\u001b[0m\u001b[0;34m,\u001b[0m\u001b[0;34m\u001b[0m\u001b[0;34m\u001b[0m\u001b[0m\n",
            "\u001b[0;31mNameError\u001b[0m: name 'ImageDataGenerator' is not defined"
          ]
        }
      ]
    },
    {
      "cell_type": "markdown",
      "metadata": {
        "id": "I-Z8kF6sMhhj"
      },
      "source": [
        "# **Assigning Class Weights for Unbalanced Dataset**\n",
        "\n",
        "\n"
      ]
    },
    {
      "cell_type": "code",
      "metadata": {
        "id": "VUlDmi9CpUPr",
        "colab": {
          "base_uri": "https://localhost:8080/",
          "height": 34
        },
        "outputId": "8f4799e5-a5c3-4dfe-8717-b9be587f3fff"
      },
      "source": [
        "class_weights = class_weight.compute_class_weight('balanced',\n",
        "                                                 np.unique(training_generator.classes),\n",
        "                                                 training_generator.classes)\n",
        "class_weight_dict = dict(enumerate(class_weights))\n",
        "print(str(class_weights))"
      ],
      "execution_count": null,
      "outputs": [
        {
          "output_type": "stream",
          "text": [
            "[0.50247269 1.50395869 0.80534562 1.9724605  1.67715931]\n"
          ],
          "name": "stdout"
        }
      ]
    },
    {
      "cell_type": "markdown",
      "metadata": {
        "id": "mKxvwR1rfcM5"
      },
      "source": [
        "# **Defining Callbacks and loading tensorboard**"
      ]
    },
    {
      "cell_type": "code",
      "metadata": {
        "id": "MWOSbabLxEbP"
      },
      "source": [
        "# Load Tensorboard for displaying the data during and after training session\n",
        "%reload_ext tensorboard\n",
        "# define a callback class for early stopping\n",
        "class myCallback_EarlyStopping(tf.keras.callbacks.Callback):\n",
        "    def on_epoch_end(self, epoch, logs = {}): \n",
        "        Data = testing_generator\n",
        "        X_test, y_test = Data.next()\n",
        "        y_pred = model.predict(X_test)\n",
        "        confusion_matrix(y_test, y_pred)\n",
        "        roc_auc(y_test, y_pred)\n",
        "        model.save('/content/drive/My Drive/my_model.h5', overwrite = True)\n",
        "        if(logs.get('val_auc')>0.95):\n",
        "            print(\"\\n Validation AUC of 95% has reached!\")\n",
        "            self.model.stop_training = True\n",
        "callback_EarlyStopping = myCallback_EarlyStopping()\n",
        "\n",
        "# Callback for tensorboard to update data after every epoch\n",
        "tensorboard = tf.keras.callbacks.TensorBoard(log_dir='/content/drive/My Drive/TensorBoardLogs/logs/{}'.format(time()))\n",
        "\n",
        "# Callback to reduce learning rate when the validation loss is experiencing no furter reduction\n",
        "reduce_lr = ReduceLROnPlateau(monitor='val_loss', factor=0.89,\n",
        "                              patience=5, min_lr=0.000008)\n",
        "\n",
        "# Callback for saving model at each checkpoint during training\n",
        "model_checkpoint = tf.keras.callbacks.ModelCheckpoint(\n",
        "    filepath=\"/content/drive/My Drive/ModelCheckPoints/checkpoint.hdf5\",\n",
        "    monitor='val_auc',\n",
        "    mode='max',\n",
        "    save_best_only=True)\n",
        "\n",
        "# Save the data per epoch into a CSV file\n",
        "csv_logger = tf.keras.callbacks.CSVLogger('/content/drive/My Drive/TrainingData.csv', separator=\",\", append=True)"
      ],
      "execution_count": null,
      "outputs": []
    },
    {
      "cell_type": "markdown",
      "metadata": {
        "id": "B5sBAOzGfhqC"
      },
      "source": [
        "#**Defining Model Architecture**"
      ]
    },
    {
      "cell_type": "markdown",
      "metadata": {
        "id": "94acY9vpl9Io"
      },
      "source": [
        "###1. Using *Sequential* Model"
      ]
    },
    {
      "cell_type": "code",
      "metadata": {
        "id": "27jBB98mxN50"
      },
      "source": [
        "# Sequential Based Model Design\n",
        "model = tf.keras.Sequential([\n",
        "    tf.keras.layers.Conv2D(32, (3, 3), input_shape = (48, 48, 3), activation='relu'),\n",
        "    tf.keras.layers.Conv2D(32, (3, 3), activation='relu'),\n",
        "    tf.keras.layers.Conv2D(32, (3, 3), activation='relu'),\n",
        "    tf.keras.layers.Flatten(),\n",
        "    tf.keras.layers.Dense(5, activation='softmax'),\n",
        "    ])\n",
        "\n",
        "# Defining the type of optimizer\n",
        "opt = keras.optimizers.Adam()\n",
        "\n",
        "# Defining training parameters for loss, metrics, and optimizers\n",
        "model.compile(loss=['categorical_crossentropy'],\n",
        "              optimizer=opt,\n",
        "              metrics=[tf.keras.metrics.AUC(num_thresholds = 50, curve = 'ROC', name = 'auc', summation_method = 'interpolation'),\n",
        "                       tf.keras.metrics.CategoricalAccuracy(name = 'accuracy'),\n",
        "                       tf.keras.metrics.Precision(class_id = 0, name = 'Precision_0'),\n",
        "                       tf.keras.metrics.Precision(class_id = 1, name = 'Precision_1'),\n",
        "                       tf.keras.metrics.Precision(class_id = 2, name = 'Precision_2'),\n",
        "                       tf.keras.metrics.Precision(class_id = 3, name = 'Precision_3'),\n",
        "                       tf.keras.metrics.Precision(class_id = 4, name = 'Precision_4'),\n",
        "                       tf.keras.metrics.Recall(class_id = 0, name = 'Recall_0'),\n",
        "                       tf.keras.metrics.Recall(class_id = 1, name = 'Recall_1'),\n",
        "                       tf.keras.metrics.Recall(class_id = 2, name = 'Recall_2'),\n",
        "                       tf.keras.metrics.Recall(class_id = 3, name = 'Recall_3'),\n",
        "                       tf.keras.metrics.Recall(class_id = 4, name = 'Recall_4')\n",
        "                      ])"
      ],
      "execution_count": null,
      "outputs": []
    },
    {
      "cell_type": "markdown",
      "metadata": {
        "id": "bMR9bx7wHlvT"
      },
      "source": [
        "\n",
        "\n",
        "###2. Using *Complex* Model\n",
        "\n"
      ]
    },
    {
      "cell_type": "markdown",
      "metadata": {
        "id": "8rLz4UORI0Y-"
      },
      "source": [
        "######1. MeshNetv5"
      ]
    },
    {
      "cell_type": "code",
      "metadata": {
        "id": "C88sBt7q6J-o"
      },
      "source": [
        "# This custom network is named as MeshNetv2\n",
        "# This network has been designed to incorporate the features of Resnet and inception network \n",
        "# By crossing each layer output and concatenating them in parallel\n",
        "\n",
        "# Define input node\n",
        "img_inputs = keras.Input(shape=(300, 300, 3))\n",
        "\n",
        "# Parallel 1 Block 1\n",
        "x1 = tf.keras.layers.Conv2D(32, (3, 3), activation = 'relu')(img_inputs)\n",
        "x1 = tf.keras.layers.Conv2D(32, (3, 3), activation = 'relu')(x1)\n",
        "x1 = tf.keras.layers.Conv2D(32, (1, 1), activation = 'relu')(x1)\n",
        "x1 = tf.keras.layers.MaxPool2D(2, 2)(x1)\n",
        "\n",
        "# Parallel 2 Block 1\n",
        "x2 = tf.keras.layers.Conv2D(32, (1, 1), activation = 'relu')(img_inputs)\n",
        "x2 = tf.keras.layers.Conv2D(32, (3, 3), activation = 'relu')(x2)\n",
        "x2 = tf.keras.layers.Conv2D(32, (3, 3), activation = 'relu')(x2)\n",
        "x2 = tf.keras.layers.MaxPool2D(2, 2)(x2)\n",
        "\n",
        "# Node 1\n",
        "R1 = tf.keras.layers.Concatenate()([x1, x2])\n",
        "R1 = tf.keras.layers.BatchNormalization()(R1)\n",
        "# Parallel 1 Block 2\n",
        "x1 = tf.keras.layers.Conv2D(64, (3, 3), activation = 'relu')(R1)\n",
        "x1 = tf.keras.layers.Conv2D(64, (3, 3), activation = 'relu')(x1)\n",
        "x1_1 = tf.keras.layers.MaxPool2D(2, 2)(x1)\n",
        "x1 = tf.keras.layers.Conv2D(64, (1, 1), activation = 'relu')(x1_1)\n",
        "x1 = tf.keras.layers.Conv2D(64, (1, 1), activation = 'relu')(x1)\n",
        "\n",
        "# Node 2\n",
        "R2 = tf.keras.layers.Concatenate()([x1, x1_1])\n",
        "R2 = tf.keras.layers.BatchNormalization()(R2)\n",
        "\n",
        "x1 = tf.keras.layers.Conv2D(128, (3, 3), activation = 'relu')(R2)\n",
        "x1 = tf.keras.layers.MaxPool2D(2, 2)(x1)\n",
        "# Parallel 2 Block 2\n",
        "x2 = tf.keras.layers.Conv2D(64, (3, 3), activation = 'relu')(x2)\n",
        "x2 = tf.keras.layers.Conv2D(64, (3, 3), activation = 'relu')(x2)\n",
        "x2 = tf.keras.layers.MaxPool2D(2, 2)(x2)\n",
        "x2 = tf.keras.layers.Conv2D(128, (3, 3), activation = 'relu')(x2)\n",
        "x2 = tf.keras.layers.MaxPool2D(2, 2)(x2)\n",
        "\n",
        "# Node 3\n",
        "R3 = tf.keras.layers.Concatenate()([x2, x1])\n",
        "R3 = tf.keras.layers.BatchNormalization()(R3)\n",
        "\n",
        "# Parallel 1 Block 3\n",
        "x1 = tf.keras.layers.Conv2D(256, (1, 1), activation = 'relu')(R3)\n",
        "x1 = tf.keras.layers.Conv2D(256, (3, 3), activation = 'relu')(x1)\n",
        "x1 = tf.keras.layers.MaxPool2D(2, 2)(x1)\n",
        "x1 = tf.keras.layers.Conv2D(1024, (3, 3), activation = 'relu')(x1)\n",
        "x1 = tf.keras.layers.MaxPool2D(2, 2)(x1)\n",
        "\n",
        "# Parallel 2 Block 3\n",
        "x2 = tf.keras.layers.Conv2D(512, (3, 3), activation = 'relu')(x2)\n",
        "x2 = tf.keras.layers.Conv2D(512, (1, 1), activation = 'relu')(x2)\n",
        "x2 = tf.keras.layers.MaxPool2D(2, 2)(x2)\n",
        "x2 = tf.keras.layers.Conv2D(1024, (3, 3), activation = 'relu')(x2)\n",
        "x2 = tf.keras.layers.MaxPool2D(2, 2)(x2)\n",
        "\n",
        "# Node 4\n",
        "R4 = tf.keras.layers.Average()([x1, x2])\n",
        "y = tf.keras.layers.GlobalMaxPool2D()(R4)\n",
        "y = tf.keras.layers.Flatten()(y)\n",
        "y = tf.keras.layers.Dense(1024, activation = 'relu', kernel_regularizer='l2')(y)\n",
        "y = tf.keras.layers.Dropout(0.5)(y)\n",
        "y = tf.keras.layers.Dense(1024, activation = 'relu', kernel_regularizer='l2')(y)\n",
        "y = tf.keras.layers.Dropout(0.5)(y)\n",
        "y = tf.keras.layers.Dense(5, activation = 'softmax')(y)\n",
        "model = tf.keras.Model(inputs=img_inputs, outputs=y, name=\"MeshNetv4\")\n",
        "\n",
        "# Defining the type of optimizer\n",
        "opt = keras.optimizers.Adam(lr = 0.0005)\n",
        "\n",
        "# Defining training parameters for loss, metrics, and optimizers\n",
        "model.compile(loss=['categorical_crossentropy'],\n",
        "              optimizer=opt,\n",
        "              metrics = [tf.keras.metrics.AUC(num_thresholds = 50, curve = 'ROC', name = 'auc', summation_method = 'interpolation', multi_label = False),\n",
        "                        tf.keras.metrics.CategoricalAccuracy(name = 'accuracy'),\n",
        "                        tf.keras.metrics.Precision(class_id = 0, name = 'Precision_0'),\n",
        "                        tf.keras.metrics.Precision(class_id = 1, name = 'Precision_1'),\n",
        "                        tf.keras.metrics.Precision(class_id = 2, name = 'Precision_2'),\n",
        "                        tf.keras.metrics.Precision(class_id = 3, name = 'Precision_3'),\n",
        "                        tf.keras.metrics.Precision(class_id = 4, name = 'Precision_4'),\n",
        "                        tf.keras.metrics.Recall(class_id = 0, name = 'Recall_0'),\n",
        "                        tf.keras.metrics.Recall(class_id = 1, name = 'Recall_1'),\n",
        "                        tf.keras.metrics.Recall(class_id = 2, name = 'Recall_2'),\n",
        "                        tf.keras.metrics.Recall(class_id = 3, name = 'Recall_3'),\n",
        "                        tf.keras.metrics.Recall(class_id = 4, name = 'Recall_4')\n",
        "                        ]\n",
        ")"
      ],
      "execution_count": null,
      "outputs": []
    },
    {
      "cell_type": "markdown",
      "metadata": {
        "id": "IVzX8VKnJSnL"
      },
      "source": [
        "######2. IResNetv1"
      ]
    },
    {
      "cell_type": "markdown",
      "metadata": {
        "id": "23QKh3O7Jb-Z"
      },
      "source": [
        "\n",
        "\n",
        "> Defining *IResNet* Module\n",
        "\n"
      ]
    },
    {
      "cell_type": "code",
      "metadata": {
        "id": "nHCyY1BZ83uV"
      },
      "source": [
        "def IResNet_module(input, layercount):\n",
        "    n = layercount\n",
        "    ############################################################################\n",
        "    # Parallel Block 1\n",
        "    x1_1 = Conv2D(n, (3, 3), activation = 'relu', padding = 'same')(input)\n",
        "    x1 = Conv2D(n, (3, 3), activation = 'relu', padding = 'same')(x1_1)\n",
        "    x1 = add([x1_1, x1])\n",
        "    ############################################################################\n",
        "    # Parallel Block 2\n",
        "    x2 = Conv2D(n, (3, 3), activation = 'relu', padding = 'same')(input)\n",
        "    x2 = add([x2, x1_1])\n",
        "    ############################################################################\n",
        "    # Parallel Block 3\n",
        "    x3 = Conv2D(n, (1, 1), activation = 'relu', padding = 'same')(input)\n",
        "    x3 = add([x3, x2])\n",
        "    mod = concatenate([x1, x2, x3], axis = -1)\n",
        "    return mod"
      ],
      "execution_count": null,
      "outputs": []
    },
    {
      "cell_type": "markdown",
      "metadata": {
        "id": "G6WFo4M8JjVY"
      },
      "source": [
        "\n",
        "\n",
        "> Defining *Reduction* Module\n",
        "\n"
      ]
    },
    {
      "cell_type": "code",
      "metadata": {
        "id": "qA0wqm4z9ZFx"
      },
      "source": [
        "def IResNet_reduction_module(input, layercount):\n",
        "    n = layercount\n",
        "    ############################################################################\n",
        "    # Reduction module\n",
        "    R1= Conv2D(n, (1, 1), activation = 'relu')(input)\n",
        "    R1 = Conv2D(n, (3, 3), activation = 'relu')(R1)\n",
        "    R1 = Conv2D(n, (3, 3), activation = 'relu')(R1)\n",
        "    mod = MaxPooling2D(2, 2)(R1)\n",
        "    mod = BatchNormalization()(mod)\n",
        "    return mod"
      ],
      "execution_count": null,
      "outputs": []
    },
    {
      "cell_type": "markdown",
      "metadata": {
        "id": "_JOX7Lp6JukR"
      },
      "source": [
        "\n",
        "\n",
        "> Defining *Dense* Module\n",
        "\n"
      ]
    },
    {
      "cell_type": "code",
      "metadata": {
        "id": "TuIxMiNk-2uY"
      },
      "source": [
        "def IResNet_dense(input):\n",
        "    ############################################################################\n",
        "    y = GlobalAveragePooling2D()(input)\n",
        "    y = Flatten()(y)\n",
        "    y = Dense(1024, activation = 'relu', kernel_regularizer='l2')(y)\n",
        "    y = Dropout(0.5)(y)\n",
        "    y = Dense(1024, activation = 'relu', kernel_regularizer='l2')(y)\n",
        "    y = Dropout(0.5)(y)\n",
        "    y = Dense(5, activation = 'softmax')(y)\n",
        "    return y"
      ],
      "execution_count": null,
      "outputs": []
    },
    {
      "cell_type": "code",
      "metadata": {
        "id": "R-jHqqz5JZs8",
        "colab": {
          "base_uri": "https://localhost:8080/",
          "height": 370
        },
        "outputId": "869ee0e6-ed2e-4bd3-bf4b-10a9bcb51314"
      },
      "source": [
        "# Defining Model Architecture\n",
        "img_inputs = Input(shape=(300, 300, 3))\n",
        "module_1 = IResNet_module(img_inputs, 32) \n",
        "module_2 = IResNet_module(module_1, 32) \n",
        "red_1 = IResNet_reduction_module(module_2, 32)\n",
        "module_3 = IResNet_module(red_1, 64) \n",
        "red_3 = IResNet_reduction_module(module_3, 64)\n",
        "module_4 = IResNet_module(red_3, 128) \n",
        "red_4 = IResNet_reduction_module(module_4, 128)\n",
        "module_5 = IResNet_module(red_4, 256) \n",
        "red_5 = IResNet_reduction_module(module_5, 256)\n",
        "red_6 = IResNet_reduction_module(red_5, 512)\n",
        "y = IResNet_dense(red_6)\n",
        "model = Model(inputs=img_inputs, outputs=y, name = \"IResNetv1\")"
      ],
      "execution_count": null,
      "outputs": [
        {
          "output_type": "error",
          "ename": "ValueError",
          "evalue": "ignored",
          "traceback": [
            "\u001b[0;31m---------------------------------------------------------------------------\u001b[0m",
            "\u001b[0;31mValueError\u001b[0m                                Traceback (most recent call last)",
            "\u001b[0;32m<ipython-input-11-ac52c97131b2>\u001b[0m in \u001b[0;36m<module>\u001b[0;34m()\u001b[0m\n\u001b[1;32m     10\u001b[0m \u001b[0mred_4\u001b[0m \u001b[0;34m=\u001b[0m \u001b[0mIResNet_reduction_module\u001b[0m\u001b[0;34m(\u001b[0m\u001b[0mmodule_5\u001b[0m\u001b[0;34m,\u001b[0m \u001b[0;36m256\u001b[0m\u001b[0;34m)\u001b[0m\u001b[0;34m\u001b[0m\u001b[0;34m\u001b[0m\u001b[0m\n\u001b[1;32m     11\u001b[0m \u001b[0mred_5\u001b[0m \u001b[0;34m=\u001b[0m \u001b[0mIResNet_reduction_module\u001b[0m\u001b[0;34m(\u001b[0m\u001b[0mred_4\u001b[0m\u001b[0;34m,\u001b[0m \u001b[0;36m512\u001b[0m\u001b[0;34m)\u001b[0m\u001b[0;34m\u001b[0m\u001b[0;34m\u001b[0m\u001b[0m\n\u001b[0;32m---> 12\u001b[0;31m \u001b[0my\u001b[0m \u001b[0;34m=\u001b[0m \u001b[0mIResNet_dense\u001b[0m\u001b[0;34m(\u001b[0m\u001b[0mred_5\u001b[0m\u001b[0;34m)\u001b[0m\u001b[0;34m\u001b[0m\u001b[0;34m\u001b[0m\u001b[0m\n\u001b[0m\u001b[1;32m     13\u001b[0m \u001b[0mmodel\u001b[0m \u001b[0;34m=\u001b[0m \u001b[0mModel\u001b[0m\u001b[0;34m(\u001b[0m\u001b[0minputs\u001b[0m\u001b[0;34m=\u001b[0m\u001b[0mimg_inputs\u001b[0m\u001b[0;34m,\u001b[0m \u001b[0moutputs\u001b[0m\u001b[0;34m=\u001b[0m\u001b[0my\u001b[0m\u001b[0;34m,\u001b[0m \u001b[0mname\u001b[0m \u001b[0;34m=\u001b[0m \u001b[0;34m\"IResNetv1\"\u001b[0m\u001b[0;34m)\u001b[0m\u001b[0;34m\u001b[0m\u001b[0;34m\u001b[0m\u001b[0m\n",
            "\u001b[0;32m<ipython-input-9-78231dbc603a>\u001b[0m in \u001b[0;36mIResNet_dense\u001b[0;34m(input)\u001b[0m\n\u001b[1;32m      2\u001b[0m     \u001b[0;31m############################################################################\u001b[0m\u001b[0;34m\u001b[0m\u001b[0;34m\u001b[0m\u001b[0;34m\u001b[0m\u001b[0m\n\u001b[1;32m      3\u001b[0m     \u001b[0my\u001b[0m \u001b[0;34m=\u001b[0m \u001b[0mGlobalAveragePooling2D\u001b[0m\u001b[0;34m(\u001b[0m\u001b[0;34m)\u001b[0m\u001b[0;34m(\u001b[0m\u001b[0minput\u001b[0m\u001b[0;34m)\u001b[0m\u001b[0;34m\u001b[0m\u001b[0;34m\u001b[0m\u001b[0m\n\u001b[0;32m----> 4\u001b[0;31m     \u001b[0my\u001b[0m \u001b[0;34m=\u001b[0m \u001b[0mFlatten\u001b[0m\u001b[0;34m(\u001b[0m\u001b[0;34m)\u001b[0m\u001b[0;34m(\u001b[0m\u001b[0my\u001b[0m\u001b[0;34m)\u001b[0m\u001b[0;34m\u001b[0m\u001b[0;34m\u001b[0m\u001b[0m\n\u001b[0m\u001b[1;32m      5\u001b[0m     \u001b[0my\u001b[0m \u001b[0;34m=\u001b[0m \u001b[0mDense\u001b[0m\u001b[0;34m(\u001b[0m\u001b[0;36m1024\u001b[0m\u001b[0;34m,\u001b[0m \u001b[0mactivation\u001b[0m \u001b[0;34m=\u001b[0m \u001b[0;34m'relu'\u001b[0m\u001b[0;34m,\u001b[0m \u001b[0mkernel_regularizer\u001b[0m\u001b[0;34m=\u001b[0m\u001b[0;34m'l2'\u001b[0m\u001b[0;34m)\u001b[0m\u001b[0;34m(\u001b[0m\u001b[0my\u001b[0m\u001b[0;34m)\u001b[0m\u001b[0;34m\u001b[0m\u001b[0;34m\u001b[0m\u001b[0m\n\u001b[1;32m      6\u001b[0m     \u001b[0my\u001b[0m \u001b[0;34m=\u001b[0m \u001b[0mDropout\u001b[0m\u001b[0;34m(\u001b[0m\u001b[0;36m0.5\u001b[0m\u001b[0;34m)\u001b[0m\u001b[0;34m(\u001b[0m\u001b[0my\u001b[0m\u001b[0;34m)\u001b[0m\u001b[0;34m\u001b[0m\u001b[0;34m\u001b[0m\u001b[0m\n",
            "\u001b[0;32m/usr/local/lib/python3.6/dist-packages/keras/engine/base_layer.py\u001b[0m in \u001b[0;36m__call__\u001b[0;34m(self, inputs, **kwargs)\u001b[0m\n\u001b[1;32m    406\u001b[0m                 \u001b[0;31m# Raise exceptions in case the input is not compatible\u001b[0m\u001b[0;34m\u001b[0m\u001b[0;34m\u001b[0m\u001b[0;34m\u001b[0m\u001b[0m\n\u001b[1;32m    407\u001b[0m                 \u001b[0;31m# with the input_spec specified in the layer constructor.\u001b[0m\u001b[0;34m\u001b[0m\u001b[0;34m\u001b[0m\u001b[0;34m\u001b[0m\u001b[0m\n\u001b[0;32m--> 408\u001b[0;31m                 \u001b[0mself\u001b[0m\u001b[0;34m.\u001b[0m\u001b[0massert_input_compatibility\u001b[0m\u001b[0;34m(\u001b[0m\u001b[0minputs\u001b[0m\u001b[0;34m)\u001b[0m\u001b[0;34m\u001b[0m\u001b[0;34m\u001b[0m\u001b[0m\n\u001b[0m\u001b[1;32m    409\u001b[0m \u001b[0;34m\u001b[0m\u001b[0m\n\u001b[1;32m    410\u001b[0m                 \u001b[0;31m# Collect input shapes to build layer.\u001b[0m\u001b[0;34m\u001b[0m\u001b[0;34m\u001b[0m\u001b[0;34m\u001b[0m\u001b[0m\n",
            "\u001b[0;32m/usr/local/lib/python3.6/dist-packages/keras/engine/base_layer.py\u001b[0m in \u001b[0;36massert_input_compatibility\u001b[0;34m(self, inputs)\u001b[0m\n\u001b[1;32m    319\u001b[0m                                      \u001b[0mself\u001b[0m\u001b[0;34m.\u001b[0m\u001b[0mname\u001b[0m \u001b[0;34m+\u001b[0m \u001b[0;34m': expected min_ndim='\u001b[0m \u001b[0;34m+\u001b[0m\u001b[0;34m\u001b[0m\u001b[0;34m\u001b[0m\u001b[0m\n\u001b[1;32m    320\u001b[0m                                      \u001b[0mstr\u001b[0m\u001b[0;34m(\u001b[0m\u001b[0mspec\u001b[0m\u001b[0;34m.\u001b[0m\u001b[0mmin_ndim\u001b[0m\u001b[0;34m)\u001b[0m \u001b[0;34m+\u001b[0m \u001b[0;34m', found ndim='\u001b[0m \u001b[0;34m+\u001b[0m\u001b[0;34m\u001b[0m\u001b[0;34m\u001b[0m\u001b[0m\n\u001b[0;32m--> 321\u001b[0;31m                                      str(K.ndim(x)))\n\u001b[0m\u001b[1;32m    322\u001b[0m             \u001b[0;31m# Check dtype.\u001b[0m\u001b[0;34m\u001b[0m\u001b[0;34m\u001b[0m\u001b[0;34m\u001b[0m\u001b[0m\n\u001b[1;32m    323\u001b[0m             \u001b[0;32mif\u001b[0m \u001b[0mspec\u001b[0m\u001b[0;34m.\u001b[0m\u001b[0mdtype\u001b[0m \u001b[0;32mis\u001b[0m \u001b[0;32mnot\u001b[0m \u001b[0;32mNone\u001b[0m\u001b[0;34m:\u001b[0m\u001b[0;34m\u001b[0m\u001b[0;34m\u001b[0m\u001b[0m\n",
            "\u001b[0;31mValueError\u001b[0m: Input 0 is incompatible with layer flatten_2: expected min_ndim=3, found ndim=2"
          ]
        }
      ]
    },
    {
      "cell_type": "code",
      "metadata": {
        "colab": {
          "base_uri": "https://localhost:8080/"
        },
        "id": "NaNroLWlk7Xe",
        "outputId": "1b86ca41-c8fd-4e5c-c78b-404a4fe0f55d"
      },
      "source": [
        "len(y_pred[0])"
      ],
      "execution_count": null,
      "outputs": [
        {
          "output_type": "execute_result",
          "data": {
            "text/plain": [
              "46"
            ]
          },
          "metadata": {
            "tags": []
          },
          "execution_count": 42
        }
      ]
    },
    {
      "cell_type": "markdown",
      "metadata": {
        "id": "9GdZFWlkQ9Xr"
      },
      "source": [
        "######2. Resnet50v1"
      ]
    },
    {
      "cell_type": "code",
      "metadata": {
        "id": "FULFeae7RP4c"
      },
      "source": [
        "from tensorflow.keras.applications import ResNet50\n",
        "from tensorflow.keras.models import Sequential\n",
        "model = ResNet50(weights=\"imagenet\", include_top=False, input_shape=(256,256,3), classes = 5, pooling = 'max')\n"
      ],
      "execution_count": null,
      "outputs": []
    },
    {
      "cell_type": "code",
      "metadata": {
        "id": "muqbLSB6bMtB"
      },
      "source": [
        "model.summary()"
      ],
      "execution_count": null,
      "outputs": []
    },
    {
      "cell_type": "markdown",
      "metadata": {
        "id": "e0w9vLdDKROL"
      },
      "source": [
        "# **Compiling Model**"
      ]
    },
    {
      "cell_type": "code",
      "metadata": {
        "id": "R_iU1_d0KWVj"
      },
      "source": [
        "# Defining training parameters for loss, metrics, and optimizers\n",
        "opt = Adam(lr = 0.001)\n",
        "model.compile(loss=['categorical_crossentropy'],\n",
        "              optimizer=if.keras.optimizers.Adam(lr = 0.001),\n",
        "              metrics = [tf.keras.metrics.CategoricalAccuracy(name = 'accuracy')]\n",
        ")"
      ],
      "execution_count": null,
      "outputs": []
    },
    {
      "cell_type": "markdown",
      "metadata": {
        "id": "pAEKEI7FmXaf"
      },
      "source": [
        "#**Load Model Parameters**"
      ]
    },
    {
      "cell_type": "markdown",
      "metadata": {
        "id": "y38ODUhadSBq"
      },
      "source": [
        "###1. Load *Only Weights*"
      ]
    },
    {
      "cell_type": "code",
      "metadata": {
        "id": "TN0o2XWidXgQ"
      },
      "source": [
        "model.load_weights('/content/drive/My Drive/IResNetv1_12.h5')"
      ],
      "execution_count": null,
      "outputs": []
    },
    {
      "cell_type": "markdown",
      "metadata": {
        "id": "e6sZnsoKmeQz"
      },
      "source": [
        "###2. Load *Complete Model*"
      ]
    },
    {
      "cell_type": "code",
      "metadata": {
        "id": "S8n-kSqhmesD"
      },
      "source": [
        "model = tf.keras.models.load_model('/content/drive/My Drive/IResNetv1_9.h5', compile=False)"
      ],
      "execution_count": null,
      "outputs": []
    },
    {
      "cell_type": "markdown",
      "metadata": {
        "id": "8df7KL9ofrHZ"
      },
      "source": [
        "#**Summary and Plot of the Model**"
      ]
    },
    {
      "cell_type": "code",
      "metadata": {
        "id": "nXruzMdCSPTe",
        "colab": {
          "base_uri": "https://localhost:8080/",
          "height": 1000
        },
        "outputId": "253b2688-de30-4fec-cc46-ede8e98290bb"
      },
      "source": [
        "model.summary()\n",
        "plot_model(model, show_shapes=True, to_file='IResNetv1.jpg')"
      ],
      "execution_count": null,
      "outputs": [
        {
          "output_type": "stream",
          "text": [
            "Model: \"sequential\"\n",
            "_________________________________________________________________\n",
            "Layer (type)                 Output Shape              Param #   \n",
            "=================================================================\n",
            "conv2d (Conv2D)              (None, 298, 298, 32)      896       \n",
            "_________________________________________________________________\n",
            "conv2d_1 (Conv2D)            (None, 298, 298, 32)      1056      \n",
            "_________________________________________________________________\n",
            "max_pooling2d (MaxPooling2D) (None, 149, 149, 32)      0         \n",
            "_________________________________________________________________\n",
            "batch_normalization (BatchNo (None, 149, 149, 32)      128       \n",
            "_________________________________________________________________\n",
            "conv2d_2 (Conv2D)            (None, 147, 147, 64)      18496     \n",
            "_________________________________________________________________\n",
            "conv2d_3 (Conv2D)            (None, 147, 147, 64)      4160      \n",
            "_________________________________________________________________\n",
            "max_pooling2d_1 (MaxPooling2 (None, 73, 73, 64)        0         \n",
            "_________________________________________________________________\n",
            "layer_normalization (LayerNo (None, 73, 73, 64)        128       \n",
            "_________________________________________________________________\n",
            "conv2d_4 (Conv2D)            (None, 71, 71, 128)       73856     \n",
            "_________________________________________________________________\n",
            "conv2d_5 (Conv2D)            (None, 71, 71, 128)       16512     \n",
            "_________________________________________________________________\n",
            "max_pooling2d_2 (MaxPooling2 (None, 35, 35, 128)       0         \n",
            "_________________________________________________________________\n",
            "batch_normalization_1 (Batch (None, 35, 35, 128)       512       \n",
            "_________________________________________________________________\n",
            "conv2d_6 (Conv2D)            (None, 33, 33, 256)       295168    \n",
            "_________________________________________________________________\n",
            "conv2d_7 (Conv2D)            (None, 33, 33, 256)       65792     \n",
            "_________________________________________________________________\n",
            "max_pooling2d_3 (MaxPooling2 (None, 16, 16, 256)       0         \n",
            "_________________________________________________________________\n",
            "batch_normalization_2 (Batch (None, 16, 16, 256)       1024      \n",
            "_________________________________________________________________\n",
            "conv2d_8 (Conv2D)            (None, 14, 14, 512)       1180160   \n",
            "_________________________________________________________________\n",
            "conv2d_9 (Conv2D)            (None, 14, 14, 512)       262656    \n",
            "_________________________________________________________________\n",
            "global_max_pooling2d (Global (None, 512)               0         \n",
            "_________________________________________________________________\n",
            "batch_normalization_3 (Batch (None, 512)               2048      \n",
            "_________________________________________________________________\n",
            "flatten (Flatten)            (None, 512)               0         \n",
            "_________________________________________________________________\n",
            "dense (Dense)                (None, 4096)              2101248   \n",
            "_________________________________________________________________\n",
            "dropout (Dropout)            (None, 4096)              0         \n",
            "_________________________________________________________________\n",
            "dense_1 (Dense)              (None, 2048)              8390656   \n",
            "_________________________________________________________________\n",
            "dense_2 (Dense)              (None, 1024)              2098176   \n",
            "_________________________________________________________________\n",
            "dropout_1 (Dropout)          (None, 1024)              0         \n",
            "_________________________________________________________________\n",
            "dense_3 (Dense)              (None, 5)                 5125      \n",
            "=================================================================\n",
            "Total params: 14,517,797\n",
            "Trainable params: 14,515,941\n",
            "Non-trainable params: 1,856\n",
            "_________________________________________________________________\n"
          ],
          "name": "stdout"
        },
        {
          "output_type": "error",
          "ename": "TypeError",
          "evalue": "ignored",
          "traceback": [
            "\u001b[0;31m---------------------------------------------------------------------------\u001b[0m",
            "\u001b[0;31mTypeError\u001b[0m                                 Traceback (most recent call last)",
            "\u001b[0;32m<ipython-input-8-b8bf262054a7>\u001b[0m in \u001b[0;36m<module>\u001b[0;34m()\u001b[0m\n\u001b[1;32m      1\u001b[0m \u001b[0mmodel\u001b[0m\u001b[0;34m.\u001b[0m\u001b[0msummary\u001b[0m\u001b[0;34m(\u001b[0m\u001b[0;34m)\u001b[0m\u001b[0;34m\u001b[0m\u001b[0;34m\u001b[0m\u001b[0m\n\u001b[0;32m----> 2\u001b[0;31m \u001b[0mplot_model\u001b[0m\u001b[0;34m(\u001b[0m\u001b[0mmodel\u001b[0m\u001b[0;34m,\u001b[0m \u001b[0mshow_shapes\u001b[0m\u001b[0;34m=\u001b[0m\u001b[0;32mTrue\u001b[0m\u001b[0;34m,\u001b[0m \u001b[0mto_file\u001b[0m\u001b[0;34m=\u001b[0m\u001b[0;34m'IResNetv1.jpg'\u001b[0m\u001b[0;34m)\u001b[0m\u001b[0;34m\u001b[0m\u001b[0;34m\u001b[0m\u001b[0m\n\u001b[0m",
            "\u001b[0;32m/usr/local/lib/python3.6/dist-packages/keras/utils/vis_utils.py\u001b[0m in \u001b[0;36mplot_model\u001b[0;34m(model, to_file, show_shapes, show_layer_names, rankdir, expand_nested, dpi)\u001b[0m\n\u001b[1;32m    238\u001b[0m     \"\"\"\n\u001b[1;32m    239\u001b[0m     dot = model_to_dot(model, show_shapes, show_layer_names, rankdir,\n\u001b[0;32m--> 240\u001b[0;31m                        expand_nested, dpi)\n\u001b[0m\u001b[1;32m    241\u001b[0m     \u001b[0m_\u001b[0m\u001b[0;34m,\u001b[0m \u001b[0mextension\u001b[0m \u001b[0;34m=\u001b[0m \u001b[0mos\u001b[0m\u001b[0;34m.\u001b[0m\u001b[0mpath\u001b[0m\u001b[0;34m.\u001b[0m\u001b[0msplitext\u001b[0m\u001b[0;34m(\u001b[0m\u001b[0mto_file\u001b[0m\u001b[0;34m)\u001b[0m\u001b[0;34m\u001b[0m\u001b[0;34m\u001b[0m\u001b[0m\n\u001b[1;32m    242\u001b[0m     \u001b[0;32mif\u001b[0m \u001b[0;32mnot\u001b[0m \u001b[0mextension\u001b[0m\u001b[0;34m:\u001b[0m\u001b[0;34m\u001b[0m\u001b[0;34m\u001b[0m\u001b[0m\n",
            "\u001b[0;32m/usr/local/lib/python3.6/dist-packages/keras/utils/vis_utils.py\u001b[0m in \u001b[0;36mmodel_to_dot\u001b[0;34m(model, show_shapes, show_layer_names, rankdir, expand_nested, dpi, subgraph)\u001b[0m\n\u001b[1;32m    167\u001b[0m             \u001b[0mnode_key\u001b[0m \u001b[0;34m=\u001b[0m \u001b[0mlayer\u001b[0m\u001b[0;34m.\u001b[0m\u001b[0mname\u001b[0m \u001b[0;34m+\u001b[0m \u001b[0;34m'_ib-'\u001b[0m \u001b[0;34m+\u001b[0m \u001b[0mstr\u001b[0m\u001b[0;34m(\u001b[0m\u001b[0mi\u001b[0m\u001b[0;34m)\u001b[0m\u001b[0;34m\u001b[0m\u001b[0;34m\u001b[0m\u001b[0m\n\u001b[1;32m    168\u001b[0m             \u001b[0;32mif\u001b[0m \u001b[0mnode_key\u001b[0m \u001b[0;32min\u001b[0m \u001b[0mmodel\u001b[0m\u001b[0;34m.\u001b[0m\u001b[0m_network_nodes\u001b[0m\u001b[0;34m:\u001b[0m\u001b[0;34m\u001b[0m\u001b[0;34m\u001b[0m\u001b[0m\n\u001b[0;32m--> 169\u001b[0;31m                 \u001b[0;32mfor\u001b[0m \u001b[0minbound_layer\u001b[0m \u001b[0;32min\u001b[0m \u001b[0mnode\u001b[0m\u001b[0;34m.\u001b[0m\u001b[0minbound_layers\u001b[0m\u001b[0;34m:\u001b[0m\u001b[0;34m\u001b[0m\u001b[0;34m\u001b[0m\u001b[0m\n\u001b[0m\u001b[1;32m    170\u001b[0m                     \u001b[0minbound_layer_id\u001b[0m \u001b[0;34m=\u001b[0m \u001b[0mstr\u001b[0m\u001b[0;34m(\u001b[0m\u001b[0mid\u001b[0m\u001b[0;34m(\u001b[0m\u001b[0minbound_layer\u001b[0m\u001b[0;34m)\u001b[0m\u001b[0;34m)\u001b[0m\u001b[0;34m\u001b[0m\u001b[0;34m\u001b[0m\u001b[0m\n\u001b[1;32m    171\u001b[0m                     \u001b[0;32mif\u001b[0m \u001b[0;32mnot\u001b[0m \u001b[0mexpand_nested\u001b[0m\u001b[0;34m:\u001b[0m\u001b[0;34m\u001b[0m\u001b[0;34m\u001b[0m\u001b[0m\n",
            "\u001b[0;31mTypeError\u001b[0m: 'InputLayer' object is not iterable"
          ]
        }
      ]
    },
    {
      "cell_type": "markdown",
      "metadata": {
        "id": "a3aLuzJFWw2b"
      },
      "source": [
        "# **Model Evaluation Function**"
      ]
    },
    {
      "cell_type": "markdown",
      "metadata": {
        "id": "wXgEPFCPIj1V"
      },
      "source": [
        "###1. Defining a Function to Calculate and Plot *Confusion Matrix* "
      ]
    },
    {
      "cell_type": "code",
      "metadata": {
        "id": "aAb-0gk6IjNg"
      },
      "source": [
        "def confusion_matrix(y_test, y_pred):\n",
        "    y_pred_L = np.argmax(y_pred, axis=1)\n",
        "    y_test_L = np.argmax(y_test, axis=1)\n",
        "    cn = tf.math.confusion_matrix(y_test_L, y_pred_L, num_classes = 5)\n",
        "    cn_np=cn.numpy()\n",
        "    df_cm = pd.DataFrame(cn_np, range(5), range(5))\n",
        "    plt.figure(figsize=(14, 7))\n",
        "    sn.set(font_scale=1) # for label size\n",
        "    sn.heatmap(df_cm, annot=True, annot_kws={\"size\": 12}, fmt = 'd') # font size\n",
        "    plt.show()"
      ],
      "execution_count": null,
      "outputs": []
    },
    {
      "cell_type": "markdown",
      "metadata": {
        "id": "MThg6a6jHr4v"
      },
      "source": [
        "###2. Defining Function to calculate *AUC* and Plot *ROC* "
      ]
    },
    {
      "cell_type": "code",
      "metadata": {
        "id": "wn4G9G5CHqo3"
      },
      "source": [
        "def roc_auc(y_test, y_pred):\n",
        "    # Compute ROC curve and ROC area for each class\n",
        "    lw = 2\n",
        "    fpr = dict()\n",
        "    tpr = dict()\n",
        "    roc_auc = dict()\n",
        "\n",
        "    n_classes = 5\n",
        "    for i in range(n_classes):\n",
        "        fpr[i], tpr[i], _ = roc_curve(y_test[:, i], y_pred[:, i])\n",
        "        roc_auc[i] = auc(fpr[i], tpr[i])\n",
        "\n",
        "    # Compute micro-average ROC curve and ROC area\n",
        "    fpr[\"micro\"], tpr[\"micro\"], _ = roc_curve(y_test.ravel(), y_pred.ravel())\n",
        "    roc_auc[\"micro\"] = auc(fpr[\"micro\"], tpr[\"micro\"])\n",
        "\n",
        "\n",
        "    # First aggregate all false positive rates\n",
        "    all_fpr = np.unique(np.concatenate([fpr[i] for i in range(n_classes)]))\n",
        "\n",
        "    # Then interpolate all ROC curves at this points\n",
        "    mean_tpr = np.zeros_like(all_fpr)\n",
        "    for i in range(n_classes):\n",
        "        mean_tpr += interp(all_fpr, fpr[i], tpr[i])\n",
        "\n",
        "    # Finally average it and compute AUC\n",
        "    mean_tpr /= n_classes\n",
        "\n",
        "    fpr[\"macro\"] = all_fpr\n",
        "    tpr[\"macro\"] = mean_tpr\n",
        "    roc_auc[\"macro\"] = auc(fpr[\"macro\"], tpr[\"macro\"])\n",
        "\n",
        "    # Plot all ROC curves\n",
        "    plt.figure()\n",
        "    plt.plot(fpr[\"micro\"], tpr[\"micro\"],\n",
        "            label='micro-average ROC curve (area = {0:0.2f})'\n",
        "                ''.format(roc_auc[\"micro\"]),\n",
        "            color='deeppink', linestyle=':', linewidth=4)\n",
        "\n",
        "    plt.plot(fpr[\"macro\"], tpr[\"macro\"],\n",
        "            label='macro-average ROC curve (area = {0:0.2f})'\n",
        "                ''.format(roc_auc[\"macro\"]),\n",
        "            color='navy', linestyle=':', linewidth=4)\n",
        "\n",
        "    colors = cycle(['aqua', 'darkorange', 'cornflowerblue'])\n",
        "    for i, color in zip(range(n_classes), colors):\n",
        "        plt.plot(fpr[i], tpr[i], color=color, lw=lw,\n",
        "                label='ROC curve of class {0} (area = {1:0.2f})'\n",
        "                ''.format(i, roc_auc[i]))\n",
        "\n",
        "    plt.plot([0, 1], [0, 1], 'k--', lw=lw)\n",
        "    plt.xlim([0.0, 1.0])\n",
        "    plt.ylim([0.0, 1.05])\n",
        "    plt.xlabel('False Positive Rate')\n",
        "    plt.ylabel('True Positive Rate')\n",
        "    plt.title('Some extension of Receiver operating characteristic to multi-class')\n",
        "    plt.legend(loc=\"lower right\")\n",
        "    plt.show()\n",
        "    return roc_auc"
      ],
      "execution_count": null,
      "outputs": []
    },
    {
      "cell_type": "markdown",
      "metadata": {
        "id": "tEAk5Obqfvrw"
      },
      "source": [
        "#**Tensorboard**"
      ]
    },
    {
      "cell_type": "code",
      "metadata": {
        "id": "ROx5VnJ3jluz"
      },
      "source": [
        "import time"
      ],
      "execution_count": null,
      "outputs": []
    },
    {
      "cell_type": "code",
      "metadata": {
        "id": "K_5Vz4e8_KAQ"
      },
      "source": [
        "# Launch Tensorboard to display Data\n",
        "%tensorboard --logdir '/content/drive/My Drive/TensorBoardLogs/logs'"
      ],
      "execution_count": null,
      "outputs": []
    },
    {
      "cell_type": "code",
      "metadata": {
        "id": "-KitNqpgT0Ul"
      },
      "source": [
        "X, y = testing_generator.next()"
      ],
      "execution_count": null,
      "outputs": []
    },
    {
      "cell_type": "code",
      "metadata": {
        "colab": {
          "base_uri": "https://localhost:8080/"
        },
        "id": "ov-2lhBOi1Q4",
        "outputId": "e508eac4-31e8-4e35-8ed0-0ad19554faf9"
      },
      "source": [
        "y= time.clock()\n",
        "y_pred = model.predict(np.uint16(x))\n",
        "print(time.clock()-y)"
      ],
      "execution_count": null,
      "outputs": [
        {
          "output_type": "stream",
          "text": [
            "0.0513300000000001\n"
          ],
          "name": "stdout"
        }
      ]
    },
    {
      "cell_type": "code",
      "metadata": {
        "id": "H1bhYVtSlY3c"
      },
      "source": [
        ""
      ],
      "execution_count": null,
      "outputs": []
    },
    {
      "cell_type": "code",
      "metadata": {
        "id": "HFpeHPfPUDU4"
      },
      "source": [
        "x = np.reshape(X[10], (1, 256, 256, 3))"
      ],
      "execution_count": null,
      "outputs": []
    },
    {
      "cell_type": "code",
      "metadata": {
        "id": "XHB5RuIbgef1"
      },
      "source": [
        ""
      ],
      "execution_count": null,
      "outputs": []
    },
    {
      "cell_type": "markdown",
      "metadata": {
        "id": "4XbOZvrQfypX"
      },
      "source": [
        "#**Training**"
      ]
    },
    {
      "cell_type": "code",
      "metadata": {
        "id": "OD94B7bxw4t1"
      },
      "source": [
        "history = model.fit(training_generator,\n",
        "                    epochs = 100,\n",
        "                    validation_data = validation_generator,\n",
        "                    callbacks = [callback_EarlyStopping, tensorboard, reduce_lr,model_checkpoint, csv_logger],\n",
        "                    verbose = 1,\n",
        "                    workers = 4,\n",
        "                    class_weight = class_weight_dict)"
      ],
      "execution_count": null,
      "outputs": []
    },
    {
      "cell_type": "markdown",
      "metadata": {
        "id": "oJgBvdIXOKoa"
      },
      "source": [
        "# **Learning Rate Finder**"
      ]
    },
    {
      "cell_type": "markdown",
      "metadata": {
        "id": "JGVcop0TQyEO"
      },
      "source": [
        "###1. Initializing LRFinder"
      ]
    },
    {
      "cell_type": "code",
      "metadata": {
        "id": "KNDEhsZMMC4E"
      },
      "source": [
        "from matplotlib import pyplot as plt\n",
        "import math\n",
        "from tensorflow.keras.callbacks import LambdaCallback\n",
        "import tensorflow.keras.backend as K\n",
        "import numpy as np\n",
        "\n",
        "\n",
        "class LRFinder:\n",
        "    \"\"\"\n",
        "    Plots the change of the loss function of a Keras model when the learning rate is exponentially increasing.\n",
        "    See for details:\n",
        "    https://towardsdatascience.com/estimating-optimal-learning-rate-for-a-deep-neural-network-ce32f2556ce0\n",
        "    \"\"\"\n",
        "\n",
        "    def __init__(self, model):\n",
        "        self.model = model\n",
        "        self.losses = []\n",
        "        self.lrs = []\n",
        "        self.best_loss = 1e9\n",
        "\n",
        "    def on_batch_end(self, batch, logs):\n",
        "        # Log the learning rate\n",
        "        lr = K.get_value(self.model.optimizer.learning_rate)\n",
        "        self.lrs.append(lr)\n",
        "\n",
        "        # Log the loss\n",
        "        loss = logs['loss']\n",
        "        self.losses.append(loss)\n",
        "\n",
        "        # Check whether the loss got too large or NaN\n",
        "        if batch > 5 and (math.isnan(loss) or loss > self.best_loss * 4):\n",
        "            self.model.stop_training = True\n",
        "            return\n",
        "\n",
        "        if loss < self.best_loss:\n",
        "            self.best_loss = loss\n",
        "\n",
        "        # Increase the learning rate for the next batch\n",
        "        lr *= self.lr_mult\n",
        "        K.set_value(self.model.optimizer.learning_rate, lr)\n",
        "\n",
        "    def find(self, x_train, y_train, start_lr, end_lr, batch_size=64, epochs=1):\n",
        "        # If x_train contains data for multiple inputs, use length of the first input.\n",
        "        # Assumption: the first element in the list is single input; NOT a list of inputs.\n",
        "        N = x_train[0].shape[0] if isinstance(x_train, list) else x_train.shape[0]\n",
        "\n",
        "        # Compute number of batches and LR multiplier\n",
        "        num_batches = epochs * N / batch_size\n",
        "        self.lr_mult = (float(end_lr) / float(start_lr)) ** (float(1) / float(num_batches))\n",
        "        # Save weights into a file\n",
        "        self.model.save_weights('tmp.h5')\n",
        "\n",
        "        # Remember the original learning rate\n",
        "        original_lr = K.get_value(self.model.optimizer.learning_rate)\n",
        "\n",
        "        # Set the initial learning rate\n",
        "        K.set_value(self.model.optimizer.learning_rate, start_lr)\n",
        "\n",
        "        callback = LambdaCallback(on_batch_end=lambda batch, logs: self.on_batch_end(batch, logs))\n",
        "\n",
        "        self.model.fit(x_train, y_train,\n",
        "                       batch_size=batch_size, epochs=epochs,\n",
        "                       callbacks=[callback])\n",
        "\n",
        "        # Restore the weights to the state before model fitting\n",
        "        self.model.load_weights('tmp.h5')\n",
        "\n",
        "        # Restore the original learning rate\n",
        "        K.set_value(self.model.optimizer.learning_rate, original_lr)\n",
        "\n",
        "    def find_generator(self, generator, start_lr, end_lr, epochs=1, steps_per_epoch=None, **kw_fit):\n",
        "        if steps_per_epoch is None:\n",
        "            try:\n",
        "                steps_per_epoch = len(generator)\n",
        "            except (ValueError, NotImplementedError) as e:\n",
        "                raise e('`steps_per_epoch=None` is only valid for a'\n",
        "                        ' generator based on the '\n",
        "                        '`keras.utils.Sequence`'\n",
        "                        ' class. Please specify `steps_per_epoch` '\n",
        "                        'or use the `keras.utils.Sequence` class.')\n",
        "        self.lr_mult = (float(end_lr) / float(start_lr)) ** (float(1) / float(epochs * steps_per_epoch))\n",
        "\n",
        "        # Save weights into a file\n",
        "        self.model.save_weights('tmp.h5')\n",
        "\n",
        "        # Remember the original learning rate\n",
        "        original_lr = K.get_value(self.model.optimizer.learning_rate)\n",
        "\n",
        "        # Set the initial learning rate\n",
        "        K.set_value(self.model.optimizer.learning_rate, start_lr)\n",
        "\n",
        "        callback = LambdaCallback(on_batch_end=lambda batch,\n",
        "                                                      logs: self.on_batch_end(batch, logs))\n",
        "\n",
        "        self.model.fit_generator(generator=generator,\n",
        "                                 epochs=epochs,\n",
        "                                 steps_per_epoch=steps_per_epoch,\n",
        "                                 callbacks=[callback],\n",
        "                                 **kw_fit)\n",
        "\n",
        "        # Restore the weights to the state before model fitting\n",
        "        self.model.load_weights('tmp.h5')\n",
        "\n",
        "        # Restore the original learning rate\n",
        "        K.set_value(self.model.optimizer.learning_rate, original_lr)\n",
        "\n",
        "    def plot_loss(self, n_skip_beginning=10, n_skip_end=5, x_scale='log'):\n",
        "        \"\"\"\n",
        "        Plots the loss.\n",
        "        Parameters:\n",
        "            n_skip_beginning - number of batches to skip on the left.\n",
        "            n_skip_end - number of batches to skip on the right.\n",
        "        \"\"\"\n",
        "        plt.ylabel(\"loss\")\n",
        "        plt.xlabel(\"learning rate (log scale)\")\n",
        "        plt.plot(self.lrs[n_skip_beginning:-n_skip_end], self.losses[n_skip_beginning:-n_skip_end])\n",
        "        plt.xscale(x_scale)\n",
        "        plt.show()\n",
        "\n",
        "    def plot_loss_change(self, sma=1, n_skip_beginning=10, n_skip_end=5, y_lim=(-0.01, 0.01)):\n",
        "        \"\"\"\n",
        "        Plots rate of change of the loss function.\n",
        "        Parameters:\n",
        "            sma - number of batches for simple moving average to smooth out the curve.\n",
        "            n_skip_beginning - number of batches to skip on the left.\n",
        "            n_skip_end - number of batches to skip on the right.\n",
        "            y_lim - limits for the y axis.\n",
        "        \"\"\"\n",
        "        derivatives = self.get_derivatives(sma)[n_skip_beginning:-n_skip_end]\n",
        "        lrs = self.lrs[n_skip_beginning:-n_skip_end]\n",
        "        plt.ylabel(\"rate of loss change\")\n",
        "        plt.xlabel(\"learning rate (log scale)\")\n",
        "        plt.plot(lrs, derivatives)\n",
        "        plt.xscale('log')\n",
        "        plt.ylim(y_lim)\n",
        "        plt.show()\n",
        "\n",
        "    def get_derivatives(self, sma):\n",
        "        assert sma >= 1\n",
        "        derivatives = [0] * sma\n",
        "        for i in range(sma, len(self.lrs)):\n",
        "            derivatives.append((self.losses[i] - self.losses[i - sma]) / sma)\n",
        "        return derivatives\n",
        "\n",
        "    def get_best_lr(self, sma, n_skip_beginning=10, n_skip_end=5):\n",
        "        derivatives = self.get_derivatives(sma)\n",
        "        best_der_idx = np.argmax(derivatives[n_skip_beginning:-n_skip_end])[0]\n",
        "        return self.lrs[n_skip_beginning:-n_skip_end][best_der_idx]\n"
      ],
      "execution_count": null,
      "outputs": []
    },
    {
      "cell_type": "markdown",
      "metadata": {
        "id": "JLNKLVeeQ38n"
      },
      "source": [
        "###2. Training the Model for LRFinder"
      ]
    },
    {
      "cell_type": "code",
      "metadata": {
        "id": "0a4KTGrnMIa1"
      },
      "source": [
        "lr_finder = LRFinder(model)"
      ],
      "execution_count": null,
      "outputs": []
    },
    {
      "cell_type": "code",
      "metadata": {
        "id": "tMKvrYQZNGH0",
        "colab": {
          "base_uri": "https://localhost:8080/",
          "height": 107
        },
        "outputId": "ae068d69-9b24-4979-b9fd-5355b4b2ac8b"
      },
      "source": [
        "lr_finder.find_generator(training_generator, 0.00001, 0.1, 1, 111)"
      ],
      "execution_count": null,
      "outputs": [
        {
          "output_type": "stream",
          "text": [
            "WARNING:tensorflow:From <ipython-input-13-ed90c6d3805d>:99: Model.fit_generator (from tensorflow.python.keras.engine.training) is deprecated and will be removed in a future version.\n",
            "Instructions for updating:\n",
            "Please use Model.fit, which supports generators.\n",
            "111/111 [==============================] - 1761s 16s/step - loss: 7.6272 - auc: 0.7695 - accuracy: 0.4661 - Precision_0: 0.5076 - Precision_1: 0.3182 - Precision_2: 0.4228 - Precision_3: 0.5921 - Precision_4: 0.6485 - Recall_0: 0.3771 - Recall_1: 0.0692 - Recall_2: 0.1624 - Recall_3: 0.4449 - Recall_4: 0.5028\n"
          ],
          "name": "stdout"
        }
      ]
    },
    {
      "cell_type": "markdown",
      "metadata": {
        "id": "PBNuwKJmRANW"
      },
      "source": [
        "###2. Plot the Loss and Loss change against the Learning Rates"
      ]
    },
    {
      "cell_type": "code",
      "metadata": {
        "id": "ExoJEvUiMmiK",
        "colab": {
          "base_uri": "https://localhost:8080/",
          "height": 283
        },
        "outputId": "acbc85f3-9a65-4212-f860-b0dd551e4d18"
      },
      "source": [
        "lr_finder.plot_loss()"
      ],
      "execution_count": null,
      "outputs": [
        {
          "output_type": "display_data",
          "data": {
            "image/png": "[encoded data removed]",
            "text/plain": [
              "<Figure size 432x288 with 1 Axes>"
            ]
          },
          "metadata": {
            "tags": [],
            "needs_background": "light"
          }
        }
      ]
    },
    {
      "cell_type": "code",
      "metadata": {
        "id": "FHXp45sjN-gX",
        "colab": {
          "base_uri": "https://localhost:8080/",
          "height": 286
        },
        "outputId": "ea5ee0eb-d540-40cb-c91d-f15337bcb366"
      },
      "source": [
        "lr_finder.plot_loss_change(sma=20, n_skip_beginning=20, n_skip_end=5, y_lim=(-0.02, 0.1))"
      ],
      "execution_count": null,
      "outputs": [
        {
          "output_type": "display_data",
          "data": {
            "image/png": "[encoded data removed]",
            "text/plain": [
              "<Figure size 432x288 with 1 Axes>"
            ]
          },
          "metadata": {
            "tags": [],
            "needs_background": "light"
          }
        }
      ]
    },
    {
      "cell_type": "markdown",
      "metadata": {
        "id": "oMGUK_LaLogS"
      },
      "source": [
        "# **Function to detect and remove corrupt files**"
      ]
    },
    {
      "cell_type": "code",
      "metadata": {
        "id": "V9NWcTrjLvCm"
      },
      "source": [
        "# Remove the corrupt file in all directories if it exist\n",
        "# This will also allow to load truncated images\n",
        "from PIL import ImageFile\n",
        "ImageFile.LOAD_TRUNCATED_IMAGES = True\n",
        "i = 0\n",
        "for fn in training_generator.filenames:\n",
        "    try:\n",
        "        im=Image.open(train_dir + fn)\n",
        "    except IOError:\n",
        "        i += 1\n",
        "        print(\"Corrupt File has been Found\")\n",
        "        os.remove(train_dir + fn)\n",
        "print(\"Number of Corrupt files: \", str(i))"
      ],
      "execution_count": null,
      "outputs": []
    },
    {
      "cell_type": "markdown",
      "metadata": {
        "id": "gMSHKqZOk-Hx"
      },
      "source": [
        "# **Remove the extra files and folders in the Dataset on Drive**"
      ]
    },
    {
      "cell_type": "code",
      "metadata": {
        "id": "xbf4WbjBk8iX"
      },
      "source": [
        "import os\n",
        "import shutil\n",
        "# Removefrom Test and Validation Folder\n",
        "os.listdir(\"/content/drive/My Drive/EyePacDatasetUnderSampled/test&val\") #First find where the \".ipynb_checkpoints\" is located.\n",
        "shutil.rmtree(\"/content/drive/My Drive/EyePacDatasetUnderSampled/test&val/.ipynb_checkpoints\") #Delete \".ipynb_checkpoints\"\n",
        "# Remove from Train Folder \n",
        "os.listdir(\"/content/drive/My Drive/EyePacDatasetUnderSampled/test&val\") #First find where the \".ipynb_checkpoints\" is located.\n",
        "shutil.rmtree(\"/content/drive/My Drive/EyePacDatasetUnderSampled/test&val/.ipynb_checkpoints\") #Delete \".ipynb_checkpoints\""
      ],
      "execution_count": null,
      "outputs": []
    },
    {
      "cell_type": "markdown",
      "metadata": {
        "id": "YT4W78bQ8D0w"
      },
      "source": [
        "# **Freezing**"
      ]
    },
    {
      "cell_type": "code",
      "metadata": {
        "id": "jUbJlX918HKk"
      },
      "source": [
        ""
      ],
      "execution_count": null,
      "outputs": []
    }
  ]
}